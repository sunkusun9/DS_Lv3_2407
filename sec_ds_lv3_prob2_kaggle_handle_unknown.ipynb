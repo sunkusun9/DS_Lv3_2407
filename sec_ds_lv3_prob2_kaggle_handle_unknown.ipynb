{
 "cells": [
  {
   "cell_type": "markdown",
   "id": "0aa73290",
   "metadata": {},
   "source": [
    "## 문제 6\n",
    "\n",
    "**Kaggle 형** train_prob.csv로 문제 target을 예측하는 모델을 만들고, \n",
    "\n",
    "test_prob.csv에 대한 target 예측하여 다음과 같은 형식의 answer6.csv를 만들어라.\n",
    "\n",
    "id, target\n",
    "\n",
    "0, 6.9\n",
    "\n",
    "5, 7.8\n",
    "\n",
    "...\n",
    "\n",
    "\n",
    "**평가지표**\n",
    "\n",
    "$RMSE(Y, \\hat{Y}) = \\sqrt{\\frac{1}{n}\\sum^{n}_{i=1}(y_i-\\hat{y_i})^2}$\n",
    "\n",
    "**강사: 멀티캠퍼스 강선구(sunku0316.kang@multicampus.com, sun9sun9@gmail.com)**"
   ]
  },
  {
   "cell_type": "code",
   "execution_count": 1,
   "id": "c8af540a",
   "metadata": {},
   "outputs": [
    {
     "name": "stdout",
     "output_type": "stream",
     "text": [
      "3.7.4 (tags/v3.7.4:e09359112e, Jul  8 2019, 20:34:20) [MSC v.1916 64 bit (AMD64)]\n",
      "pandas 0.25.1\n",
      "numpy 1.18.5\n",
      "sklearn 0.21.3\n",
      "scipy 1.5.2\n",
      "mlxtend 0.15.0.0\n",
      "statsmodels 0.11.1\n",
      "xgboost 0.80\n"
     ]
    }
   ],
   "source": [
    "# 실행 환경 확인\n",
    "\n",
    "import pandas as pd\n",
    "import numpy as np\n",
    "import sklearn\n",
    "import scipy\n",
    "import statsmodels\n",
    "import mlxtend\n",
    "import sys\n",
    "import xgboost as xgb\n",
    "\n",
    "print(sys.version)\n",
    "for i in [pd, np, sklearn, scipy, mlxtend, statsmodels, xgb]:\n",
    "    print(i.__name__, i.__version__)"
   ]
  },
  {
   "cell_type": "markdown",
   "id": "38c8fb6c",
   "metadata": {},
   "source": [
    "# 데이터 탐색 및 처리"
   ]
  },
  {
   "cell_type": "code",
   "execution_count": 2,
   "id": "9c02b1b8",
   "metadata": {},
   "outputs": [],
   "source": [
    "df_train = pd.read_csv('train_prob.csv', index_col='id')\n",
    "df_test = pd.read_csv('test_prob.csv', index_col='id')\n",
    "df_ans = pd.read_csv('test_prob_ans.csv', index_col='id')"
   ]
  },
  {
   "cell_type": "code",
   "execution_count": 3,
   "id": "52b5a724",
   "metadata": {},
   "outputs": [
    {
     "name": "stdout",
     "output_type": "stream",
     "text": [
      "cat3 {'B': 'C'} [83634, 147361, 9005]\n",
      "cat4 {'A': 'B', 'D': 'B'} [239397, 603]\n",
      "cat6 {'D': 'A', 'E': 'B', 'G': 'C', 'H': 'B', 'I': 'A'} [234203, 5145, 652]\n",
      "cat7 {'A': 'B', 'C': 'B', 'F': 'D', 'I': 'B'} [4606, 19784, 214027, 1583]\n",
      "cat8 {'B': 'G', 'F': 'E'} [30338, 96743, 2953, 76085, 33881]\n",
      "cat9 {'C': 'H', 'D': 'B', 'E': 'L'} [10678, 2846, 85944, 8320, 19987, 40070, 5501, 16743, 33793, 7819, 3331, 4968]\n"
     ]
    }
   ],
   "source": [
    "# 처리 과정에 필요하 내용들을 list 형태로 구성합니다.\n",
    "repl_list = [\n",
    "    ('cat3', {'B': 'C'}, [83634, 147361, 9005]),\n",
    "    ('cat4', {'A': 'B', 'D': 'B'}, [239397, 603]),\n",
    "    ('cat6', {'D': 'A', 'E': 'B', 'G': 'C', 'H': 'B', 'I': 'A'}, [234203, 5145, 652]),\n",
    "    ('cat7', {'A': 'B', 'C': 'B', 'F': 'D', 'I': 'B'}, [4606, 19784, 214027, 1583]),\n",
    "    ('cat8', {'B': 'G', 'F': 'E'}, [30338, 96743, 2953, 76085, 33881]),\n",
    "    ('cat9', {'C': 'H', 'D': 'B', 'E': 'L'}, [10678, 2846, 85944, 8320, 19987, 40070, 5501, 16743, 33793, 7819, 3331, 4968])\n",
    "]\n",
    "# 반복문 처리 내용들을 수행합니다.\n",
    "for v, d, cnts in repl_list:\n",
    "    print(v, d, cnts)\n",
    "    # 치환후 내용을 s_repl에 저장합니다\n",
    "    s_repl = df_train[v].replace(d)\n",
    "    # 치환결과를 확인합니다.\n",
    "    if (s_repl.nunique() != len(cnts)) or ((s_repl.value_counts().sort_index() != cnts).any()):\n",
    "        print(s_repl.value_counts())\n",
    "        break\n",
    "    df_train[v] = s_repl\n",
    "    if v != 'cat9':\n",
    "        df_test[v] = df_test[v].replace(d)\n",
    "    \n",
    "cat_cols = ['cat{}'.format(i) for i in range(10)]\n",
    "cont_cols = ['cont{}'.format(i) for i in range(14)]"
   ]
  },
  {
   "cell_type": "code",
   "execution_count": 4,
   "id": "1a17bde9",
   "metadata": {},
   "outputs": [],
   "source": [
    "from sklearn.model_selection import cross_val_predict\n",
    "from sklearn.preprocessing import OneHotEncoder\n",
    "from sklearn.pipeline import make_pipeline\n",
    "from sklearn.compose import ColumnTransformer\n",
    "from scipy.stats import norm\n",
    "\n",
    "import os\n",
    "\n",
    "X_all = df_test.columns.tolist()\n",
    "df_train['targetA'] = df_train['target'] <= 7.45\n",
    "\n",
    "# 시간이 오래걸리므로 저장해두고, 저장 결과가 없을 시 실행합니다.\n",
    "# 실제 시험을 고려한 루틴이기 보다는, 이 노트를 리뷰할 때 좀 더 시간을 절약할 수 있게 고안된 것입니다.\n",
    "# 처리과정을 재 실행하려면 생성된  targetA_train.csv를 삭제해야 합니다.\n",
    "if not os.path.isfile('targetA_train.csv'):\n",
    "    # 문제 3에서 targetA에 대한 예측 모델을 사용합니다,\n",
    "    df_train_clf = df_train.assign(\n",
    "        prob_A = 1 - norm.cdf(df_train['target'], loc=6.769, scale=0.616),\n",
    "        prob_B = norm.cdf(df_train['target'], loc=8.123, scale=0.527)\n",
    "    ).query('prob_B < 0.01 or prob_A < 0.01').copy()\n",
    "    \n",
    "    clf_xgb = make_pipeline( \n",
    "            ColumnTransformer([\n",
    "                ('ohe', OneHotEncoder(handle_unknown='ignore'), cat_cols),\n",
    "                ('pt', 'passthrough', cont_cols)\n",
    "            ]),\n",
    "            xgb.XGBClassifier(\n",
    "                max_depth = 2, # 트리의 최대 깊이 2\n",
    "                reg_alpha = 0.1, # L1 규제 0.1\n",
    "                reg_lambda = 0.1, # L2 규제 0.1\n",
    "                colsample_bytree=0.25, # 트리 당 컬럼 샘플링 비율 0.25\n",
    "                n_estimators=500, # 트리의 수 500\n",
    "                random_state=123, # random_state 123\n",
    "            )\n",
    "    )\n",
    "    \n",
    "    clf_xgb.fit(df_train_clf[X_all], df_train_clf['targetA'])\n",
    "    df_targetA_train = pd.DataFrame({'targetA_prob': clf_xgb.predict_proba(df_train[X_all])[:, 1]}, index=df_train.index)\n",
    "    # 여기까지 처리를 통해서도 어느 정도 효과를 얻을 수 있습니다.\n",
    "    \n",
    "    # 두 개의 라인의 처리로 더욱 효과적인 속성이 됩니다.\n",
    "    # cross_val_predict로 쉽게 할 수 있습니다. 교차 검증시 겹외셋에 대한 예측을 결과를 반환합니다.\n",
    "    # train셋에 대한 예측 분포가 아닌 train을 제외한 예측에 대한 분포를 지니도록 합니다.\n",
    "    targetA_prob_cv = cross_val_predict(clf_xgb, df_train_clf[X_all], df_train_clf['targetA'], cv=5, method='predict_proba')\n",
    "    # df_train_clf에 있는 해당하는 예측은 교차검증의 예측값으로 대체합니다.\n",
    "    # 이 처리를 했을 때와 안 했을 때의 결과 차이를 확인해보시고면, 그 차이를 체감하실 수 있습니다.\n",
    "    df_targetA_train.loc[df_targetA_train.index.isin(df_train_clf.index), 'targetA_prob'] = targetA_prob_cv[:, 1]\n",
    "    \n",
    "    df_targetA_train.to_csv('targetA_train.csv')\n",
    "    df_targetA_test = pd.DataFrame({'targetA_prob': clf_xgb.predict_proba(df_test[X_all])[:, 1]}, index=df_test.index)\n",
    "    df_targetA_test.to_csv('targetA_test.csv')\n",
    "else:\n",
    "    # 저장된 결과를 불러옵니다.\n",
    "    df_targetA_train = pd.read_csv('targetA_train.csv', index_col='id')\n",
    "    df_targetA_test = pd.read_csv('targetA_test.csv', index_col='id')"
   ]
  },
  {
   "cell_type": "code",
   "execution_count": 5,
   "id": "4e2e616e",
   "metadata": {},
   "outputs": [],
   "source": [
    "df_train['targetA_prob'] = df_targetA_train['targetA_prob']\n",
    "df_test['targetA_prob'] = df_targetA_test['targetA_prob']"
   ]
  },
  {
   "cell_type": "code",
   "execution_count": 6,
   "id": "442c0a1d",
   "metadata": {},
   "outputs": [],
   "source": [
    "q = [i for i in np.arange(0, 1.01, 0.01)]\n",
    "# 나머지 변수에 대해서도 해당 파생 변수를 만들어 줍니다.\n",
    "for i in cont_cols:\n",
    "    q_val = df_train[i].quantile(q)\n",
    "    q_val.iloc[[0, -1]] = [-np.inf, np.inf]\n",
    "    q_cut = pd.cut(df_train[i], bins=q_val)\n",
    "    q_mean = df_train.groupby(q_cut)['target'].mean()\n",
    "    df_train[i + '_q'] = q_cut.map(q_mean).astype('float')\n",
    "    df_test[i + '_q'] = pd.cut(df_test[i], bins=q_val).map(q_mean).astype('float')"
   ]
  },
  {
   "cell_type": "code",
   "execution_count": 7,
   "id": "2e68b0c7",
   "metadata": {},
   "outputs": [],
   "source": [
    "s_hist = []"
   ]
  },
  {
   "cell_type": "code",
   "execution_count": 8,
   "id": "0c0e255c",
   "metadata": {},
   "outputs": [],
   "source": [
    "# 공통\n",
    "from sklearn.pipeline import make_pipeline\n",
    "from sklearn.compose import ColumnTransformer\n",
    "from sklearn.preprocessing import OneHotEncoder, StandardScaler\n",
    "from sklearn.metrics import accuracy_score, mean_squared_error\n",
    "from sklearn.metrics import make_scorer, mean_squared_error\n",
    "from sklearn.model_selection import ShuffleSplit, KFold\n",
    "\n",
    "cv = KFold(n_splits=5, random_state=123)\n",
    "# train(80%)/test(20%) 한 번으로 검증합니다. XGB, RF등 오래 걸리는 모델을 위해 사용합니다.\n",
    "ss = ShuffleSplit(n_splits=1, train_size=0.8, random_state=123)\n",
    "\n",
    "df_ans = pd.read_csv('test_prob_ans.csv', index_col='id')\n",
    "X_all = df_test.columns.tolist()  + ['targetA_prob']\n",
    "\n",
    "cat_cols = ['cat{}'.format(i) for i in range(10)]\n",
    "cont_cols = ['cont{}'.format(i) for i in range(14)]\n",
    "cont_q_cols = ['cont{}_q'.format(i) for i in range(14)]\n",
    "\n",
    "# 위에서 발생한 leak을 바로 잡아 교차검증을 합니다.\n",
    "q = [i for i in np.arange(0, 1.01, 0.01)]\n",
    "def eval_model(model_name, model, sp):\n",
    "    score_train, score_valid = list(), list()\n",
    "    for train_idx, valid_idx in sp.split(df_train):\n",
    "        df_cv_train, df_valid = df_train.iloc[train_idx].copy(), df_train.iloc[valid_idx].copy()\n",
    "        # 시험에서 구현하기 어려울 수 있으니, 시험 때는 leakage가 있어 성능에 측정에 왜곡이 있음을 고려하고 cross_validate를 \n",
    "        # 사용해서 구성을 해도 됩니다.\n",
    "        # 검증셋에서 train으로 파생변수를 만들고\n",
    "        # 검증셋의 test(겹외셋)에 검증셋의 train으로 만든 통계값(mean)을 반영합니다.\n",
    "        for i in cont_cols:\n",
    "            q_val =  df_cv_train[i].quantile(q)\n",
    "            q_val.iloc[[0, -1]] = [-np.inf, np.inf]\n",
    "            q_cut = pd.cut(df_cv_train[i], bins=q_val)\n",
    "            q_mean = df_cv_train.groupby(q_cut)['target'].mean()\n",
    "            df_cv_train[i + '_q'] = q_cut.map(q_mean).astype('float')\n",
    "            df_valid[i + '_q'] = pd.cut(df_valid[i], bins=q_val).map(q_mean).astype('float')\n",
    "        model.fit(df_cv_train[X_all], df_cv_train['target'])\n",
    "        score_valid.append((mean_squared_error(df_valid['target'], model.predict(df_valid[X_all]))) ** 0.5)\n",
    "        score_train.append((mean_squared_error(df_cv_train['target'], model.predict(df_cv_train[X_all]))) ** 0.5)\n",
    "        \n",
    "    output = 'Valid: {:.5f}±{:.5f},  V.Train: {:.5f}±{:.5f}'.format( \n",
    "            np.mean(score_valid), np.std(score_valid),\n",
    "            np.mean(score_train), np.std(score_train),\n",
    "        )\n",
    "    print(output)\n",
    "    s_hist.append(pd.Series([model_name, output, np.mean(score_valid)], index=['model name', 'result', 'score']))\n",
    "    df_result = pd.DataFrame(s_hist)\n",
    "    display(df_result.loc[df_result['model name'] == model_name])\n",
    "    display(df_result.loc[df_result['score'].idxmin()])\n",
    "\n",
    "def select_model(model):\n",
    "    model.fit(df_train[X_all], df_train['target'])\n",
    "    prd = model.predict(df_test[X_all])\n",
    "    pd.DataFrame({\n",
    "        'id': df_test.index.values,\n",
    "        'target': prd\n",
    "    }).to_csv('answer6.csv', index = None)\n",
    "    return prd "
   ]
  },
  {
   "cell_type": "code",
   "execution_count": 9,
   "id": "ce507a0d",
   "metadata": {},
   "outputs": [
    {
     "name": "stdout",
     "output_type": "stream",
     "text": [
      "Valid: 0.86327±0.00295,  V.Train: 0.86304±0.00074\n"
     ]
    },
    {
     "data": {
      "text/html": [
       "<div>\n",
       "<style scoped>\n",
       "    .dataframe tbody tr th:only-of-type {\n",
       "        vertical-align: middle;\n",
       "    }\n",
       "\n",
       "    .dataframe tbody tr th {\n",
       "        vertical-align: top;\n",
       "    }\n",
       "\n",
       "    .dataframe thead th {\n",
       "        text-align: right;\n",
       "    }\n",
       "</style>\n",
       "<table border=\"1\" class=\"dataframe\">\n",
       "  <thead>\n",
       "    <tr style=\"text-align: right;\">\n",
       "      <th></th>\n",
       "      <th>model name</th>\n",
       "      <th>result</th>\n",
       "      <th>score</th>\n",
       "    </tr>\n",
       "  </thead>\n",
       "  <tbody>\n",
       "    <tr>\n",
       "      <td>0</td>\n",
       "      <td>baseline</td>\n",
       "      <td>Valid: 0.86327±0.00295,  V.Train: 0.86304±0.00074</td>\n",
       "      <td>0.863271</td>\n",
       "    </tr>\n",
       "  </tbody>\n",
       "</table>\n",
       "</div>"
      ],
      "text/plain": [
       "  model name                                             result     score\n",
       "0   baseline  Valid: 0.86327±0.00295,  V.Train: 0.86304±0.00074  0.863271"
      ]
     },
     "metadata": {},
     "output_type": "display_data"
    },
    {
     "data": {
      "text/plain": [
       "model name                                             baseline\n",
       "result        Valid: 0.86327±0.00295,  V.Train: 0.86304±0.00074\n",
       "score                                                  0.863271\n",
       "Name: 0, dtype: object"
      ]
     },
     "metadata": {},
     "output_type": "display_data"
    }
   ],
   "source": [
    "from sklearn.linear_model import LinearRegression\n",
    "# handle_unknown='ignore': 등장하지 않는 범주값은 아무처리 없이 사용합니다. 해당 케이스에서는 가변수는 모두 0이 됩니다.\n",
    "# handle_unknown='ignore' 과 drop=파라메터 설정은 동시에 되지 않습니다. (에러 발생)\n",
    "# drop=을 통해 하나의 가변수를 제외하지 않으면 선형 모델 입력에 완전한 다중공선성이 생깁니다.\n",
    "ct = ColumnTransformer([\n",
    "    ('ohe', OneHotEncoder(handle_unknown='ignore'), cat_cols),\n",
    "    ('std', StandardScaler(), cont_cols)\n",
    "])\n",
    "\n",
    "reg_lr = make_pipeline(ct, LinearRegression())\n",
    "# 교차 검증시에는 아무런 문제가 보이지 않습니다.\n",
    "eval_model('baseline', reg_lr, cv)"
   ]
  },
  {
   "cell_type": "code",
   "execution_count": 10,
   "id": "95a4f40b",
   "metadata": {},
   "outputs": [
    {
     "name": "stdout",
     "output_type": "stream",
     "text": [
      "baseline 채점 결과: 3514777007.3882246\n"
     ]
    }
   ],
   "source": [
    "# 하지만 test에서는 심각한 문제가 발생합니다.\n",
    "prd = select_model(reg_lr)\n",
    "print(\"baseline 채점 결과:\",  mean_squared_error(df_ans['target'], prd) ** 0.5)"
   ]
  },
  {
   "cell_type": "code",
   "execution_count": 11,
   "id": "3588e89d",
   "metadata": {},
   "outputs": [
    {
     "data": {
      "text/plain": [
       "array([ 8.88603061e+09,  8.88603061e+09, -8.38064646e+09, -8.38064646e+09,\n",
       "       -9.88098395e+09, -9.88098395e+09,  8.58976592e+09,  8.58976592e+09,\n",
       "        8.58976592e+09,  1.22720922e+11,  1.22720922e+11,  7.02048573e+09,\n",
       "        7.02048573e+09,  7.02048573e+09,  7.02048573e+09,  4.94934768e+10,\n",
       "        4.94934768e+10,  4.94934768e+10,  1.25524042e+11,  1.25524042e+11,\n",
       "        1.25524042e+11,  1.25524042e+11, -4.84038575e+09, -4.84038575e+09,\n",
       "       -4.84038575e+09, -4.84038575e+09, -4.84038575e+09,  9.68634328e+10,\n",
       "        9.68634328e+10,  9.68634328e+10,  9.68634328e+10,  9.68634328e+10,\n",
       "        9.68634328e+10,  9.68634328e+10,  9.68634328e+10,  9.68634328e+10,\n",
       "        9.68634328e+10,  9.68634328e+10,  9.68634328e+10, -5.82885742e-02,\n",
       "        3.45573425e-02,  2.10189819e-03, -5.52368164e-03, -5.50842285e-03,\n",
       "       -5.46493530e-02,  2.36263275e-02,  1.55296326e-02,  6.80694580e-02,\n",
       "        2.72369385e-02, -2.11944580e-02,  5.17578125e-02,  1.56860352e-02,\n",
       "       -5.84411621e-03])"
      ]
     },
     "execution_count": 11,
     "metadata": {},
     "output_type": "execute_result"
    }
   ],
   "source": [
    "# 모델의 상태를 봅니다.\n",
    "# 발생한 완전한 다중 공성성에 의해 비정상적으로 회귀계수가 커져 있습니다.\n",
    "reg_lr = make_pipeline(ct, LinearRegression())\n",
    "reg_lr.fit(df_train[X_all], df_train['target'])\n",
    "reg_lr[1].coef_"
   ]
  },
  {
   "cell_type": "code",
   "execution_count": 12,
   "id": "a5945f93",
   "metadata": {},
   "outputs": [
    {
     "data": {
      "text/plain": [
       "cat0           {}\n",
       "cat1           {}\n",
       "cat2           {}\n",
       "cat3           {}\n",
       "cat4           {}\n",
       "cat5           {}\n",
       "cat6           {}\n",
       "cat7           {}\n",
       "cat8           {}\n",
       "cat9    {D, C, E}\n",
       "dtype: object"
      ]
     },
     "execution_count": 12,
     "metadata": {},
     "output_type": "execute_result"
    }
   ],
   "source": [
    "# 변수별로 train, test 셋이 등장 범주를 찾아 set으로 저장하고, \n",
    "# 차집합 연산을 통해 test에만 등장하는 범주값을 찾습니다.\n",
    "\n",
    "pd.concat([\n",
    "    df_train[cat_cols].apply(lambda x: set(x.unique()), axis=0).rename('train'),\n",
    "    df_test[cat_cols].apply(lambda x: set(x.unique()), axis=0).rename('test')\n",
    "], axis=1).apply(\n",
    "    lambda x: x['test'] - x['train'], axis=1\n",
    ")"
   ]
  },
  {
   "cell_type": "code",
   "execution_count": 13,
   "id": "0ba9e464",
   "metadata": {},
   "outputs": [],
   "source": [
    "# 등장하지 않는 범주를 train에 등장하는 케이스로 바꿉니다.\n",
    "# 이 경우는 최빈값으로 대체했습니다.\n",
    "\n",
    "df_test['cat9'] = df_test['cat9'].replace({'E': np.nan, 'D': np.nan, 'C': np.nan}).fillna(df_train['cat9'].mode().iloc[0])"
   ]
  },
  {
   "cell_type": "code",
   "execution_count": 14,
   "id": "fe5a2be8",
   "metadata": {},
   "outputs": [
    {
     "name": "stdout",
     "output_type": "stream",
     "text": [
      "Valid: 0.86325±0.00295,  V.Train: 0.86300±0.00073\n"
     ]
    },
    {
     "data": {
      "text/html": [
       "<div>\n",
       "<style scoped>\n",
       "    .dataframe tbody tr th:only-of-type {\n",
       "        vertical-align: middle;\n",
       "    }\n",
       "\n",
       "    .dataframe tbody tr th {\n",
       "        vertical-align: top;\n",
       "    }\n",
       "\n",
       "    .dataframe thead th {\n",
       "        text-align: right;\n",
       "    }\n",
       "</style>\n",
       "<table border=\"1\" class=\"dataframe\">\n",
       "  <thead>\n",
       "    <tr style=\"text-align: right;\">\n",
       "      <th></th>\n",
       "      <th>model name</th>\n",
       "      <th>result</th>\n",
       "      <th>score</th>\n",
       "    </tr>\n",
       "  </thead>\n",
       "  <tbody>\n",
       "    <tr>\n",
       "      <td>0</td>\n",
       "      <td>baseline</td>\n",
       "      <td>Valid: 0.86327±0.00295,  V.Train: 0.86304±0.00074</td>\n",
       "      <td>0.863271</td>\n",
       "    </tr>\n",
       "    <tr>\n",
       "      <td>1</td>\n",
       "      <td>baseline</td>\n",
       "      <td>Valid: 0.86325±0.00295,  V.Train: 0.86300±0.00073</td>\n",
       "      <td>0.863246</td>\n",
       "    </tr>\n",
       "  </tbody>\n",
       "</table>\n",
       "</div>"
      ],
      "text/plain": [
       "  model name                                             result     score\n",
       "0   baseline  Valid: 0.86327±0.00295,  V.Train: 0.86304±0.00074  0.863271\n",
       "1   baseline  Valid: 0.86325±0.00295,  V.Train: 0.86300±0.00073  0.863246"
      ]
     },
     "metadata": {},
     "output_type": "display_data"
    },
    {
     "data": {
      "text/plain": [
       "model name                                             baseline\n",
       "result        Valid: 0.86325±0.00295,  V.Train: 0.86300±0.00073\n",
       "score                                                  0.863246\n",
       "Name: 1, dtype: object"
      ]
     },
     "metadata": {},
     "output_type": "display_data"
    }
   ],
   "source": [
    "from sklearn.linear_model import LinearRegression\n",
    "\n",
    "# Baseline 모델을 만들어 봅니다.\n",
    "# handle_unknown을 ignore로 하여 등장하지 않은 수준에 대해 에러가 발생하지 않도록 합니다.\n",
    "# 이 경우 해당 변수의 가변수 모든 값은 0이 됩니다.\n",
    "# handle_unknown = 'ignore'와 drop='first'를 동시에 설정할 수 없습니다.\n",
    "# drop='first'를 생략하면 어떤 문제가 발생하는지 확인하기 위해 drop='first'를 제외합니다.\n",
    "ct = ColumnTransformer([\n",
    "    ('ohe', OneHotEncoder(drop='first'), cat_cols),\n",
    "    ('std', StandardScaler(), cont_cols)\n",
    "])\n",
    "\n",
    "reg_lr = make_pipeline(ct, LinearRegression())\n",
    "eval_model('baseline', reg_lr, cv)"
   ]
  },
  {
   "cell_type": "code",
   "execution_count": 15,
   "id": "af850d0e",
   "metadata": {},
   "outputs": [
    {
     "data": {
      "text/plain": [
       "array([-0.14737833,  0.16983335,  0.24147158,  0.10693804,  0.03994362,\n",
       "        0.15713566,  0.03681214, -0.17486971,  0.03074087,  0.21519861,\n",
       "        0.36870383, -0.00597853, -0.05547379, -0.05870304, -0.00092302,\n",
       "        0.05854559,  0.07181603, -0.10018803,  0.03508515,  0.13365193,\n",
       "        0.1647826 ,  0.08022279, -0.00404722,  0.02865399,  0.09003857,\n",
       "        0.21092791,  0.09276305,  0.09655687,  0.07017521, -0.05824285,\n",
       "        0.03454985,  0.00214071, -0.00554697, -0.00543278, -0.05465513,\n",
       "        0.02359775,  0.01552286,  0.06808225,  0.0272966 , -0.02116763,\n",
       "        0.05174013,  0.01574269, -0.0058063 ])"
      ]
     },
     "execution_count": 15,
     "metadata": {},
     "output_type": "execute_result"
    }
   ],
   "source": [
    "# 모델의 상태를 봅니다.\n",
    "# 지나치게 회귀 계수가 커졌던 문제가 해결 됩니다.\n",
    "reg_lr = make_pipeline(ct, LinearRegression())\n",
    "reg_lr.fit(df_train[X_all], df_train['target'])\n",
    "reg_lr[1].coef_"
   ]
  },
  {
   "cell_type": "code",
   "execution_count": 16,
   "id": "40c4d7e1",
   "metadata": {},
   "outputs": [
    {
     "name": "stdout",
     "output_type": "stream",
     "text": [
      "baseline 채점 결과: 0.8657268588416211\n"
     ]
    }
   ],
   "source": [
    "prd = select_model(reg_lr)\n",
    "print(\"baseline 채점 결과:\",  mean_squared_error(df_ans['target'], prd) ** 0.5)"
   ]
  },
  {
   "cell_type": "code",
   "execution_count": null,
   "id": "98468f67",
   "metadata": {},
   "outputs": [],
   "source": []
  }
 ],
 "metadata": {
  "kernelspec": {
   "display_name": "Python 3 (ipykernel)",
   "language": "python",
   "name": "python3"
  },
  "language_info": {
   "codemirror_mode": {
    "name": "ipython",
    "version": 3
   },
   "file_extension": ".py",
   "mimetype": "text/x-python",
   "name": "python",
   "nbconvert_exporter": "python",
   "pygments_lexer": "ipython3",
   "version": "3.7.4"
  }
 },
 "nbformat": 4,
 "nbformat_minor": 5
}
