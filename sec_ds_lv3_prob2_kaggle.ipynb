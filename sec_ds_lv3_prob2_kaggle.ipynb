{
 "cells": [
  {
   "cell_type": "markdown",
   "id": "0aa73290",
   "metadata": {},
   "source": [
    "## 문제 6\n",
    "\n",
    "**Kaggle 형** train_prob.csv로 문제 target을 예측하는 모델을 만들고, \n",
    "\n",
    "test_prob.csv에 대한 target 예측하여 다음과 같은 형식의 answer6.csv를 만들어라.\n",
    "\n",
    "id, target\n",
    "\n",
    "0, 6.9\n",
    "\n",
    "5, 7.8\n",
    "\n",
    "...\n",
    "\n",
    "\n",
    "**평가지표**\n",
    "\n",
    "$RMSE(Y, \\hat{Y}) = \\sqrt{\\frac{1}{n}\\sum^{n}_{i=1}(y_i-\\hat{y_i})^2}$\n",
    "\n",
    "**강사: 멀티캠퍼스 강선구(sunku0316.kang@multicampus.com, sun9sun9@gmail.com)**"
   ]
  },
  {
   "cell_type": "code",
   "execution_count": 1,
   "id": "c8af540a",
   "metadata": {},
   "outputs": [
    {
     "name": "stdout",
     "output_type": "stream",
     "text": [
      "3.7.4 (tags/v3.7.4:e09359112e, Jul  8 2019, 20:34:20) [MSC v.1916 64 bit (AMD64)]\n",
      "pandas 0.25.1\n",
      "numpy 1.18.5\n",
      "sklearn 0.21.3\n",
      "scipy 1.5.2\n",
      "mlxtend 0.15.0.0\n",
      "statsmodels 0.11.1\n",
      "xgboost 0.80\n"
     ]
    }
   ],
   "source": [
    "# 실행 환경 확인\n",
    "\n",
    "import pandas as pd\n",
    "import numpy as np\n",
    "import sklearn\n",
    "import scipy\n",
    "import statsmodels\n",
    "import mlxtend\n",
    "import sys\n",
    "import xgboost as xgb\n",
    "\n",
    "print(sys.version)\n",
    "for i in [pd, np, sklearn, scipy, mlxtend, statsmodels, xgb]:\n",
    "    print(i.__name__, i.__version__)"
   ]
  },
  {
   "cell_type": "markdown",
   "id": "d7f6b06e",
   "metadata": {},
   "source": [
    "# 데이터 탐색 및 처리"
   ]
  },
  {
   "cell_type": "code",
   "execution_count": 2,
   "id": "d721300c",
   "metadata": {},
   "outputs": [],
   "source": [
    "df_train = pd.read_csv('train_prob.csv', index_col='id')\n",
    "df_test = pd.read_csv('test_prob.csv', index_col='id')\n",
    "df_ans = pd.read_csv('test_prob_ans.csv', index_col='id')"
   ]
  },
  {
   "cell_type": "code",
   "execution_count": 3,
   "id": "4f83b940",
   "metadata": {},
   "outputs": [
    {
     "name": "stdout",
     "output_type": "stream",
     "text": [
      "cat3 {'B': 'C'} [83634, 147361, 9005]\n",
      "cat4 {'A': 'B', 'D': 'B'} [239397, 603]\n",
      "cat6 {'D': 'A', 'E': 'B', 'G': 'C', 'H': 'B', 'I': 'A'} [234203, 5145, 652]\n",
      "cat7 {'A': 'B', 'C': 'B', 'F': 'D', 'I': 'B'} [4606, 19784, 214027, 1583]\n",
      "cat8 {'B': 'G', 'F': 'E'} [30338, 96743, 2953, 76085, 33881]\n",
      "cat9 {'C': 'H', 'D': 'B', 'E': 'L'} [10678, 2846, 85944, 8320, 19987, 40070, 5501, 16743, 33793, 7819, 3331, 4968]\n"
     ]
    }
   ],
   "source": [
    "# 처리 과정에 필요하 내용들을 list 형태로 구성합니다.\n",
    "repl_list = [\n",
    "    ('cat3', {'B': 'C'}, [83634, 147361, 9005]),\n",
    "    ('cat4', {'A': 'B', 'D': 'B'}, [239397, 603]),\n",
    "    ('cat6', {'D': 'A', 'E': 'B', 'G': 'C', 'H': 'B', 'I': 'A'}, [234203, 5145, 652]),\n",
    "    ('cat7', {'A': 'B', 'C': 'B', 'F': 'D', 'I': 'B'}, [4606, 19784, 214027, 1583]),\n",
    "    ('cat8', {'B': 'G', 'F': 'E'}, [30338, 96743, 2953, 76085, 33881]),\n",
    "    ('cat9', {'C': 'H', 'D': 'B', 'E': 'L'}, [10678, 2846, 85944, 8320, 19987, 40070, 5501, 16743, 33793, 7819, 3331, 4968])\n",
    "]\n",
    "# 반복문 처리 내용들을 수행합니다.\n",
    "for v, d, cnts in repl_list:\n",
    "    print(v, d, cnts)\n",
    "    # 치환후 내용을 s_repl에 저장합니다\n",
    "    s_repl = df_train[v].replace(d)\n",
    "    # 치환결과를 확인합니다.\n",
    "    if (s_repl.nunique() != len(cnts)) or ((s_repl.value_counts().sort_index() != cnts).any()):\n",
    "        print(s_repl.value_counts())\n",
    "        break\n",
    "    df_train[v] = s_repl\n",
    "    df_test[v] = df_test[v].replace(d)\n",
    "    \n",
    "cat_cols = ['cat{}'.format(i) for i in range(10)]\n",
    "cont_cols = ['cont{}'.format(i) for i in range(14)]"
   ]
  },
  {
   "cell_type": "code",
   "execution_count": 4,
   "id": "ff6f3b16",
   "metadata": {},
   "outputs": [],
   "source": [
    "from sklearn.model_selection import cross_val_predict\n",
    "from sklearn.preprocessing import OneHotEncoder\n",
    "from sklearn.pipeline import make_pipeline\n",
    "from sklearn.compose import ColumnTransformer\n",
    "from scipy.stats import norm\n",
    "\n",
    "import os\n",
    "\n",
    "X_all = df_test.columns.tolist()\n",
    "df_train['targetA'] = df_train['target'] <= 7.45\n",
    "\n",
    "# 시간이 오래걸리므로 저장해두고, 저장 결과가 없을 시 실행합니다.\n",
    "# 실제 시험을 고려한 루틴이기 보다는, 이 노트를 리뷰할 때 좀 더 시간을 절약할 수 있게 고안된 것입니다.\n",
    "# 처리과정을 재 실행하려면 생성된  targetA_train.csv를 삭제해야 합니다.\n",
    "if not os.path.isfile('targetA_train.csv'):\n",
    "    # 문제 3에서 targetA에 대한 예측 모델을 사용합니다,\n",
    "    df_train_clf = df_train.assign(\n",
    "        prob_A = 1 - norm.cdf(df_train['target'], loc=6.769, scale=0.616),\n",
    "        prob_B = norm.cdf(df_train['target'], loc=8.123, scale=0.527)\n",
    "    ).query('prob_B < 0.01 or prob_A < 0.01').copy()\n",
    "    \n",
    "    clf_xgb = make_pipeline( \n",
    "        ColumnTransformer([\n",
    "            ('ohe', OneHotEncoder(handle_unknown='ignore'), cat_cols),\n",
    "            ('pt', 'passthrough', cont_cols)\n",
    "        ]),\n",
    "        xgb.XGBClassifier(\n",
    "            max_depth = 2, # 트리의 최대 깊이 2\n",
    "            reg_alpha = 0.1, # L1 규제 0.1\n",
    "            reg_lambda = 0.1, # L2 규제 0.1\n",
    "            colsample_bytree=0.25, # 트리 당 컬럼 샘플링 비율 0.25\n",
    "            n_estimators=500, # 트리의 수 500\n",
    "            random_state=123, # random_state 123\n",
    "        )\n",
    "    )\n",
    "    \n",
    "    clf_xgb.fit(df_train_clf[X_all], df_train_clf['targetA'])\n",
    "    df_targetA_train = pd.DataFrame({'targetA_prob': clf_xgb.predict_proba(df_train[X_all])[:, 1]}, index=df_train.index)\n",
    "    # 여기까지 처리를 통해서도 어느 정도 효과를 얻을 수 있습니다.\n",
    "    \n",
    "    # 두 개의 라인의 처리로 더욱 효과적인 속성이 됩니다.\n",
    "    # cross_val_predict로 쉽게 할 수 있습니다. 교차 검증시 겹외셋에 대한 예측을 결과를 반환합니다.\n",
    "    # train셋에 대한 예측 분포가 아닌 train을 제외한 예측에 대한 분포를 지니도록 합니다.\n",
    "    targetA_prob_cv = cross_val_predict(clf_xgb, df_train_clf[X_all], df_train_clf['targetA'], cv=5, method='predict_proba')\n",
    "    # df_train_clf에 있는 해당하는 예측은 교차검증의 예측값으로 대체합니다.\n",
    "    # 이 처리를 했을 때와 안 했을 때의 결과 차이를 확인해보시고면, 그 차이를 체감하실 수 있습니다.\n",
    "    df_targetA_train.loc[df_targetA_train.index.isin(df_train_clf.index), 'targetA_prob'] = targetA_prob_cv[:, 1]\n",
    "    \n",
    "    df_targetA_train.to_csv('targetA_train.csv')\n",
    "    df_targetA_test = pd.DataFrame({'targetA_prob': clf_xgb.predict_proba(df_test[X_all])[:, 1]}, index=df_test.index)\n",
    "    df_targetA_test.to_csv('targetA_test.csv')\n",
    "else:\n",
    "    # 저장된 결과를 불러옵니다.\n",
    "    df_targetA_train = pd.read_csv('targetA_train.csv', index_col='id')\n",
    "    df_targetA_test = pd.read_csv('targetA_test.csv', index_col='id')"
   ]
  },
  {
   "cell_type": "code",
   "execution_count": 5,
   "id": "985625f6",
   "metadata": {},
   "outputs": [],
   "source": [
    "df_train['targetA_prob'] = df_targetA_train['targetA_prob']\n",
    "df_test['targetA_prob'] = df_targetA_test['targetA_prob']"
   ]
  },
  {
   "cell_type": "code",
   "execution_count": 6,
   "id": "996e4f95",
   "metadata": {},
   "outputs": [],
   "source": [
    "q = [i for i in np.arange(0, 1.01, 0.01)]\n",
    "# 나머지 변수에 대해서도 해당 파생 변수를 만들어 줍니다.\n",
    "for i in cont_cols:\n",
    "    q_val = df_train[i].quantile(q)\n",
    "    q_val.iloc[[0, -1]] = [-np.inf, np.inf]\n",
    "    q_cut = pd.cut(df_train[i], bins=q_val)\n",
    "    q_mean = df_train.groupby(q_cut)['target'].mean()\n",
    "    df_train[i + '_q'] = q_cut.map(q_mean).astype('float')\n",
    "    df_test[i + '_q'] = pd.cut(df_test[i], bins=q_val).map(q_mean).astype('float')"
   ]
  },
  {
   "cell_type": "code",
   "execution_count": 7,
   "id": "5afbdbb9",
   "metadata": {},
   "outputs": [],
   "source": [
    "s_hist = []"
   ]
  },
  {
   "cell_type": "code",
   "execution_count": 8,
   "id": "04417a06",
   "metadata": {},
   "outputs": [],
   "source": [
    "# 공통\n",
    "from sklearn.pipeline import make_pipeline\n",
    "from sklearn.compose import ColumnTransformer\n",
    "from sklearn.preprocessing import OneHotEncoder, StandardScaler\n",
    "from sklearn.metrics import accuracy_score, mean_squared_error\n",
    "from sklearn.metrics import make_scorer, mean_squared_error\n",
    "from sklearn.model_selection import ShuffleSplit, KFold\n",
    "\n",
    "cv = KFold(n_splits=5, random_state=123)\n",
    "# train(80%)/test(20%) 한 번으로 검증합니다. XGB, RF등 오래 걸리는 모델을 위해 사용합니다.\n",
    "ss = ShuffleSplit(n_splits=1, train_size=0.8, random_state=123)\n",
    "\n",
    "df_ans = pd.read_csv('test_prob_ans.csv', index_col='id')\n",
    "X_all = df_test.columns.tolist()  + ['targetA_prob']\n",
    "\n",
    "cat_cols = ['cat{}'.format(i) for i in range(10)]\n",
    "cont_cols = ['cont{}'.format(i) for i in range(14)]\n",
    "cont_q_cols = ['cont{}_q'.format(i) for i in range(14)]\n",
    "\n",
    "# 위에서 발생한 leak을 바로 잡아 교차검증을 합니다.\n",
    "q = [i for i in np.arange(0, 1.01, 0.01)]\n",
    "def eval_model(model_name, model, sp):\n",
    "    score_train, score_valid = list(), list()\n",
    "    for train_idx, valid_idx in sp.split(df_train):\n",
    "        df_cv_train, df_valid = df_train.iloc[train_idx].copy(), df_train.iloc[valid_idx].copy()\n",
    "        # 시험에서 구현하기 어려울 수 있으니, 시험 때는 leakage가 있어 성능에 측정에 왜곡이 있음을 고려하고 cross_validate를 \n",
    "        # 사용해서 구성을 해도 됩니다.\n",
    "        # 검증셋에서 train으로 파생변수를 만들고\n",
    "        # 검증셋의 test(겹외셋)에 검증셋의 train으로 만든 통계값(mean)을 반영합니다.\n",
    "        for i in cont_cols:\n",
    "            q_val =  df_cv_train[i].quantile(q)\n",
    "            q_val.iloc[[0, -1]] = [-np.inf, np.inf]\n",
    "            q_cut = pd.cut(df_cv_train[i], bins=q_val)\n",
    "            q_mean = df_cv_train.groupby(q_cut)['target'].mean()\n",
    "            df_cv_train[i + '_q'] = q_cut.map(q_mean).astype('float')\n",
    "            df_valid[i + '_q'] = pd.cut(df_valid[i], bins=q_val).map(q_mean).astype('float')\n",
    "        model.fit(df_cv_train[X_all], df_cv_train['target'])\n",
    "        score_valid.append((mean_squared_error(df_valid['target'], model.predict(df_valid[X_all]))) ** 0.5)\n",
    "        score_train.append((mean_squared_error(df_cv_train['target'], model.predict(df_cv_train[X_all]))) ** 0.5)\n",
    "        \n",
    "    output = 'Valid: {:.5f}±{:.5f},  V.Train: {:.5f}±{:.5f}'.format( \n",
    "            np.mean(score_valid), np.std(score_valid),\n",
    "            np.mean(score_train), np.std(score_train),\n",
    "        )\n",
    "    print(output)\n",
    "    s_hist.append(pd.Series([model_name, output, np.mean(score_valid)], index=['model name', 'result', 'score']))\n",
    "    df_result = pd.DataFrame(s_hist)\n",
    "    display(df_result.groupby('model name').last())\n",
    "    display(df_result.loc[df_result['score'].idxmin()])\n",
    "\n",
    "def select_model(model):\n",
    "    model.fit(df_train[X_all], df_train['target'])\n",
    "    prd = model.predict(df_test[X_all])\n",
    "    pd.DataFrame({\n",
    "        'id': df_test.index.values,\n",
    "        'target': prd\n",
    "    }).to_csv('answer6.csv', index = None)\n",
    "    return prd "
   ]
  },
  {
   "cell_type": "code",
   "execution_count": 9,
   "id": "c4982de4",
   "metadata": {},
   "outputs": [
    {
     "name": "stdout",
     "output_type": "stream",
     "text": [
      "Valid: 0.86325±0.00295,  V.Train: 0.86300±0.00073\n"
     ]
    },
    {
     "data": {
      "text/html": [
       "<div>\n",
       "<style scoped>\n",
       "    .dataframe tbody tr th:only-of-type {\n",
       "        vertical-align: middle;\n",
       "    }\n",
       "\n",
       "    .dataframe tbody tr th {\n",
       "        vertical-align: top;\n",
       "    }\n",
       "\n",
       "    .dataframe thead th {\n",
       "        text-align: right;\n",
       "    }\n",
       "</style>\n",
       "<table border=\"1\" class=\"dataframe\">\n",
       "  <thead>\n",
       "    <tr style=\"text-align: right;\">\n",
       "      <th></th>\n",
       "      <th>result</th>\n",
       "      <th>score</th>\n",
       "    </tr>\n",
       "    <tr>\n",
       "      <th>model name</th>\n",
       "      <th></th>\n",
       "      <th></th>\n",
       "    </tr>\n",
       "  </thead>\n",
       "  <tbody>\n",
       "    <tr>\n",
       "      <td>baseline</td>\n",
       "      <td>Valid: 0.86325±0.00295,  V.Train: 0.86300±0.00073</td>\n",
       "      <td>0.863246</td>\n",
       "    </tr>\n",
       "  </tbody>\n",
       "</table>\n",
       "</div>"
      ],
      "text/plain": [
       "                                                       result     score\n",
       "model name                                                             \n",
       "baseline    Valid: 0.86325±0.00295,  V.Train: 0.86300±0.00073  0.863246"
      ]
     },
     "metadata": {},
     "output_type": "display_data"
    },
    {
     "data": {
      "text/plain": [
       "model name                                             baseline\n",
       "result        Valid: 0.86325±0.00295,  V.Train: 0.86300±0.00073\n",
       "score                                                  0.863246\n",
       "Name: 0, dtype: object"
      ]
     },
     "metadata": {},
     "output_type": "display_data"
    }
   ],
   "source": [
    "from sklearn.linear_model import LinearRegression\n",
    "# 아무처리 없이 사용합니다.\n",
    "ct = ColumnTransformer([\n",
    "    ('ohe', OneHotEncoder(drop='first'), cat_cols),\n",
    "    ('std', StandardScaler(), cont_cols)\n",
    "])\n",
    "\n",
    "reg_lr = make_pipeline(ct, LinearRegression())\n",
    "eval_model('baseline', reg_lr, cv)"
   ]
  },
  {
   "cell_type": "code",
   "execution_count": 10,
   "id": "facdd0e0",
   "metadata": {},
   "outputs": [
    {
     "name": "stdout",
     "output_type": "stream",
     "text": [
      "baseline 채점 결과: 0.8657267201878257\n"
     ]
    }
   ],
   "source": [
    "prd = select_model(reg_lr)\n",
    "print(\"baseline 채점 결과:\",  mean_squared_error(df_ans['target'], prd) ** 0.5)"
   ]
  },
  {
   "cell_type": "code",
   "execution_count": 11,
   "id": "6b0f147b",
   "metadata": {},
   "outputs": [
    {
     "name": "stdout",
     "output_type": "stream",
     "text": [
      "Valid: 0.84698±0.00284,  V.Train: 0.84668±0.00071\n"
     ]
    },
    {
     "data": {
      "text/html": [
       "<div>\n",
       "<style scoped>\n",
       "    .dataframe tbody tr th:only-of-type {\n",
       "        vertical-align: middle;\n",
       "    }\n",
       "\n",
       "    .dataframe tbody tr th {\n",
       "        vertical-align: top;\n",
       "    }\n",
       "\n",
       "    .dataframe thead th {\n",
       "        text-align: right;\n",
       "    }\n",
       "</style>\n",
       "<table border=\"1\" class=\"dataframe\">\n",
       "  <thead>\n",
       "    <tr style=\"text-align: right;\">\n",
       "      <th></th>\n",
       "      <th>result</th>\n",
       "      <th>score</th>\n",
       "    </tr>\n",
       "    <tr>\n",
       "      <th>model name</th>\n",
       "      <th></th>\n",
       "      <th></th>\n",
       "    </tr>\n",
       "  </thead>\n",
       "  <tbody>\n",
       "    <tr>\n",
       "      <td>baseline</td>\n",
       "      <td>Valid: 0.86325±0.00295,  V.Train: 0.86300±0.00073</td>\n",
       "      <td>0.863246</td>\n",
       "    </tr>\n",
       "    <tr>\n",
       "      <td>lr2</td>\n",
       "      <td>Valid: 0.84698±0.00284,  V.Train: 0.84668±0.00071</td>\n",
       "      <td>0.846977</td>\n",
       "    </tr>\n",
       "  </tbody>\n",
       "</table>\n",
       "</div>"
      ],
      "text/plain": [
       "                                                       result     score\n",
       "model name                                                             \n",
       "baseline    Valid: 0.86325±0.00295,  V.Train: 0.86300±0.00073  0.863246\n",
       "lr2         Valid: 0.84698±0.00284,  V.Train: 0.84668±0.00071  0.846977"
      ]
     },
     "metadata": {},
     "output_type": "display_data"
    },
    {
     "data": {
      "text/plain": [
       "model name                                                  lr2\n",
       "result        Valid: 0.84698±0.00284,  V.Train: 0.84668±0.00071\n",
       "score                                                  0.846977\n",
       "Name: 1, dtype: object"
      ]
     },
     "metadata": {},
     "output_type": "display_data"
    }
   ],
   "source": [
    "# + targetA_prob 를 추가합니다.\n",
    "ct = ColumnTransformer([\n",
    "    ('ohe', OneHotEncoder(drop='first'), cat_cols),\n",
    "    ('std', StandardScaler(), cont_cols),\n",
    "    ('pt', 'passthrough', ['targetA_prob'])\n",
    "])\n",
    "\n",
    "reg_lr2 = make_pipeline(ct, LinearRegression())\n",
    "eval_model('lr2', reg_lr2, cv)"
   ]
  },
  {
   "cell_type": "code",
   "execution_count": 12,
   "id": "3a59524a",
   "metadata": {},
   "outputs": [
    {
     "name": "stdout",
     "output_type": "stream",
     "text": [
      "lr2 채점 결과: 0.8491929478687422\n"
     ]
    }
   ],
   "source": [
    "prd = select_model(reg_lr2)\n",
    "print(\"lr2 채점 결과:\",  mean_squared_error(df_ans['target'], prd) ** 0.5)"
   ]
  },
  {
   "cell_type": "code",
   "execution_count": 13,
   "id": "402189df",
   "metadata": {},
   "outputs": [
    {
     "name": "stdout",
     "output_type": "stream",
     "text": [
      "Valid: 0.84613±0.00288,  V.Train: 0.84322±0.00070\n"
     ]
    },
    {
     "data": {
      "text/html": [
       "<div>\n",
       "<style scoped>\n",
       "    .dataframe tbody tr th:only-of-type {\n",
       "        vertical-align: middle;\n",
       "    }\n",
       "\n",
       "    .dataframe tbody tr th {\n",
       "        vertical-align: top;\n",
       "    }\n",
       "\n",
       "    .dataframe thead th {\n",
       "        text-align: right;\n",
       "    }\n",
       "</style>\n",
       "<table border=\"1\" class=\"dataframe\">\n",
       "  <thead>\n",
       "    <tr style=\"text-align: right;\">\n",
       "      <th></th>\n",
       "      <th>result</th>\n",
       "      <th>score</th>\n",
       "    </tr>\n",
       "    <tr>\n",
       "      <th>model name</th>\n",
       "      <th></th>\n",
       "      <th></th>\n",
       "    </tr>\n",
       "  </thead>\n",
       "  <tbody>\n",
       "    <tr>\n",
       "      <td>baseline</td>\n",
       "      <td>Valid: 0.86325±0.00295,  V.Train: 0.86300±0.00073</td>\n",
       "      <td>0.863246</td>\n",
       "    </tr>\n",
       "    <tr>\n",
       "      <td>lr2</td>\n",
       "      <td>Valid: 0.84698±0.00284,  V.Train: 0.84668±0.00071</td>\n",
       "      <td>0.846977</td>\n",
       "    </tr>\n",
       "    <tr>\n",
       "      <td>lr3</td>\n",
       "      <td>Valid: 0.84613±0.00288,  V.Train: 0.84322±0.00070</td>\n",
       "      <td>0.846135</td>\n",
       "    </tr>\n",
       "  </tbody>\n",
       "</table>\n",
       "</div>"
      ],
      "text/plain": [
       "                                                       result     score\n",
       "model name                                                             \n",
       "baseline    Valid: 0.86325±0.00295,  V.Train: 0.86300±0.00073  0.863246\n",
       "lr2         Valid: 0.84698±0.00284,  V.Train: 0.84668±0.00071  0.846977\n",
       "lr3         Valid: 0.84613±0.00288,  V.Train: 0.84322±0.00070  0.846135"
      ]
     },
     "metadata": {},
     "output_type": "display_data"
    },
    {
     "data": {
      "text/plain": [
       "model name                                                  lr3\n",
       "result        Valid: 0.84613±0.00288,  V.Train: 0.84322±0.00070\n",
       "score                                                  0.846135\n",
       "Name: 2, dtype: object"
      ]
     },
     "metadata": {},
     "output_type": "display_data"
    }
   ],
   "source": [
    "# + targetA_prob 를 추가합니다.\n",
    "# + cont{}_q 를 cont{} 대신에 사용합니다.\n",
    "\n",
    "ct = ColumnTransformer([\n",
    "    ('ohe', OneHotEncoder(drop='first'), cat_cols),\n",
    "    ('std', StandardScaler(), cont_q_cols),\n",
    "    ('pt', 'passthrough', ['targetA_prob'])\n",
    "])\n",
    "\n",
    "reg_lr3 = make_pipeline(ct, LinearRegression())\n",
    "eval_model('lr3', reg_lr3, cv)"
   ]
  },
  {
   "cell_type": "code",
   "execution_count": 14,
   "id": "183e670e",
   "metadata": {},
   "outputs": [
    {
     "name": "stdout",
     "output_type": "stream",
     "text": [
      "lr3 채점 결과: 0.8481221572407426\n"
     ]
    }
   ],
   "source": [
    "prd = select_model(reg_lr3)\n",
    "print(\"lr3 채점 결과:\",  mean_squared_error(df_ans['target'], prd) ** 0.5)"
   ]
  },
  {
   "cell_type": "code",
   "execution_count": 15,
   "id": "008ca1d5",
   "metadata": {},
   "outputs": [
    {
     "name": "stdout",
     "output_type": "stream",
     "text": [
      "Valid: 0.84614±0.00288,  V.Train: 0.84322±0.00070\n"
     ]
    },
    {
     "data": {
      "text/html": [
       "<div>\n",
       "<style scoped>\n",
       "    .dataframe tbody tr th:only-of-type {\n",
       "        vertical-align: middle;\n",
       "    }\n",
       "\n",
       "    .dataframe tbody tr th {\n",
       "        vertical-align: top;\n",
       "    }\n",
       "\n",
       "    .dataframe thead th {\n",
       "        text-align: right;\n",
       "    }\n",
       "</style>\n",
       "<table border=\"1\" class=\"dataframe\">\n",
       "  <thead>\n",
       "    <tr style=\"text-align: right;\">\n",
       "      <th></th>\n",
       "      <th>result</th>\n",
       "      <th>score</th>\n",
       "    </tr>\n",
       "    <tr>\n",
       "      <th>model name</th>\n",
       "      <th></th>\n",
       "      <th></th>\n",
       "    </tr>\n",
       "  </thead>\n",
       "  <tbody>\n",
       "    <tr>\n",
       "      <td>baseline</td>\n",
       "      <td>Valid: 0.86325±0.00295,  V.Train: 0.86300±0.00073</td>\n",
       "      <td>0.863246</td>\n",
       "    </tr>\n",
       "    <tr>\n",
       "      <td>lr2</td>\n",
       "      <td>Valid: 0.84698±0.00284,  V.Train: 0.84668±0.00071</td>\n",
       "      <td>0.846977</td>\n",
       "    </tr>\n",
       "    <tr>\n",
       "      <td>lr3</td>\n",
       "      <td>Valid: 0.84613±0.00288,  V.Train: 0.84322±0.00070</td>\n",
       "      <td>0.846135</td>\n",
       "    </tr>\n",
       "    <tr>\n",
       "      <td>lr4</td>\n",
       "      <td>Valid: 0.84614±0.00288,  V.Train: 0.84322±0.00070</td>\n",
       "      <td>0.846136</td>\n",
       "    </tr>\n",
       "  </tbody>\n",
       "</table>\n",
       "</div>"
      ],
      "text/plain": [
       "                                                       result     score\n",
       "model name                                                             \n",
       "baseline    Valid: 0.86325±0.00295,  V.Train: 0.86300±0.00073  0.863246\n",
       "lr2         Valid: 0.84698±0.00284,  V.Train: 0.84668±0.00071  0.846977\n",
       "lr3         Valid: 0.84613±0.00288,  V.Train: 0.84322±0.00070  0.846135\n",
       "lr4         Valid: 0.84614±0.00288,  V.Train: 0.84322±0.00070  0.846136"
      ]
     },
     "metadata": {},
     "output_type": "display_data"
    },
    {
     "data": {
      "text/plain": [
       "model name                                                  lr3\n",
       "result        Valid: 0.84613±0.00288,  V.Train: 0.84322±0.00070\n",
       "score                                                  0.846135\n",
       "Name: 2, dtype: object"
      ]
     },
     "metadata": {},
     "output_type": "display_data"
    }
   ],
   "source": [
    "# + targetA_prob 를 추가합니다.\n",
    "# PCA + cont{}_q 를 cont{} 대신에 사용합니다.\n",
    "\n",
    "from sklearn.linear_model import LinearRegression\n",
    "from sklearn.decomposition import PCA\n",
    "\n",
    "ct = ColumnTransformer([\n",
    "    ('ohe', OneHotEncoder(drop='first'), cat_cols),\n",
    "    ('std', make_pipeline(StandardScaler(), PCA(n_components=0.95)), cont_q_cols),\n",
    "    ('pt', 'passthrough', ['targetA_prob'])\n",
    "])\n",
    "reg_lr4 = make_pipeline(\n",
    "    ct, \n",
    "    LinearRegression()\n",
    ")\n",
    "eval_model('lr4', reg_lr4, cv)"
   ]
  },
  {
   "cell_type": "code",
   "execution_count": 16,
   "id": "36d9517e",
   "metadata": {},
   "outputs": [
    {
     "name": "stdout",
     "output_type": "stream",
     "text": [
      "lr4 채점 결과: 0.848122146476156\n"
     ]
    }
   ],
   "source": [
    "prd = select_model(reg_lr4)\n",
    "print(\"lr4 채점 결과:\",  mean_squared_error(df_ans['target'], prd) ** 0.5)"
   ]
  },
  {
   "cell_type": "code",
   "execution_count": 17,
   "id": "2bf699fd",
   "metadata": {},
   "outputs": [
    {
     "name": "stdout",
     "output_type": "stream",
     "text": [
      "Valid: 0.84655±0.00000,  V.Train: 0.84634±0.00000\n"
     ]
    },
    {
     "data": {
      "text/html": [
       "<div>\n",
       "<style scoped>\n",
       "    .dataframe tbody tr th:only-of-type {\n",
       "        vertical-align: middle;\n",
       "    }\n",
       "\n",
       "    .dataframe tbody tr th {\n",
       "        vertical-align: top;\n",
       "    }\n",
       "\n",
       "    .dataframe thead th {\n",
       "        text-align: right;\n",
       "    }\n",
       "</style>\n",
       "<table border=\"1\" class=\"dataframe\">\n",
       "  <thead>\n",
       "    <tr style=\"text-align: right;\">\n",
       "      <th></th>\n",
       "      <th>result</th>\n",
       "      <th>score</th>\n",
       "    </tr>\n",
       "    <tr>\n",
       "      <th>model name</th>\n",
       "      <th></th>\n",
       "      <th></th>\n",
       "    </tr>\n",
       "  </thead>\n",
       "  <tbody>\n",
       "    <tr>\n",
       "      <td>baseline</td>\n",
       "      <td>Valid: 0.86325±0.00295,  V.Train: 0.86300±0.00073</td>\n",
       "      <td>0.863246</td>\n",
       "    </tr>\n",
       "    <tr>\n",
       "      <td>lr2</td>\n",
       "      <td>Valid: 0.84698±0.00284,  V.Train: 0.84668±0.00071</td>\n",
       "      <td>0.846977</td>\n",
       "    </tr>\n",
       "    <tr>\n",
       "      <td>lr3</td>\n",
       "      <td>Valid: 0.84613±0.00288,  V.Train: 0.84322±0.00070</td>\n",
       "      <td>0.846135</td>\n",
       "    </tr>\n",
       "    <tr>\n",
       "      <td>lr4</td>\n",
       "      <td>Valid: 0.84614±0.00288,  V.Train: 0.84322±0.00070</td>\n",
       "      <td>0.846136</td>\n",
       "    </tr>\n",
       "    <tr>\n",
       "      <td>rf</td>\n",
       "      <td>Valid: 0.84655±0.00000,  V.Train: 0.84634±0.00000</td>\n",
       "      <td>0.846550</td>\n",
       "    </tr>\n",
       "  </tbody>\n",
       "</table>\n",
       "</div>"
      ],
      "text/plain": [
       "                                                       result     score\n",
       "model name                                                             \n",
       "baseline    Valid: 0.86325±0.00295,  V.Train: 0.86300±0.00073  0.863246\n",
       "lr2         Valid: 0.84698±0.00284,  V.Train: 0.84668±0.00071  0.846977\n",
       "lr3         Valid: 0.84613±0.00288,  V.Train: 0.84322±0.00070  0.846135\n",
       "lr4         Valid: 0.84614±0.00288,  V.Train: 0.84322±0.00070  0.846136\n",
       "rf          Valid: 0.84655±0.00000,  V.Train: 0.84634±0.00000  0.846550"
      ]
     },
     "metadata": {},
     "output_type": "display_data"
    },
    {
     "data": {
      "text/plain": [
       "model name                                                  lr3\n",
       "result        Valid: 0.84613±0.00288,  V.Train: 0.84322±0.00070\n",
       "score                                                  0.846135\n",
       "Name: 2, dtype: object"
      ]
     },
     "metadata": {},
     "output_type": "display_data"
    }
   ],
   "source": [
    "from sklearn.ensemble import RandomForestRegressor\n",
    "\n",
    "ct = ColumnTransformer([\n",
    "    ('ohe', OneHotEncoder(), cat_cols),\n",
    "    ('pt', 'passthrough', cont_cols + ['targetA_prob'])\n",
    "])\n",
    "\n",
    "reg_rf = make_pipeline(\n",
    "    ct,\n",
    "    RandomForestRegressor(n_estimators=50, max_depth=4, random_state=123) # Kaggle에서는 멀티프로세싱을 해도 됩니다.\n",
    ")\n",
    "# RandomForestRegressor는 학습에 오래걸립니다. \n",
    "# 검증 방법을 교차검증에서 Hold Out (Shuffle Split n_splits=1) 검증으로 바꿉니다.\n",
    "eval_model('rf', reg_rf, ss)"
   ]
  },
  {
   "cell_type": "code",
   "execution_count": 18,
   "id": "e2cf67c0",
   "metadata": {},
   "outputs": [
    {
     "name": "stdout",
     "output_type": "stream",
     "text": [
      "Valid: 0.84615±0.00000,  V.Train: 0.84477±0.00000\n"
     ]
    },
    {
     "data": {
      "text/html": [
       "<div>\n",
       "<style scoped>\n",
       "    .dataframe tbody tr th:only-of-type {\n",
       "        vertical-align: middle;\n",
       "    }\n",
       "\n",
       "    .dataframe tbody tr th {\n",
       "        vertical-align: top;\n",
       "    }\n",
       "\n",
       "    .dataframe thead th {\n",
       "        text-align: right;\n",
       "    }\n",
       "</style>\n",
       "<table border=\"1\" class=\"dataframe\">\n",
       "  <thead>\n",
       "    <tr style=\"text-align: right;\">\n",
       "      <th></th>\n",
       "      <th>result</th>\n",
       "      <th>score</th>\n",
       "    </tr>\n",
       "    <tr>\n",
       "      <th>model name</th>\n",
       "      <th></th>\n",
       "      <th></th>\n",
       "    </tr>\n",
       "  </thead>\n",
       "  <tbody>\n",
       "    <tr>\n",
       "      <td>baseline</td>\n",
       "      <td>Valid: 0.86325±0.00295,  V.Train: 0.86300±0.00073</td>\n",
       "      <td>0.863246</td>\n",
       "    </tr>\n",
       "    <tr>\n",
       "      <td>lr2</td>\n",
       "      <td>Valid: 0.84698±0.00284,  V.Train: 0.84668±0.00071</td>\n",
       "      <td>0.846977</td>\n",
       "    </tr>\n",
       "    <tr>\n",
       "      <td>lr3</td>\n",
       "      <td>Valid: 0.84613±0.00288,  V.Train: 0.84322±0.00070</td>\n",
       "      <td>0.846135</td>\n",
       "    </tr>\n",
       "    <tr>\n",
       "      <td>lr4</td>\n",
       "      <td>Valid: 0.84614±0.00288,  V.Train: 0.84322±0.00070</td>\n",
       "      <td>0.846136</td>\n",
       "    </tr>\n",
       "    <tr>\n",
       "      <td>rf</td>\n",
       "      <td>Valid: 0.84655±0.00000,  V.Train: 0.84634±0.00000</td>\n",
       "      <td>0.846550</td>\n",
       "    </tr>\n",
       "    <tr>\n",
       "      <td>xgb</td>\n",
       "      <td>Valid: 0.84615±0.00000,  V.Train: 0.84477±0.00000</td>\n",
       "      <td>0.846149</td>\n",
       "    </tr>\n",
       "  </tbody>\n",
       "</table>\n",
       "</div>"
      ],
      "text/plain": [
       "                                                       result     score\n",
       "model name                                                             \n",
       "baseline    Valid: 0.86325±0.00295,  V.Train: 0.86300±0.00073  0.863246\n",
       "lr2         Valid: 0.84698±0.00284,  V.Train: 0.84668±0.00071  0.846977\n",
       "lr3         Valid: 0.84613±0.00288,  V.Train: 0.84322±0.00070  0.846135\n",
       "lr4         Valid: 0.84614±0.00288,  V.Train: 0.84322±0.00070  0.846136\n",
       "rf          Valid: 0.84655±0.00000,  V.Train: 0.84634±0.00000  0.846550\n",
       "xgb         Valid: 0.84615±0.00000,  V.Train: 0.84477±0.00000  0.846149"
      ]
     },
     "metadata": {},
     "output_type": "display_data"
    },
    {
     "data": {
      "text/plain": [
       "model name                                                  lr3\n",
       "result        Valid: 0.84613±0.00288,  V.Train: 0.84322±0.00070\n",
       "score                                                  0.846135\n",
       "Name: 2, dtype: object"
      ]
     },
     "metadata": {},
     "output_type": "display_data"
    }
   ],
   "source": [
    "ct = ColumnTransformer([\n",
    "    ('ohe', OneHotEncoder(), cat_cols),\n",
    "    ('pt', 'passthrough', cont_cols + ['targetA_prob'])\n",
    "])\n",
    "reg_xgb = make_pipeline(\n",
    "    ct,\n",
    "    xgb.XGBRegressor(n_estimators=150, max_depth=2, random_state=123, n_jobs=4)\n",
    ")\n",
    "# Hold Out (Shuffle Split n_splits=1) 검증을 사용합니다.\n",
    "eval_model('xgb', reg_xgb, ss)"
   ]
  },
  {
   "cell_type": "code",
   "execution_count": 19,
   "id": "39d856b5",
   "metadata": {},
   "outputs": [
    {
     "name": "stdout",
     "output_type": "stream",
     "text": [
      "xgb 채점 결과: 0.8480732829872999\n"
     ]
    }
   ],
   "source": [
    "# 한 번 채점은 해봅니다.\n",
    "prd = select_model(reg_xgb)\n",
    "print(\"xgb 채점 결과:\",  mean_squared_error(df_ans['target'], prd) ** 0.5)"
   ]
  },
  {
   "cell_type": "code",
   "execution_count": 20,
   "id": "98f01218",
   "metadata": {},
   "outputs": [
    {
     "name": "stdout",
     "output_type": "stream",
     "text": [
      "Valid: 0.84538±0.00000,  V.Train: 0.84347±0.00000\n"
     ]
    },
    {
     "data": {
      "text/html": [
       "<div>\n",
       "<style scoped>\n",
       "    .dataframe tbody tr th:only-of-type {\n",
       "        vertical-align: middle;\n",
       "    }\n",
       "\n",
       "    .dataframe tbody tr th {\n",
       "        vertical-align: top;\n",
       "    }\n",
       "\n",
       "    .dataframe thead th {\n",
       "        text-align: right;\n",
       "    }\n",
       "</style>\n",
       "<table border=\"1\" class=\"dataframe\">\n",
       "  <thead>\n",
       "    <tr style=\"text-align: right;\">\n",
       "      <th></th>\n",
       "      <th>result</th>\n",
       "      <th>score</th>\n",
       "    </tr>\n",
       "    <tr>\n",
       "      <th>model name</th>\n",
       "      <th></th>\n",
       "      <th></th>\n",
       "    </tr>\n",
       "  </thead>\n",
       "  <tbody>\n",
       "    <tr>\n",
       "      <td>baseline</td>\n",
       "      <td>Valid: 0.86325±0.00295,  V.Train: 0.86300±0.00073</td>\n",
       "      <td>0.863246</td>\n",
       "    </tr>\n",
       "    <tr>\n",
       "      <td>lr2</td>\n",
       "      <td>Valid: 0.84698±0.00284,  V.Train: 0.84668±0.00071</td>\n",
       "      <td>0.846977</td>\n",
       "    </tr>\n",
       "    <tr>\n",
       "      <td>lr3</td>\n",
       "      <td>Valid: 0.84613±0.00288,  V.Train: 0.84322±0.00070</td>\n",
       "      <td>0.846135</td>\n",
       "    </tr>\n",
       "    <tr>\n",
       "      <td>lr4</td>\n",
       "      <td>Valid: 0.84614±0.00288,  V.Train: 0.84322±0.00070</td>\n",
       "      <td>0.846136</td>\n",
       "    </tr>\n",
       "    <tr>\n",
       "      <td>rf</td>\n",
       "      <td>Valid: 0.84655±0.00000,  V.Train: 0.84634±0.00000</td>\n",
       "      <td>0.846550</td>\n",
       "    </tr>\n",
       "    <tr>\n",
       "      <td>vt</td>\n",
       "      <td>Valid: 0.84538±0.00000,  V.Train: 0.84347±0.00000</td>\n",
       "      <td>0.845375</td>\n",
       "    </tr>\n",
       "    <tr>\n",
       "      <td>xgb</td>\n",
       "      <td>Valid: 0.84615±0.00000,  V.Train: 0.84477±0.00000</td>\n",
       "      <td>0.846149</td>\n",
       "    </tr>\n",
       "  </tbody>\n",
       "</table>\n",
       "</div>"
      ],
      "text/plain": [
       "                                                       result     score\n",
       "model name                                                             \n",
       "baseline    Valid: 0.86325±0.00295,  V.Train: 0.86300±0.00073  0.863246\n",
       "lr2         Valid: 0.84698±0.00284,  V.Train: 0.84668±0.00071  0.846977\n",
       "lr3         Valid: 0.84613±0.00288,  V.Train: 0.84322±0.00070  0.846135\n",
       "lr4         Valid: 0.84614±0.00288,  V.Train: 0.84322±0.00070  0.846136\n",
       "rf          Valid: 0.84655±0.00000,  V.Train: 0.84634±0.00000  0.846550\n",
       "vt          Valid: 0.84538±0.00000,  V.Train: 0.84347±0.00000  0.845375\n",
       "xgb         Valid: 0.84615±0.00000,  V.Train: 0.84477±0.00000  0.846149"
      ]
     },
     "metadata": {},
     "output_type": "display_data"
    },
    {
     "data": {
      "text/plain": [
       "model name                                                   vt\n",
       "result        Valid: 0.84538±0.00000,  V.Train: 0.84347±0.00000\n",
       "score                                                  0.845375\n",
       "Name: 6, dtype: object"
      ]
     },
     "metadata": {},
     "output_type": "display_data"
    }
   ],
   "source": [
    "# Voting을 통한 앙상블을 만듭니다.\n",
    "from sklearn.ensemble import VotingRegressor\n",
    "\n",
    "reg_vt = VotingRegressor([\n",
    "    #('baseline', reg_lr),\n",
    "    #('lr2', reg_lr2),\n",
    "    ('lr3', reg_lr3),\n",
    "    ('lr4', reg_lr4),\n",
    "    ('rf', reg_rf),\n",
    "    ('xgb', reg_xgb),\n",
    "])\n",
    "eval_model('vt', reg_vt, ss)"
   ]
  },
  {
   "cell_type": "code",
   "execution_count": 21,
   "id": "259a0f1b",
   "metadata": {},
   "outputs": [
    {
     "name": "stdout",
     "output_type": "stream",
     "text": [
      "Voting 채점 결과: 0.8475181426864662\n"
     ]
    }
   ],
   "source": [
    "# 개선이 있습니다 모델을 선택합니다. \n",
    "prd = select_model(reg_vt)\n",
    "# 자가 채점을 해봅니다.\n",
    "print(\"Voting 채점 결과:\",  mean_squared_error(df_ans['target'], prd) ** 0.5)"
   ]
  },
  {
   "cell_type": "code",
   "execution_count": null,
   "id": "1e11dac0",
   "metadata": {},
   "outputs": [],
   "source": []
  }
 ],
 "metadata": {
  "kernelspec": {
   "display_name": "Python 3 (ipykernel)",
   "language": "python",
   "name": "python3"
  },
  "language_info": {
   "codemirror_mode": {
    "name": "ipython",
    "version": 3
   },
   "file_extension": ".py",
   "mimetype": "text/x-python",
   "name": "python",
   "nbconvert_exporter": "python",
   "pygments_lexer": "ipython3",
   "version": "3.7.4"
  }
 },
 "nbformat": 4,
 "nbformat_minor": 5
}
