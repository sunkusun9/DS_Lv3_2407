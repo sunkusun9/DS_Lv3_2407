{
 "cells": [
  {
   "cell_type": "markdown",
   "id": "75850728",
   "metadata": {},
   "source": [
    "# 시험장 환경 정보\n",
    "\n",
    "Python: 3.7.4 (tags/v3.7.4:e09359112e, Jul  8 2019, 20:34:20) [MSC v.1916 64 bit (AMD64)]\n",
    "\n",
    "|모듈|버젼|\n",
    "|----|----|\n",
    "|pandas|0.25.1|\n",
    "|numpy|1.18.5|\n",
    "|sklearn|0.21.3|\n",
    "|scipy|1.5.2|\n",
    "|mlxtend|0.15.0.0|\n",
    "|statsmodels|0.11.1|\n",
    "|xgboost|0.8|\n",
    "\n",
    "**강사: 멀티캠퍼스 강선구(sunku0316.kang@multicampus.com, sun9sun9@gmail.com)**"
   ]
  },
  {
   "cell_type": "code",
   "execution_count": 27,
   "id": "04b1901d",
   "metadata": {},
   "outputs": [
    {
     "name": "stdout",
     "output_type": "stream",
     "text": [
      "3.7.4 (tags/v3.7.4:e09359112e, Jul  8 2019, 20:34:20) [MSC v.1916 64 bit (AMD64)]\n",
      "pandas 0.25.1\n",
      "numpy 1.18.5\n",
      "sklearn 0.21.3\n",
      "scipy 1.5.2\n",
      "mlxtend 0.15.0.0\n",
      "statsmodels 0.11.1\n",
      "xgboost 0.80\n"
     ]
    }
   ],
   "source": [
    "# 실행 환경 확인\n",
    "\n",
    "import pandas as pd\n",
    "import numpy as np\n",
    "import sklearn\n",
    "import scipy\n",
    "import statsmodels\n",
    "#pip install --upgrade mlxtend \n",
    "import mlxtend\n",
    "import sys\n",
    "import xgboost as xgb\n",
    "\n",
    "print(sys.version)\n",
    "for i in [pd, np, sklearn, scipy, mlxtend, statsmodels, xgb]:\n",
    "    print(i.__name__, i.__version__)"
   ]
  },
  {
   "cell_type": "code",
   "execution_count": 28,
   "id": "b2a5207c",
   "metadata": {},
   "outputs": [],
   "source": [
    "# 시각화 모듈 설정\n",
    "# 참고용 차트를 출력하기 위함\n",
    "\n",
    "import matplotlib.pyplot as plt\n",
    "import seaborn as sns\n",
    "\n",
    "import matplotlib as mpl\n",
    "import matplotlib.font_manager as fm\n",
    "plt.rc('font', family='Malgun Gothic')\n",
    "mpl.rcParams['axes.unicode_minus'] = False"
   ]
  },
  {
   "cell_type": "markdown",
   "id": "2719eb2d",
   "metadata": {},
   "source": [
    "# 문제 개요\n",
    "\n",
    "다음은 폴더블 폰의 힌지에 들어가는 스프링 내구력을 테스트한 실험 결과이다. \n",
    "\n",
    "스프링 측정값과 스프링에 가한 부하 정보와 함께, 테스트 통과/실패 (failure) 결과가 기재되어 있다. \n",
    "\n",
    "개발부서는 테스트 비용을 줄이기 위해 failure 여부를 맞추는 모델을 만들고자 한다.\n",
    "\n",
    "변수명은 보안을 위해 measurement_0과 같이 익명화되었다.\n",
    "\n",
    "데이터 구성\n",
    "\n",
    "학습데이터: train_prob.csv, 21,458 rows, 25 columns\n",
    "\n",
    "테스트데이터: test_prob.csv, 5,112 rows, 24 columns, \n",
    "\n",
    "테스트정답셋: test_prob_ans.csv, 5,112 rows, 1 columns\n",
    "\n",
    "\n",
    "컬럼명\t설명\t타입\n",
    "\n",
    "|변수명|설명|타입|\n",
    "|--|--------------|------|\n",
    "|id|실험 고유 번호|정수형|\n",
    "|product_code|스프링 코드|범주형|\n",
    "|loading|스프링에 가한 부하|실수형|\n",
    "|attribute_0|구성 소재1|범주형|\n",
    "|attribute_1|구성 소재2|범주형|\n",
    "|attribute_2|구성 소재3|정수형|\n",
    "|attribute_3|구성 소재4|정수형|\n",
    "|measurement_0 ~ 17|측정값 0~17|실수형|\n",
    "|failure|성공여부|이진형(0, 1)|\n"
   ]
  },
  {
   "cell_type": "markdown",
   "id": "b80d1407",
   "metadata": {},
   "source": [
    "# 전처리(Preprocessing)\n",
    "\n",
    "train_prob.csv를 불러 온다. 이를 basetable이라고 한다."
   ]
  },
  {
   "cell_type": "code",
   "execution_count": 220,
   "id": "15ebc269",
   "metadata": {},
   "outputs": [
    {
     "name": "stdout",
     "output_type": "stream",
     "text": [
      "<class 'pandas.core.frame.DataFrame'>\n",
      "Int64Index: 21458 entries, 0 to 26569\n",
      "Data columns (total 25 columns):\n",
      "product_code      21458 non-null object\n",
      "loading           21257 non-null float64\n",
      "attribute_0       21458 non-null object\n",
      "attribute_1       21458 non-null object\n",
      "attribute_2       21458 non-null int64\n",
      "attribute_3       21458 non-null int64\n",
      "measurement_0     21458 non-null int64\n",
      "measurement_1     21458 non-null int64\n",
      "measurement_2     21458 non-null int64\n",
      "measurement_3     21146 non-null float64\n",
      "measurement_4     21016 non-null float64\n",
      "measurement_5     20893 non-null float64\n",
      "measurement_6     20818 non-null float64\n",
      "measurement_7     20692 non-null float64\n",
      "measurement_8     20605 non-null float64\n",
      "measurement_9     20469 non-null float64\n",
      "measurement_10    20399 non-null float64\n",
      "measurement_11    20278 non-null float64\n",
      "measurement_12    20171 non-null float64\n",
      "measurement_13    20063 non-null float64\n",
      "measurement_14    19976 non-null float64\n",
      "measurement_15    19855 non-null float64\n",
      "measurement_16    19750 non-null float64\n",
      "measurement_17    19640 non-null float64\n",
      "failure           21458 non-null int64\n",
      "dtypes: float64(16), int64(6), object(3)\n",
      "memory usage: 4.3+ MB\n"
     ]
    },
    {
     "data": {
      "text/plain": [
       "None"
      ]
     },
     "metadata": {},
     "output_type": "display_data"
    },
    {
     "data": {
      "text/html": [
       "<div>\n",
       "<style scoped>\n",
       "    .dataframe tbody tr th:only-of-type {\n",
       "        vertical-align: middle;\n",
       "    }\n",
       "\n",
       "    .dataframe tbody tr th {\n",
       "        vertical-align: top;\n",
       "    }\n",
       "\n",
       "    .dataframe thead th {\n",
       "        text-align: right;\n",
       "    }\n",
       "</style>\n",
       "<table border=\"1\" class=\"dataframe\">\n",
       "  <thead>\n",
       "    <tr style=\"text-align: right;\">\n",
       "      <th></th>\n",
       "      <th>product_code</th>\n",
       "      <th>loading</th>\n",
       "      <th>attribute_0</th>\n",
       "      <th>attribute_1</th>\n",
       "      <th>attribute_2</th>\n",
       "      <th>attribute_3</th>\n",
       "      <th>measurement_0</th>\n",
       "      <th>measurement_1</th>\n",
       "      <th>measurement_2</th>\n",
       "      <th>measurement_3</th>\n",
       "      <th>...</th>\n",
       "      <th>measurement_9</th>\n",
       "      <th>measurement_10</th>\n",
       "      <th>measurement_11</th>\n",
       "      <th>measurement_12</th>\n",
       "      <th>measurement_13</th>\n",
       "      <th>measurement_14</th>\n",
       "      <th>measurement_15</th>\n",
       "      <th>measurement_16</th>\n",
       "      <th>measurement_17</th>\n",
       "      <th>failure</th>\n",
       "    </tr>\n",
       "    <tr>\n",
       "      <th>id</th>\n",
       "      <th></th>\n",
       "      <th></th>\n",
       "      <th></th>\n",
       "      <th></th>\n",
       "      <th></th>\n",
       "      <th></th>\n",
       "      <th></th>\n",
       "      <th></th>\n",
       "      <th></th>\n",
       "      <th></th>\n",
       "      <th></th>\n",
       "      <th></th>\n",
       "      <th></th>\n",
       "      <th></th>\n",
       "      <th></th>\n",
       "      <th></th>\n",
       "      <th></th>\n",
       "      <th></th>\n",
       "      <th></th>\n",
       "      <th></th>\n",
       "      <th></th>\n",
       "    </tr>\n",
       "  </thead>\n",
       "  <tbody>\n",
       "    <tr>\n",
       "      <td>0</td>\n",
       "      <td>A</td>\n",
       "      <td>80.10</td>\n",
       "      <td>material_7</td>\n",
       "      <td>material_8</td>\n",
       "      <td>9</td>\n",
       "      <td>5</td>\n",
       "      <td>7</td>\n",
       "      <td>8</td>\n",
       "      <td>4</td>\n",
       "      <td>18.040</td>\n",
       "      <td>...</td>\n",
       "      <td>10.672</td>\n",
       "      <td>15.859</td>\n",
       "      <td>17.594</td>\n",
       "      <td>15.193</td>\n",
       "      <td>15.029</td>\n",
       "      <td>NaN</td>\n",
       "      <td>13.034</td>\n",
       "      <td>14.684</td>\n",
       "      <td>764.100</td>\n",
       "      <td>0</td>\n",
       "    </tr>\n",
       "    <tr>\n",
       "      <td>1</td>\n",
       "      <td>A</td>\n",
       "      <td>84.89</td>\n",
       "      <td>material_7</td>\n",
       "      <td>material_8</td>\n",
       "      <td>9</td>\n",
       "      <td>5</td>\n",
       "      <td>14</td>\n",
       "      <td>3</td>\n",
       "      <td>3</td>\n",
       "      <td>18.213</td>\n",
       "      <td>...</td>\n",
       "      <td>12.448</td>\n",
       "      <td>17.947</td>\n",
       "      <td>17.915</td>\n",
       "      <td>11.755</td>\n",
       "      <td>14.732</td>\n",
       "      <td>15.425</td>\n",
       "      <td>14.395</td>\n",
       "      <td>15.631</td>\n",
       "      <td>682.057</td>\n",
       "      <td>0</td>\n",
       "    </tr>\n",
       "    <tr>\n",
       "      <td>2</td>\n",
       "      <td>A</td>\n",
       "      <td>82.43</td>\n",
       "      <td>material_7</td>\n",
       "      <td>material_8</td>\n",
       "      <td>9</td>\n",
       "      <td>5</td>\n",
       "      <td>12</td>\n",
       "      <td>1</td>\n",
       "      <td>5</td>\n",
       "      <td>18.057</td>\n",
       "      <td>...</td>\n",
       "      <td>12.715</td>\n",
       "      <td>15.607</td>\n",
       "      <td>NaN</td>\n",
       "      <td>13.798</td>\n",
       "      <td>16.711</td>\n",
       "      <td>18.631</td>\n",
       "      <td>14.094</td>\n",
       "      <td>17.946</td>\n",
       "      <td>663.376</td>\n",
       "      <td>0</td>\n",
       "    </tr>\n",
       "    <tr>\n",
       "      <td>3</td>\n",
       "      <td>A</td>\n",
       "      <td>101.07</td>\n",
       "      <td>material_7</td>\n",
       "      <td>material_8</td>\n",
       "      <td>9</td>\n",
       "      <td>5</td>\n",
       "      <td>13</td>\n",
       "      <td>2</td>\n",
       "      <td>6</td>\n",
       "      <td>17.295</td>\n",
       "      <td>...</td>\n",
       "      <td>12.471</td>\n",
       "      <td>16.346</td>\n",
       "      <td>18.377</td>\n",
       "      <td>10.020</td>\n",
       "      <td>15.250</td>\n",
       "      <td>15.562</td>\n",
       "      <td>16.154</td>\n",
       "      <td>17.172</td>\n",
       "      <td>826.282</td>\n",
       "      <td>0</td>\n",
       "    </tr>\n",
       "    <tr>\n",
       "      <td>4</td>\n",
       "      <td>A</td>\n",
       "      <td>188.06</td>\n",
       "      <td>material_7</td>\n",
       "      <td>material_8</td>\n",
       "      <td>9</td>\n",
       "      <td>5</td>\n",
       "      <td>9</td>\n",
       "      <td>2</td>\n",
       "      <td>8</td>\n",
       "      <td>19.346</td>\n",
       "      <td>...</td>\n",
       "      <td>10.337</td>\n",
       "      <td>17.082</td>\n",
       "      <td>19.932</td>\n",
       "      <td>12.428</td>\n",
       "      <td>16.182</td>\n",
       "      <td>12.760</td>\n",
       "      <td>13.153</td>\n",
       "      <td>16.412</td>\n",
       "      <td>579.885</td>\n",
       "      <td>0</td>\n",
       "    </tr>\n",
       "  </tbody>\n",
       "</table>\n",
       "<p>5 rows × 25 columns</p>\n",
       "</div>"
      ],
      "text/plain": [
       "   product_code  loading attribute_0 attribute_1  attribute_2  attribute_3  \\\n",
       "id                                                                           \n",
       "0             A    80.10  material_7  material_8            9            5   \n",
       "1             A    84.89  material_7  material_8            9            5   \n",
       "2             A    82.43  material_7  material_8            9            5   \n",
       "3             A   101.07  material_7  material_8            9            5   \n",
       "4             A   188.06  material_7  material_8            9            5   \n",
       "\n",
       "    measurement_0  measurement_1  measurement_2  measurement_3  ...  \\\n",
       "id                                                              ...   \n",
       "0               7              8              4         18.040  ...   \n",
       "1              14              3              3         18.213  ...   \n",
       "2              12              1              5         18.057  ...   \n",
       "3              13              2              6         17.295  ...   \n",
       "4               9              2              8         19.346  ...   \n",
       "\n",
       "    measurement_9  measurement_10  measurement_11  measurement_12  \\\n",
       "id                                                                  \n",
       "0          10.672          15.859          17.594          15.193   \n",
       "1          12.448          17.947          17.915          11.755   \n",
       "2          12.715          15.607             NaN          13.798   \n",
       "3          12.471          16.346          18.377          10.020   \n",
       "4          10.337          17.082          19.932          12.428   \n",
       "\n",
       "    measurement_13  measurement_14  measurement_15  measurement_16  \\\n",
       "id                                                                   \n",
       "0           15.029             NaN          13.034          14.684   \n",
       "1           14.732          15.425          14.395          15.631   \n",
       "2           16.711          18.631          14.094          17.946   \n",
       "3           15.250          15.562          16.154          17.172   \n",
       "4           16.182          12.760          13.153          16.412   \n",
       "\n",
       "    measurement_17  failure  \n",
       "id                           \n",
       "0          764.100        0  \n",
       "1          682.057        0  \n",
       "2          663.376        0  \n",
       "3          826.282        0  \n",
       "4          579.885        0  \n",
       "\n",
       "[5 rows x 25 columns]"
      ]
     },
     "execution_count": 220,
     "metadata": {},
     "output_type": "execute_result"
    }
   ],
   "source": [
    "df_basetable = pd.read_csv('train_prob.csv', index_col=['id'])\n",
    "display(df_basetable.info())\n",
    "df_basetable.head()"
   ]
  },
  {
   "cell_type": "markdown",
   "id": "11f35976",
   "metadata": {},
   "source": [
    "# 단계 1\n",
    "\n",
    "basetable에 measurement_3 ~17 각각의 행이 결측인지 나타내는 파생 변수를 만든다. \n",
    "\n",
    "파생 변수는 이진 형식이고, False는 미결측 True는 결측을 의미한다. \n",
    "\n",
    "파생 변수의 이름은 measurement 번호에 따라 isna_3 ~ 17로 한다. "
   ]
  },
  {
   "cell_type": "code",
   "execution_count": 221,
   "id": "9d8bd808",
   "metadata": {},
   "outputs": [],
   "source": [
    "df_basetable[['isna_{}'.format(i) for i in range(3, 18)]] = \\\n",
    "            df_basetable[['measurement_{}'.format(i) for i in range(3, 18)]].isna()"
   ]
  },
  {
   "cell_type": "code",
   "execution_count": 222,
   "id": "bffaa4be",
   "metadata": {},
   "outputs": [
    {
     "data": {
      "text/html": [
       "<div>\n",
       "<style scoped>\n",
       "    .dataframe tbody tr th:only-of-type {\n",
       "        vertical-align: middle;\n",
       "    }\n",
       "\n",
       "    .dataframe tbody tr th {\n",
       "        vertical-align: top;\n",
       "    }\n",
       "\n",
       "    .dataframe thead th {\n",
       "        text-align: right;\n",
       "    }\n",
       "</style>\n",
       "<table border=\"1\" class=\"dataframe\">\n",
       "  <thead>\n",
       "    <tr style=\"text-align: right;\">\n",
       "      <th></th>\n",
       "      <th>isna_3</th>\n",
       "      <th>isna_4</th>\n",
       "      <th>isna_5</th>\n",
       "      <th>isna_6</th>\n",
       "      <th>isna_7</th>\n",
       "      <th>isna_8</th>\n",
       "      <th>isna_9</th>\n",
       "      <th>isna_10</th>\n",
       "      <th>isna_11</th>\n",
       "      <th>isna_12</th>\n",
       "      <th>isna_13</th>\n",
       "      <th>isna_14</th>\n",
       "      <th>isna_15</th>\n",
       "      <th>isna_16</th>\n",
       "      <th>isna_17</th>\n",
       "    </tr>\n",
       "  </thead>\n",
       "  <tbody>\n",
       "    <tr>\n",
       "      <td>na_count</td>\n",
       "      <td>312</td>\n",
       "      <td>442</td>\n",
       "      <td>565</td>\n",
       "      <td>640</td>\n",
       "      <td>766</td>\n",
       "      <td>853</td>\n",
       "      <td>989</td>\n",
       "      <td>1059</td>\n",
       "      <td>1180</td>\n",
       "      <td>1287</td>\n",
       "      <td>1395</td>\n",
       "      <td>1482</td>\n",
       "      <td>1603</td>\n",
       "      <td>1708</td>\n",
       "      <td>1818</td>\n",
       "    </tr>\n",
       "  </tbody>\n",
       "</table>\n",
       "</div>"
      ],
      "text/plain": [
       "          isna_3  isna_4  isna_5  isna_6  isna_7  isna_8  isna_9  isna_10  \\\n",
       "na_count     312     442     565     640     766     853     989     1059   \n",
       "\n",
       "          isna_11  isna_12  isna_13  isna_14  isna_15  isna_16  isna_17  \n",
       "na_count     1180     1287     1395     1482     1603     1708     1818  "
      ]
     },
     "execution_count": 222,
     "metadata": {},
     "output_type": "execute_result"
    }
   ],
   "source": [
    "df_basetable[['isna_{}'.format(i) for i in range(3, 18)]].sum().rename('na_count').to_frame().T"
   ]
  },
  {
   "cell_type": "markdown",
   "id": "dbdac014",
   "metadata": {},
   "source": [
    "**Tip! product_code 별로 선형모델의 회귀 계수 / 절편 / R2 구해보기**\n",
    "\n",
    "1. measurement_3~9와 measurement_17 에서 하나도 결측이 없는 레코드를 뽑아 df_tip 이라는 데이터프레임을 만듭니다. \n",
    "\n",
    "\n",
    "2. product_code별로 measurement_3 ~ 9를 입력 변수로 하여 measurement_17을 예측하는 절편이 있는 선형 회귀 모델을 만듭니다.\n",
    "\n",
    "\n",
    "3. product_code별로 제작된 회귀 모델의 회귀 계수와 절편을 구해봅니다. \n",
    "\n",
    "\n",
    "4. product_code별로 제작된 선형회귀모델을 사용하여  measurement_17에 대한 예측값을  만들어 product_code 별로 R2 score를 구해봅니다."
   ]
  },
  {
   "cell_type": "code",
   "execution_count": 226,
   "id": "3224f72c",
   "metadata": {},
   "outputs": [
    {
     "data": {
      "text/plain": [
       "product_code\n",
       "A    LinearRegression(copy_X=True, fit_intercept=Tr...\n",
       "B    LinearRegression(copy_X=True, fit_intercept=Tr...\n",
       "C    LinearRegression(copy_X=True, fit_intercept=Tr...\n",
       "E    LinearRegression(copy_X=True, fit_intercept=Tr...\n",
       "dtype: object"
      ]
     },
     "execution_count": 226,
     "metadata": {},
     "output_type": "execute_result"
    }
   ],
   "source": [
    "from sklearn.linear_model import LinearRegression\n",
    "# 입력변수를 정리합니다.\n",
    "X_lr = ['measurement_{}'.format(i) for i in range(3, 10)]\n",
    "# 대상변수 \n",
    "target = 'measurement_17'\n",
    "# 분석에 사용되는 데이터만 추출합니다.\n",
    "df_tip = df_basetable[X_lr + [target,  'product_code']].dropna()\n",
    "# product_code 별로 절편이 있는 선형회귀모델을 학습합니다.\n",
    "s_lr = df_tip.groupby('product_code').apply(\n",
    "    lambda x: LinearRegression(fit_intercept=True).fit(x[X_lr], x[target])\n",
    ")\n",
    "s_lr"
   ]
  },
  {
   "cell_type": "code",
   "execution_count": 248,
   "id": "aed3582c",
   "metadata": {},
   "outputs": [
    {
     "data": {
      "text/html": [
       "<div>\n",
       "<style scoped>\n",
       "    .dataframe tbody tr th:only-of-type {\n",
       "        vertical-align: middle;\n",
       "    }\n",
       "\n",
       "    .dataframe tbody tr th {\n",
       "        vertical-align: top;\n",
       "    }\n",
       "\n",
       "    .dataframe thead th {\n",
       "        text-align: right;\n",
       "    }\n",
       "</style>\n",
       "<table border=\"1\" class=\"dataframe\">\n",
       "  <thead>\n",
       "    <tr style=\"text-align: right;\">\n",
       "      <th></th>\n",
       "      <th>beta3</th>\n",
       "      <th>beta4</th>\n",
       "      <th>beta5</th>\n",
       "      <th>beta6</th>\n",
       "      <th>beta7</th>\n",
       "      <th>beta8</th>\n",
       "      <th>beta9</th>\n",
       "      <th>intercept</th>\n",
       "      <th>R2</th>\n",
       "    </tr>\n",
       "    <tr>\n",
       "      <th>product_code</th>\n",
       "      <th></th>\n",
       "      <th></th>\n",
       "      <th></th>\n",
       "      <th></th>\n",
       "      <th></th>\n",
       "      <th></th>\n",
       "      <th></th>\n",
       "      <th></th>\n",
       "      <th></th>\n",
       "    </tr>\n",
       "  </thead>\n",
       "  <tbody>\n",
       "    <tr>\n",
       "      <td>A</td>\n",
       "      <td>-0.010131</td>\n",
       "      <td>14.878475</td>\n",
       "      <td>59.774801</td>\n",
       "      <td>26.726662</td>\n",
       "      <td>25.165509</td>\n",
       "      <td>77.357235</td>\n",
       "      <td>0.000678</td>\n",
       "      <td>-2732.327681</td>\n",
       "      <td>0.999978</td>\n",
       "    </tr>\n",
       "    <tr>\n",
       "      <td>B</td>\n",
       "      <td>18.526722</td>\n",
       "      <td>44.471955</td>\n",
       "      <td>34.970210</td>\n",
       "      <td>0.002739</td>\n",
       "      <td>87.464928</td>\n",
       "      <td>-0.004070</td>\n",
       "      <td>26.742221</td>\n",
       "      <td>-2079.732273</td>\n",
       "      <td>0.999979</td>\n",
       "    </tr>\n",
       "    <tr>\n",
       "      <td>C</td>\n",
       "      <td>0.014702</td>\n",
       "      <td>-0.005822</td>\n",
       "      <td>52.477022</td>\n",
       "      <td>7.175136</td>\n",
       "      <td>41.665531</td>\n",
       "      <td>91.211393</td>\n",
       "      <td>36.496277</td>\n",
       "      <td>-2964.440817</td>\n",
       "      <td>0.999982</td>\n",
       "    </tr>\n",
       "    <tr>\n",
       "      <td>E</td>\n",
       "      <td>0.015870</td>\n",
       "      <td>58.690919</td>\n",
       "      <td>66.624083</td>\n",
       "      <td>77.093626</td>\n",
       "      <td>-0.025606</td>\n",
       "      <td>73.145466</td>\n",
       "      <td>19.944851</td>\n",
       "      <td>-4097.927043</td>\n",
       "      <td>0.999987</td>\n",
       "    </tr>\n",
       "  </tbody>\n",
       "</table>\n",
       "</div>"
      ],
      "text/plain": [
       "                  beta3      beta4      beta5      beta6      beta7  \\\n",
       "product_code                                                          \n",
       "A             -0.010131  14.878475  59.774801  26.726662  25.165509   \n",
       "B             18.526722  44.471955  34.970210   0.002739  87.464928   \n",
       "C              0.014702  -0.005822  52.477022   7.175136  41.665531   \n",
       "E              0.015870  58.690919  66.624083  77.093626  -0.025606   \n",
       "\n",
       "                  beta8      beta9    intercept        R2  \n",
       "product_code                                               \n",
       "A             77.357235   0.000678 -2732.327681  0.999978  \n",
       "B             -0.004070  26.742221 -2079.732273  0.999979  \n",
       "C             91.211393  36.496277 -2964.440817  0.999982  \n",
       "E             73.145466  19.944851 -4097.927043  0.999987  "
      ]
     },
     "execution_count": 248,
     "metadata": {},
     "output_type": "execute_result"
    }
   ],
   "source": [
    "pd.concat([\n",
    "    # 회귀계수를 추출합니다.\n",
    "    s_lr.apply(lambda x: pd.Series(x.coef_, index=X_lr)).rename(columns=lambda x: 'beta' + x.split('_')[-1]),\n",
    "    # 절편을 추출합니다.\n",
    "    s_lr.apply(lambda x: x.intercept_).rename('intercept'),\n",
    "    # product_code 별  r2_score 를 구합니다.\n",
    "    df_tip.groupby('product_code').apply(\n",
    "        lambda x: r2_score(x[target], s_lr.loc[x.name].predict(x[X_lr]))\n",
    "    ).rename('R2')\n",
    "], axis=1)"
   ]
  },
  {
   "cell_type": "markdown",
   "id": "3173737d",
   "metadata": {},
   "source": [
    "## 단계 2\n",
    "\n",
    "이 과제를 맡은 데이터분석가 지희는 measurement_3~17의 결측치 처리 방안을 고민하던 중, \n",
    "\n",
    "개발부서에서 measurement_17은 product_code별로 failure를 예측하기 위해 \n",
    "\n",
    "measurement_3 ~ measurement_9을 다음과 같이 선형 조합하여 생성한 값이라는 정보를 받았다. \n",
    "\n",
    "$measurement_{17}= \\beta_{0} + \\beta_{3}measurement_{3}+\\beta_{4}measurement_{4}+...+\\beta_{9}measurement_{9}$\n",
    "\n",
    "이는 즉,\n",
    "\n",
    "$measurement_{3}= \\beta'_{0} + \\beta'_{4}measurement_{4}+\\beta'_{5}measurement_{5}+...+\\beta'_{9}measurement_{9} + \\beta'_{17}measurement_{17}$\n",
    "\n",
    "...\n",
    "\n",
    "$measurement_{9}= \\beta''_{0} + \\beta''_{3}measurement_{3}+\\beta''_{4}measurement_{4}+...+\\beta''_{8}measurement_{8}+\\beta''_{17}measurement_{17}$\n",
    "\n",
    "와 같이 measurement_3 ~ measurement_9의 각 변수들도 나머지 변수들과 선형 관계를 지닌다. \n",
    "\n",
    "이 점을 이용하여 대상 변수를 번갈아 가면서 예측 모델을 만들어 최대한 원래 값에 가깝게 복원할 수 있다. \n",
    "\n",
    "이러한 반복적인 결측치 복원 방법을 사내 데이터분석 연구소에 문의 했더니 다음과 같은 가이드를 주었다. \n",
    "\n",
    "> sklearn 모듈에 아직은 실험 단계이지만, 비슷한 경우에 문제 없이 사용했던 사례가 있어 의견을 드립니다. \n",
    "\n",
    "> from sklearn.experimental import enable_iterative_imputer 구문을 사용하여 실험 단계인 모듈을 활성화하고, \n",
    "\n",
    "> sklearn.impute.IterativeImputer를 사용한다면 원하는 결과를 얻을 수 있습니다.\n",
    "\n",
    "가이드의 내용을 참조하여 basetable의 measurement_3~9와 measurement_17 결측치를 복원하라.\n",
    "\n",
    "\n",
    "입력 변수] measurement_3 ~ 9, measurement_17 (입력 변수 순서에 유의)\n",
    "\n",
    "---\n",
    "**함수가이드**\n",
    "\n",
    "sklearn.experimental.enable_iterative_imputer\n",
    "\n",
    "sklearn.impute.IterativeImputer, random_state=123\n",
    "\n",
    "sklearn.linear_model.LinearRegression\n",
    "\n",
    "문제 지시사항 외 Default 값 사용\n",
    "\n",
    "---\n"
   ]
  },
  {
   "cell_type": "code",
   "execution_count": 32,
   "id": "a94de17c",
   "metadata": {},
   "outputs": [],
   "source": [
    "from sklearn.experimental import enable_iterative_imputer\n",
    "from sklearn.linear_model import LinearRegression\n",
    "from sklearn.impute import IterativeImputer\n",
    "\n",
    "# 방법 1: 반복문을 통한 방법입니다.\n",
    "imp  = IterativeImputer(\n",
    "    estimator=LinearRegression(fit_intercept=True), \n",
    "    random_state=123\n",
    ")\n",
    "X_imp = ['measurement_{}'.format(i) for i in range(3, 10)] + ['measurement_17']\n",
    "# product_code 별로 처리를 합니다.\n",
    "for i in df_basetable['product_code'].unique():\n",
    "    s_bidx = df_basetable['product_code'] == i\n",
    "    # 값을 대입할 때, 대입에 대상이 되는 데이터프레임을\n",
    "    # df_basetable.loc[s_bidx][X_imp] 이런식으로 filtering -> 컬럼선택 2단계로 할 경우 reference 경고를 받게 됩니다.\n",
    "    # df_basetable.loc[s_bidx, X_imp] filtering과 columns 선택을 하여 중간에 reference DataFrame 없이 처리하도록 합니다.\n",
    "    df_basetable.loc[s_bidx, X_imp] = imp.fit_transform(df_basetable.loc[s_bidx, X_imp])"
   ]
  },
  {
   "cell_type": "code",
   "execution_count": 35,
   "id": "ba88e037",
   "metadata": {},
   "outputs": [],
   "source": [
    "from sklearn.experimental import enable_iterative_imputer\n",
    "from sklearn.linear_model import LinearRegression\n",
    "from sklearn.impute import IterativeImputer\n",
    "\n",
    "# 방법 2: groupby ~ apply ~ fit_transform\n",
    "# product_code 별로 IterativeImputer를 통한 결측처리를 하고 바로 적용합니다.\n",
    "imp  = IterativeImputer(\n",
    "    estimator=LinearRegression(fit_intercept=True), \n",
    "    random_state=123\n",
    ")\n",
    "X_imp = ['measurement_{}'.format(i) for i in range(3, 10)] + ['measurement_17']\n",
    "\n",
    "# apply에서 transform에서 numpy array를 넘겨 주므로, \n",
    "# DataFrame을 만들어 반환시켜주면,\n",
    "# apply에서 DataFrame으로 재구성하여 넘겨줍니다.\n",
    "# 모델을 적용하여 결측이 처리된 데이터프레임을 만듭니다.\n",
    "df_basetable[X_imp] = df_basetable.groupby('product_code')[X_imp].apply(\n",
    "    lambda x: pd.DataFrame(imp.fit_transform(x), index=x.index, columns=X_imp)\n",
    ")"
   ]
  },
  {
   "cell_type": "code",
   "execution_count": 48,
   "id": "9f0b059f",
   "metadata": {},
   "outputs": [],
   "source": [
    "# 방법 3: groupby ~ apply, groupby ~ apply ~ tranform\n",
    "# 방법 3: product_code 별로 IterativeImputer를 학습시키고, product_code 별로 결측을 처리합니다.\n",
    "\n",
    "from sklearn.experimental import enable_iterative_imputer\n",
    "from sklearn.linear_model import LinearRegression\n",
    "from sklearn.impute import IterativeImputer\n",
    "\n",
    "# 결측치 처리 모델을 생성 시킵니다.\n",
    "def create_imp():\n",
    "    return IterativeImputer(\n",
    "        estimator=LinearRegression(fit_intercept=True), \n",
    "        random_state=123\n",
    "    )\n",
    "X_imp = ['measurement_{}'.format(i) for i in range(3, 10)] + ['measurement_17']\n",
    "\n",
    "# product_code 별로 모델을 **생성**시키고, 모델을 학습시킵니다.\n",
    "s_imp = df_basetable.groupby('product_code')[X_imp].apply(\n",
    "    lambda x: create_imp().fit(x)\n",
    ")\n",
    "\n",
    "# apply의 lambda x: 에서 넘겨주는 DataFrame의 .name attribute에는 해당 product_code 값이 있습니다.\n",
    "# 이를 활용하여 s_imp에 있는 모델을 가져옵니다.\n",
    "df_basetable[X_imp] = df_basetable.groupby('product_code')[X_imp].apply(\n",
    "    lambda x: pd.DataFrame(s_imp.loc[x.name].transform(x), index=x.index, columns=X_imp)\n",
    ")"
   ]
  },
  {
   "cell_type": "markdown",
   "id": "c95edba8",
   "metadata": {},
   "source": [
    "## 단계 3\n",
    "\n",
    "measurement_10~16까지의 결측치는 모두 product_code별 평균으로 대치한다."
   ]
  },
  {
   "cell_type": "code",
   "execution_count": 82,
   "id": "5c8d5ca0",
   "metadata": {},
   "outputs": [],
   "source": [
    "# 방법 1: groupby ~ apply\n",
    "# apply 사용후 groupby에 의해 구분된 수준이 불필요(1:1 변환작업이라는 점에서)하게 index에 붙을 수가 있습니다.\n",
    "# 이 때는 DataFrame에 index를 지정하여 반환시키면 없앨 수 있습니다.\n",
    "X_mean = ['measurement_{}'.format(i) for i in range(10, 17)]\n",
    "df_basetable[X_mean] = df_basetable.groupby('product_code')[X_mean].apply(\n",
    "    lambda x: pd.DataFrame(x.fillna(x.mean()), index=x.index)\n",
    ")"
   ]
  },
  {
   "cell_type": "code",
   "execution_count": 87,
   "id": "e960ed28",
   "metadata": {},
   "outputs": [],
   "source": [
    "# 방법 2: groupby ~ apply, reset_index(level=0, drop=True)\n",
    "# 불필요하게 생성된 인덱스(product_code)을 제거합니다.\n",
    "df_basetable[X_mean] = df_basetable.groupby('product_code')[X_mean].apply(\n",
    "    lambda x: x.fillna(x.mean())\n",
    ").reset_index(level=0, drop=True)"
   ]
  },
  {
   "cell_type": "code",
   "execution_count": 84,
   "id": "0e55a859",
   "metadata": {},
   "outputs": [],
   "source": [
    "# 방법 3: groupby ~ transform\n",
    "# Transform을 통해 수준별 평균으로 1:1 변환된 값으로 구성된 DataFrame을 받아서, \n",
    "# 각각의 요소별로 결측이면 해당값으로 치환되게 구성합니다. \n",
    "df_basetable[X_mean] =  df_basetable.groupby('product_code')[X_mean].transform(\n",
    "    lambda x: x.fillna(x.mean())\n",
    ")"
   ]
  },
  {
   "cell_type": "markdown",
   "id": "d62884d7",
   "metadata": {},
   "source": [
    "Hint] 전처리 단계에서 보간 결과를 확인해 보기 위한 각 변수의 평균과 표본표준편차.\n",
    "\n",
    "| |3|4|5|6|7|8|9|10|11|12|13|14|15|16|17|\n",
    "|-|-|-|-|-|-|-|-|--|--|--|--|--|--|--|--|\n",
    "|mean|17.796|11.736|17.131|17.506|11.719|19.022|11.434|16.034|19.194|11.734|15.666|16.033|15.051|16.398|701.768|\n",
    "|std|0.997|0.994|0.994|0.992|0.993|1.005|0.997|1.278|1.579|1.433|1.149|1.461|1.478|1.671|119.180|\n",
    "\n",
    "열의 이름의 숫자는 measurement_ 번호, 값은 소수점 3째 자리까지 반올림"
   ]
  },
  {
   "cell_type": "code",
   "execution_count": 91,
   "id": "0ff22f9e",
   "metadata": {},
   "outputs": [
    {
     "data": {
      "text/html": [
       "<div>\n",
       "<style scoped>\n",
       "    .dataframe tbody tr th:only-of-type {\n",
       "        vertical-align: middle;\n",
       "    }\n",
       "\n",
       "    .dataframe tbody tr th {\n",
       "        vertical-align: top;\n",
       "    }\n",
       "\n",
       "    .dataframe thead th {\n",
       "        text-align: right;\n",
       "    }\n",
       "</style>\n",
       "<table border=\"1\" class=\"dataframe\">\n",
       "  <thead>\n",
       "    <tr style=\"text-align: right;\">\n",
       "      <th></th>\n",
       "      <th>3</th>\n",
       "      <th>4</th>\n",
       "      <th>5</th>\n",
       "      <th>6</th>\n",
       "      <th>7</th>\n",
       "      <th>8</th>\n",
       "      <th>9</th>\n",
       "      <th>10</th>\n",
       "      <th>11</th>\n",
       "      <th>12</th>\n",
       "      <th>13</th>\n",
       "      <th>14</th>\n",
       "      <th>15</th>\n",
       "      <th>16</th>\n",
       "      <th>17</th>\n",
       "    </tr>\n",
       "  </thead>\n",
       "  <tbody>\n",
       "    <tr>\n",
       "      <td>mean</td>\n",
       "      <td>17.796</td>\n",
       "      <td>11.736</td>\n",
       "      <td>17.131</td>\n",
       "      <td>17.506</td>\n",
       "      <td>11.719</td>\n",
       "      <td>19.022</td>\n",
       "      <td>11.434</td>\n",
       "      <td>16.034</td>\n",
       "      <td>19.194</td>\n",
       "      <td>11.734</td>\n",
       "      <td>15.666</td>\n",
       "      <td>16.033</td>\n",
       "      <td>15.051</td>\n",
       "      <td>16.398</td>\n",
       "      <td>701.768</td>\n",
       "    </tr>\n",
       "    <tr>\n",
       "      <td>std</td>\n",
       "      <td>0.997</td>\n",
       "      <td>0.994</td>\n",
       "      <td>0.994</td>\n",
       "      <td>0.992</td>\n",
       "      <td>0.993</td>\n",
       "      <td>1.005</td>\n",
       "      <td>0.997</td>\n",
       "      <td>1.278</td>\n",
       "      <td>1.579</td>\n",
       "      <td>1.433</td>\n",
       "      <td>1.149</td>\n",
       "      <td>1.461</td>\n",
       "      <td>1.478</td>\n",
       "      <td>1.671</td>\n",
       "      <td>119.180</td>\n",
       "    </tr>\n",
       "  </tbody>\n",
       "</table>\n",
       "</div>"
      ],
      "text/plain": [
       "           3       4       5       6       7       8       9      10      11  \\\n",
       "mean  17.796  11.736  17.131  17.506  11.719  19.022  11.434  16.034  19.194   \n",
       "std    0.997   0.994   0.994   0.992   0.993   1.005   0.997   1.278   1.579   \n",
       "\n",
       "          12      13      14      15      16       17  \n",
       "mean  11.734  15.666  16.033  15.051  16.398  701.768  \n",
       "std    1.433   1.149   1.461   1.478   1.671  119.180  "
      ]
     },
     "execution_count": 91,
     "metadata": {},
     "output_type": "execute_result"
    }
   ],
   "source": [
    "# pd.DataFrame ~ .rename(columns=lambda x: ) 컬럼의 이름을 바꿉니다.\n",
    "df_basetable[['measurement_{}'.format(i) for i in range(3, 18)]].agg(\n",
    "    ['mean', 'std']\n",
    ").round(3).rename(columns=lambda x: x.split('_')[-1])"
   ]
  },
  {
   "cell_type": "markdown",
   "id": "218dab47",
   "metadata": {},
   "source": [
    "# 문제1\n",
    "\n",
    "(basetable을 사용) measurement_3~16까지 결측 여부가 failure에 영향이 있는지를 파악하고, \n",
    "\n",
    "failure를 분류하는 데 도움이 될 만한 것은 예측 모델의 입력 변수로 사용하고자 한다. \n",
    "\n",
    "이를 위해 전처리 과정에서 뽑아낸 isna_3~16을 활용한다.\n",
    "\n",
    "n이 3부터 16까지, 즉 measurement_3~16까지 다음의 검정을 수행한다. \n",
    "\n",
    "$H_0: P(failure=True|measurement_{n}=Missing)=P(failure=True)$\n",
    "\n",
    "$H_1: P(failure=True|measurement_{n}=Missing) \\neq P(failure=True)$\n",
    "\n",
    "모집단의 $P(failure=True) = 0.2114$\n"
   ]
  },
  {
   "cell_type": "code",
   "execution_count": null,
   "id": "9ed64b12",
   "metadata": {},
   "outputs": [],
   "source": []
  },
  {
   "cell_type": "markdown",
   "id": "91304a06",
   "metadata": {},
   "source": [
    "## 단계 1-1\n",
    "\n",
    "우선, measurement_3으로 위 검정을 시행해보자.\n",
    "\n",
    "$H_0: P(failure=True|isna_{3}=True)=0.2114$\n",
    "\n",
    "$H_1: P(failure=True|isna_{3}=True) \\neq 0.2114$\n",
    "\n",
    "으로 바꿀 수 있다.\n",
    "\n",
    "$P(failure=True|isna_{3}=True)$은 표본수가 충분하여 중심극한정리에 의해 정규분포를 따르는 것은 분석가 간에 이견이 없다고 한다. \n",
    "\n",
    "위 검정의 p-value를 구하여 보고 힌트에 주어진 p-value와 비교하여 검정 방법에 문제가 없음을 확인하라.\n",
    "\n",
    "---\n",
    "\n",
    "**함수 가이드**\n",
    "\n",
    " scipy.stats 에서 제공 기능 활용\n",
    " \n",
    " 문제 지시사항 외 Default 값 사용\n",
    " \n",
    "---\n",
    "\n",
    " Hint] p-value는 0.0037(소수점 다섯째 자리에서 반올림하여 넷째 자리까지 표시)\n"
   ]
  },
  {
   "cell_type": "code",
   "execution_count": 103,
   "id": "30cdd230",
   "metadata": {},
   "outputs": [
    {
     "data": {
      "text/plain": [
       "(-2.905807189028007, 0.0036630709140241546)"
      ]
     },
     "execution_count": 103,
     "metadata": {},
     "output_type": "execute_result"
    }
   ],
   "source": [
    "from scipy.stats import norm\n",
    "# 귀무가설이 맞다라고 가정\n",
    "p = 0.2114 # p(𝑓𝑎𝑖𝑙𝑢𝑟𝑒=𝑇𝑟𝑢𝑒|𝑖𝑠𝑛𝑎3=𝑇𝑟𝑢𝑒) = 0.2114\n",
    "\n",
    "# 모집단의 failure가 True인 비율(True = 1로 매칭한다면, 평균)\n",
    "# 베르누이 분포는 확률이 곧 평균입니다.\n",
    "\n",
    "# 베르누이 분포 positive 확률 p  평균: p  분산: p × (1 - p)\n",
    "# 모평균: 0.2114 / 모분신: 0.2114 × (1 - 0.2114)\n",
    "p_mean = p # 모평균\n",
    "p_var = p * (1 - p) # 모분산\n",
    "\n",
    "p_sam_mean = p_mean # 표본 평균의 모평균\n",
    "n = df_basetable['isna_3'].sum()\n",
    "p_sam_var = p_var / n # 표본 평균의 모분산 = 모분산 / 표본수\n",
    "\n",
    "p_ob_sam_mean = df_basetable.loc[df_basetable['isna_3'], 'failure'].mean()\n",
    "\n",
    "# 검정통계량을 구합니다. \n",
    "# 양측 검증이라 적용의 편의성을 위해\n",
    "# 표준화 후 좌측 꼬리의 검정통계량을 구하기 위해, 절대값에 마이너스를 취합니다.\n",
    "Z = -abs((p_ob_sam_mean - p_sam_mean) / (p_sam_var ** 0.5))\n",
    "\n",
    "Z, norm.cdf(Z) * 2"
   ]
  },
  {
   "cell_type": "code",
   "execution_count": 97,
   "id": "fabed55a",
   "metadata": {},
   "outputs": [
    {
     "data": {
      "image/png": "[encoded data removed]",
      "text/plain": [
       "<Figure size 640x480 with 1 Axes>"
      ]
     },
     "metadata": {},
     "output_type": "display_data"
    }
   ],
   "source": [
    "# 표준정규 분포를 이용한 pvalue 도출을 그래프로 설명해봅니다\n",
    "from scipy.stats import norm\n",
    "P_true = 0.2114\n",
    "col = 'isna_{}'.format(4)\n",
    "P_var = P_true * (1 - P_true)\n",
    "n_samples = df_basetable[col].sum()\n",
    "P_missing_true = df_basetable.loc[df_basetable[col], 'failure'].mean()\n",
    "P_missing_var = P_var / n_samples\n",
    "P_missing_std = P_missing_var ** 0.5\n",
    "\n",
    "stat = -abs((P_missing_true - P_true) / P_missing_std)\n",
    "\n",
    "plt.plot(np.linspace(-5, 5, 100), norm.pdf(np.linspace(-5, 5, 100)))\n",
    "plt.axvline(stat, color='red', linestyle='--')\n",
    "plt.text(stat, 0.03, str(stat)[:7])\n",
    "plt.axvline(-stat, color='red', linestyle='--')\n",
    "plt.text(-stat, 0.01, str(-stat)[:6])\n",
    "plt.fill_between(np.linspace(-5, stat, 100), np.zeros(shape=100),\n",
    "                norm.pdf(np.linspace(-5, stat, 100)), color='orange')\n",
    "plt.fill_between(np.linspace(-stat, 5, 100), np.zeros(shape=100),\n",
    "                norm.pdf(np.linspace(-stat, 5, 100)), color='orange')\n",
    "\n",
    "plt.show()"
   ]
  },
  {
   "cell_type": "code",
   "execution_count": 105,
   "id": "a75fb4c2",
   "metadata": {},
   "outputs": [
    {
     "data": {
      "text/plain": [
       "(-2.905807189028007, 0.0036630709140241546)"
      ]
     },
     "execution_count": 105,
     "metadata": {},
     "output_type": "execute_result"
    }
   ],
   "source": [
    "from statsmodels.stats.proportion import proportions_ztest\n",
    "proportions_ztest(\n",
    "    count = df_basetable.loc[df_basetable['isna_3'], 'failure'].sum(), # positive(failure=True)인 빈도수\n",
    "    nobs = df_basetable['isna_3'].sum(), # 표본의 수\n",
    "    value = p, # 귀무가설에서 제시한 모집단의 비율\n",
    "    alternative = 'two-sided', # 검정의 종류: 양측 검정\n",
    "    prop_var = p # 베르누이 분포의 분산을 계산할 때의 비율 (모집단의 비율과 동일하게 설정합니다.)\n",
    ")"
   ]
  },
  {
   "cell_type": "markdown",
   "id": "91c87c44",
   "metadata": {},
   "source": [
    "## 단계 1-2\n",
    "\n",
    "measuremenet_3을 포함하여 measurement_4 ~ 16까지 위 검정을 반복하고 \n",
    "\n",
    "귀무가설을 기각할 수 있는 경우의 p-value의 합을 A라고 한다. (유의 수준은 5%로 한다.)"
   ]
  },
  {
   "cell_type": "code",
   "execution_count": 108,
   "id": "f49aa12e",
   "metadata": {},
   "outputs": [
    {
     "data": {
      "text/html": [
       "<div>\n",
       "<style scoped>\n",
       "    .dataframe tbody tr th:only-of-type {\n",
       "        vertical-align: middle;\n",
       "    }\n",
       "\n",
       "    .dataframe tbody tr th {\n",
       "        vertical-align: top;\n",
       "    }\n",
       "\n",
       "    .dataframe thead th {\n",
       "        text-align: right;\n",
       "    }\n",
       "</style>\n",
       "<table border=\"1\" class=\"dataframe\">\n",
       "  <thead>\n",
       "    <tr style=\"text-align: right;\">\n",
       "      <th></th>\n",
       "      <th>col</th>\n",
       "      <th>Z</th>\n",
       "      <th>p_ob_sam_mean</th>\n",
       "      <th>n</th>\n",
       "      <th>pvalue</th>\n",
       "    </tr>\n",
       "  </thead>\n",
       "  <tbody>\n",
       "    <tr>\n",
       "      <td>0</td>\n",
       "      <td>isna_3</td>\n",
       "      <td>-2.905807</td>\n",
       "      <td>0.144231</td>\n",
       "      <td>312</td>\n",
       "      <td>0.003663</td>\n",
       "    </tr>\n",
       "    <tr>\n",
       "      <td>1</td>\n",
       "      <td>isna_4</td>\n",
       "      <td>-1.346824</td>\n",
       "      <td>0.237557</td>\n",
       "      <td>442</td>\n",
       "      <td>0.178037</td>\n",
       "    </tr>\n",
       "    <tr>\n",
       "      <td>2</td>\n",
       "      <td>isna_5</td>\n",
       "      <td>-2.221383</td>\n",
       "      <td>0.249558</td>\n",
       "      <td>565</td>\n",
       "      <td>0.026325</td>\n",
       "    </tr>\n",
       "    <tr>\n",
       "      <td>3</td>\n",
       "      <td>isna_6</td>\n",
       "      <td>-0.261780</td>\n",
       "      <td>0.215625</td>\n",
       "      <td>640</td>\n",
       "      <td>0.793491</td>\n",
       "    </tr>\n",
       "    <tr>\n",
       "      <td>4</td>\n",
       "      <td>isna_7</td>\n",
       "      <td>-0.890904</td>\n",
       "      <td>0.224543</td>\n",
       "      <td>766</td>\n",
       "      <td>0.372981</td>\n",
       "    </tr>\n",
       "    <tr>\n",
       "      <td>5</td>\n",
       "      <td>isna_8</td>\n",
       "      <td>-0.698051</td>\n",
       "      <td>0.201641</td>\n",
       "      <td>853</td>\n",
       "      <td>0.485145</td>\n",
       "    </tr>\n",
       "    <tr>\n",
       "      <td>6</td>\n",
       "      <td>isna_9</td>\n",
       "      <td>-0.539344</td>\n",
       "      <td>0.218402</td>\n",
       "      <td>989</td>\n",
       "      <td>0.589650</td>\n",
       "    </tr>\n",
       "    <tr>\n",
       "      <td>7</td>\n",
       "      <td>isna_10</td>\n",
       "      <td>-0.762200</td>\n",
       "      <td>0.220963</td>\n",
       "      <td>1059</td>\n",
       "      <td>0.445940</td>\n",
       "    </tr>\n",
       "    <tr>\n",
       "      <td>8</td>\n",
       "      <td>isna_11</td>\n",
       "      <td>-0.103525</td>\n",
       "      <td>0.210169</td>\n",
       "      <td>1180</td>\n",
       "      <td>0.917546</td>\n",
       "    </tr>\n",
       "    <tr>\n",
       "      <td>9</td>\n",
       "      <td>isna_12</td>\n",
       "      <td>-0.609528</td>\n",
       "      <td>0.218337</td>\n",
       "      <td>1287</td>\n",
       "      <td>0.542174</td>\n",
       "    </tr>\n",
       "    <tr>\n",
       "      <td>10</td>\n",
       "      <td>isna_13</td>\n",
       "      <td>-0.452658</td>\n",
       "      <td>0.206452</td>\n",
       "      <td>1395</td>\n",
       "      <td>0.650795</td>\n",
       "    </tr>\n",
       "    <tr>\n",
       "      <td>11</td>\n",
       "      <td>isna_14</td>\n",
       "      <td>-0.681067</td>\n",
       "      <td>0.218623</td>\n",
       "      <td>1482</td>\n",
       "      <td>0.495829</td>\n",
       "    </tr>\n",
       "    <tr>\n",
       "      <td>12</td>\n",
       "      <td>isna_15</td>\n",
       "      <td>-0.007695</td>\n",
       "      <td>0.211478</td>\n",
       "      <td>1603</td>\n",
       "      <td>0.993860</td>\n",
       "    </tr>\n",
       "    <tr>\n",
       "      <td>13</td>\n",
       "      <td>isna_16</td>\n",
       "      <td>-0.478314</td>\n",
       "      <td>0.206674</td>\n",
       "      <td>1708</td>\n",
       "      <td>0.632427</td>\n",
       "    </tr>\n",
       "  </tbody>\n",
       "</table>\n",
       "</div>"
      ],
      "text/plain": [
       "        col         Z  p_ob_sam_mean     n    pvalue\n",
       "0    isna_3 -2.905807       0.144231   312  0.003663\n",
       "1    isna_4 -1.346824       0.237557   442  0.178037\n",
       "2    isna_5 -2.221383       0.249558   565  0.026325\n",
       "3    isna_6 -0.261780       0.215625   640  0.793491\n",
       "4    isna_7 -0.890904       0.224543   766  0.372981\n",
       "5    isna_8 -0.698051       0.201641   853  0.485145\n",
       "6    isna_9 -0.539344       0.218402   989  0.589650\n",
       "7   isna_10 -0.762200       0.220963  1059  0.445940\n",
       "8   isna_11 -0.103525       0.210169  1180  0.917546\n",
       "9   isna_12 -0.609528       0.218337  1287  0.542174\n",
       "10  isna_13 -0.452658       0.206452  1395  0.650795\n",
       "11  isna_14 -0.681067       0.218623  1482  0.495829\n",
       "12  isna_15 -0.007695       0.211478  1603  0.993860\n",
       "13  isna_16 -0.478314       0.206674  1708  0.632427"
      ]
     },
     "execution_count": 108,
     "metadata": {},
     "output_type": "execute_result"
    }
   ],
   "source": [
    "from scipy.stats import norm\n",
    "\n",
    "p = 0.2114\n",
    "p_mean = p # 모평균\n",
    "p_var = p * (1 - p) # 모분산\n",
    "\n",
    "p_sam_mean = p_mean # 표본 평균의 모평균\n",
    "\n",
    "result = list()\n",
    "for col in ['isna_{}'.format(i) for i in range(3, 17)]:\n",
    "    n = df_basetable[col].sum()\n",
    "    p_sam_var = p_var / n # 표본 평균의 모분산\n",
    "\n",
    "    p_ob_sam_mean = df_basetable.loc[df_basetable[col], 'failure'].mean()\n",
    "\n",
    "    Z = -abs((p_ob_sam_mean - p_sam_mean) / (p_sam_var ** 0.5))\n",
    "    result.append(pd.Series([col, Z, p_ob_sam_mean, n, norm.cdf(Z) * 2], index=['col', 'Z', 'p_ob_sam_mean', 'n', 'pvalue']))\n",
    "df_result = pd.DataFrame(result)\n",
    "df_result"
   ]
  },
  {
   "cell_type": "code",
   "execution_count": 110,
   "id": "4ca818bb",
   "metadata": {},
   "outputs": [
    {
     "data": {
      "text/html": [
       "<div>\n",
       "<style scoped>\n",
       "    .dataframe tbody tr th:only-of-type {\n",
       "        vertical-align: middle;\n",
       "    }\n",
       "\n",
       "    .dataframe tbody tr th {\n",
       "        vertical-align: top;\n",
       "    }\n",
       "\n",
       "    .dataframe thead th {\n",
       "        text-align: right;\n",
       "    }\n",
       "</style>\n",
       "<table border=\"1\" class=\"dataframe\">\n",
       "  <thead>\n",
       "    <tr style=\"text-align: right;\">\n",
       "      <th></th>\n",
       "      <th>col</th>\n",
       "      <th>Z</th>\n",
       "      <th>p_ob_sam_mean</th>\n",
       "      <th>n</th>\n",
       "      <th>pvalue</th>\n",
       "    </tr>\n",
       "  </thead>\n",
       "  <tbody>\n",
       "    <tr>\n",
       "      <td>0</td>\n",
       "      <td>isna_3</td>\n",
       "      <td>-2.905807</td>\n",
       "      <td>0.144231</td>\n",
       "      <td>312</td>\n",
       "      <td>0.003663</td>\n",
       "    </tr>\n",
       "    <tr>\n",
       "      <td>2</td>\n",
       "      <td>isna_5</td>\n",
       "      <td>-2.221383</td>\n",
       "      <td>0.249558</td>\n",
       "      <td>565</td>\n",
       "      <td>0.026325</td>\n",
       "    </tr>\n",
       "  </tbody>\n",
       "</table>\n",
       "</div>"
      ],
      "text/plain": [
       "      col         Z  p_ob_sam_mean    n    pvalue\n",
       "0  isna_3 -2.905807       0.144231  312  0.003663\n",
       "2  isna_5 -2.221383       0.249558  565  0.026325"
      ]
     },
     "metadata": {},
     "output_type": "display_data"
    },
    {
     "data": {
      "text/plain": [
       "0.029988079249523434"
      ]
     },
     "execution_count": 110,
     "metadata": {},
     "output_type": "execute_result"
    }
   ],
   "source": [
    "df_result = df_result.query('pvalue < 0.05')\n",
    "A = df_result['pvalue'].sum()\n",
    "display(df_result)\n",
    "A"
   ]
  },
  {
   "cell_type": "markdown",
   "id": "df03a86a",
   "metadata": {},
   "source": [
    "## 단계 1-3\n",
    "\n",
    "검정 결과 귀무가설을 기각할 수 있는 경우는 총 두 건이다. \n",
    "\n",
    "해당 파생 변수명의 뒷 자리 번호 순으로 na_1, na_2로 파생 변수를 만들어 prob1 데이터셋을 생성하라."
   ]
  },
  {
   "cell_type": "code",
   "execution_count": 111,
   "id": "207e8c39",
   "metadata": {},
   "outputs": [
    {
     "data": {
      "text/html": [
       "<div>\n",
       "<style scoped>\n",
       "    .dataframe tbody tr th:only-of-type {\n",
       "        vertical-align: middle;\n",
       "    }\n",
       "\n",
       "    .dataframe tbody tr th {\n",
       "        vertical-align: top;\n",
       "    }\n",
       "\n",
       "    .dataframe thead th {\n",
       "        text-align: right;\n",
       "    }\n",
       "</style>\n",
       "<table border=\"1\" class=\"dataframe\">\n",
       "  <thead>\n",
       "    <tr style=\"text-align: right;\">\n",
       "      <th></th>\n",
       "      <th>product_code</th>\n",
       "      <th>loading</th>\n",
       "      <th>attribute_0</th>\n",
       "      <th>attribute_1</th>\n",
       "      <th>attribute_2</th>\n",
       "      <th>attribute_3</th>\n",
       "      <th>measurement_0</th>\n",
       "      <th>measurement_1</th>\n",
       "      <th>measurement_2</th>\n",
       "      <th>measurement_3</th>\n",
       "      <th>...</th>\n",
       "      <th>isna_10</th>\n",
       "      <th>isna_11</th>\n",
       "      <th>isna_12</th>\n",
       "      <th>isna_13</th>\n",
       "      <th>isna_14</th>\n",
       "      <th>isna_15</th>\n",
       "      <th>isna_16</th>\n",
       "      <th>isna_17</th>\n",
       "      <th>na_1</th>\n",
       "      <th>na_2</th>\n",
       "    </tr>\n",
       "    <tr>\n",
       "      <th>id</th>\n",
       "      <th></th>\n",
       "      <th></th>\n",
       "      <th></th>\n",
       "      <th></th>\n",
       "      <th></th>\n",
       "      <th></th>\n",
       "      <th></th>\n",
       "      <th></th>\n",
       "      <th></th>\n",
       "      <th></th>\n",
       "      <th></th>\n",
       "      <th></th>\n",
       "      <th></th>\n",
       "      <th></th>\n",
       "      <th></th>\n",
       "      <th></th>\n",
       "      <th></th>\n",
       "      <th></th>\n",
       "      <th></th>\n",
       "      <th></th>\n",
       "      <th></th>\n",
       "    </tr>\n",
       "  </thead>\n",
       "  <tbody>\n",
       "    <tr>\n",
       "      <td>0</td>\n",
       "      <td>A</td>\n",
       "      <td>80.10</td>\n",
       "      <td>material_7</td>\n",
       "      <td>material_8</td>\n",
       "      <td>9</td>\n",
       "      <td>5</td>\n",
       "      <td>7</td>\n",
       "      <td>8</td>\n",
       "      <td>4</td>\n",
       "      <td>18.040</td>\n",
       "      <td>...</td>\n",
       "      <td>False</td>\n",
       "      <td>False</td>\n",
       "      <td>False</td>\n",
       "      <td>False</td>\n",
       "      <td>True</td>\n",
       "      <td>False</td>\n",
       "      <td>False</td>\n",
       "      <td>False</td>\n",
       "      <td>False</td>\n",
       "      <td>False</td>\n",
       "    </tr>\n",
       "    <tr>\n",
       "      <td>1</td>\n",
       "      <td>A</td>\n",
       "      <td>84.89</td>\n",
       "      <td>material_7</td>\n",
       "      <td>material_8</td>\n",
       "      <td>9</td>\n",
       "      <td>5</td>\n",
       "      <td>14</td>\n",
       "      <td>3</td>\n",
       "      <td>3</td>\n",
       "      <td>18.213</td>\n",
       "      <td>...</td>\n",
       "      <td>False</td>\n",
       "      <td>False</td>\n",
       "      <td>False</td>\n",
       "      <td>False</td>\n",
       "      <td>False</td>\n",
       "      <td>False</td>\n",
       "      <td>False</td>\n",
       "      <td>False</td>\n",
       "      <td>False</td>\n",
       "      <td>False</td>\n",
       "    </tr>\n",
       "    <tr>\n",
       "      <td>2</td>\n",
       "      <td>A</td>\n",
       "      <td>82.43</td>\n",
       "      <td>material_7</td>\n",
       "      <td>material_8</td>\n",
       "      <td>9</td>\n",
       "      <td>5</td>\n",
       "      <td>12</td>\n",
       "      <td>1</td>\n",
       "      <td>5</td>\n",
       "      <td>18.057</td>\n",
       "      <td>...</td>\n",
       "      <td>False</td>\n",
       "      <td>True</td>\n",
       "      <td>False</td>\n",
       "      <td>False</td>\n",
       "      <td>False</td>\n",
       "      <td>False</td>\n",
       "      <td>False</td>\n",
       "      <td>False</td>\n",
       "      <td>False</td>\n",
       "      <td>False</td>\n",
       "    </tr>\n",
       "    <tr>\n",
       "      <td>3</td>\n",
       "      <td>A</td>\n",
       "      <td>101.07</td>\n",
       "      <td>material_7</td>\n",
       "      <td>material_8</td>\n",
       "      <td>9</td>\n",
       "      <td>5</td>\n",
       "      <td>13</td>\n",
       "      <td>2</td>\n",
       "      <td>6</td>\n",
       "      <td>17.295</td>\n",
       "      <td>...</td>\n",
       "      <td>False</td>\n",
       "      <td>False</td>\n",
       "      <td>False</td>\n",
       "      <td>False</td>\n",
       "      <td>False</td>\n",
       "      <td>False</td>\n",
       "      <td>False</td>\n",
       "      <td>False</td>\n",
       "      <td>False</td>\n",
       "      <td>False</td>\n",
       "    </tr>\n",
       "    <tr>\n",
       "      <td>4</td>\n",
       "      <td>A</td>\n",
       "      <td>188.06</td>\n",
       "      <td>material_7</td>\n",
       "      <td>material_8</td>\n",
       "      <td>9</td>\n",
       "      <td>5</td>\n",
       "      <td>9</td>\n",
       "      <td>2</td>\n",
       "      <td>8</td>\n",
       "      <td>19.346</td>\n",
       "      <td>...</td>\n",
       "      <td>False</td>\n",
       "      <td>False</td>\n",
       "      <td>False</td>\n",
       "      <td>False</td>\n",
       "      <td>False</td>\n",
       "      <td>False</td>\n",
       "      <td>False</td>\n",
       "      <td>False</td>\n",
       "      <td>False</td>\n",
       "      <td>False</td>\n",
       "    </tr>\n",
       "  </tbody>\n",
       "</table>\n",
       "<p>5 rows × 42 columns</p>\n",
       "</div>"
      ],
      "text/plain": [
       "   product_code  loading attribute_0 attribute_1  attribute_2  attribute_3  \\\n",
       "id                                                                           \n",
       "0             A    80.10  material_7  material_8            9            5   \n",
       "1             A    84.89  material_7  material_8            9            5   \n",
       "2             A    82.43  material_7  material_8            9            5   \n",
       "3             A   101.07  material_7  material_8            9            5   \n",
       "4             A   188.06  material_7  material_8            9            5   \n",
       "\n",
       "    measurement_0  measurement_1  measurement_2  measurement_3  ...  isna_10  \\\n",
       "id                                                              ...            \n",
       "0               7              8              4         18.040  ...    False   \n",
       "1              14              3              3         18.213  ...    False   \n",
       "2              12              1              5         18.057  ...    False   \n",
       "3              13              2              6         17.295  ...    False   \n",
       "4               9              2              8         19.346  ...    False   \n",
       "\n",
       "    isna_11  isna_12  isna_13  isna_14  isna_15  isna_16  isna_17   na_1  \\\n",
       "id                                                                         \n",
       "0     False    False    False     True    False    False    False  False   \n",
       "1     False    False    False    False    False    False    False  False   \n",
       "2      True    False    False    False    False    False    False  False   \n",
       "3     False    False    False    False    False    False    False  False   \n",
       "4     False    False    False    False    False    False    False  False   \n",
       "\n",
       "     na_2  \n",
       "id         \n",
       "0   False  \n",
       "1   False  \n",
       "2   False  \n",
       "3   False  \n",
       "4   False  \n",
       "\n",
       "[5 rows x 42 columns]"
      ]
     },
     "execution_count": 111,
     "metadata": {},
     "output_type": "execute_result"
    }
   ],
   "source": [
    "df_prob1 = df_basetable.assign(\n",
    "    na_1 = lambda x: x['isna_3'],\n",
    "    na_2 = lambda x: x['isna_5'],\n",
    ")\n",
    "df_prob1.head()"
   ]
  },
  {
   "cell_type": "code",
   "execution_count": 112,
   "id": "ed7e10d2",
   "metadata": {},
   "outputs": [
    {
     "data": {
      "text/plain": [
       "(0.029988079249523434, 0.03)"
      ]
     },
     "execution_count": 112,
     "metadata": {},
     "output_type": "execute_result"
    }
   ],
   "source": [
    "A, round(A, 3)"
   ]
  },
  {
   "cell_type": "markdown",
   "id": "c33bbf8c",
   "metadata": {},
   "source": [
    "A의 값을 소수점 넷째 자리에서 반올림하여 셋째 자리까지 출력하시오. \n",
    "\n",
    "**0.030**"
   ]
  },
  {
   "cell_type": "code",
   "execution_count": null,
   "id": "a6cc8782",
   "metadata": {},
   "outputs": [],
   "source": []
  },
  {
   "cell_type": "markdown",
   "id": "569d2d0f",
   "metadata": {},
   "source": [
    "# 문제 2\n",
    "\n",
    "첫째는 스프링 개발 업체들은 실험이 제품 별로 공정하게 진행이 됐는지를 의문을 가지고 있다.\n",
    "\n",
    "product_code에 따라 개발 업체가 다르다. \n",
    "\n",
    "product_code에 따라서 스프링에 가한 부하(loading)를 동일하게 했는지 조사하라.\n",
    "\n",
    "둘째는, attribute_0와 attribute_1은 스프링을 구성하는 주요 소재이다. \n",
    "\n",
    "failure와는 관계가 없음이 이전에 검증되었다. \n",
    "\n",
    "하지만, 이에 대한 재확인 요청을 받아 attribute_0와 attribute_1은 failure와 상관없음을 확인한다.\n",
    "\n",
    "이를 위해 다음 단계를 수행하라.\n"
   ]
  },
  {
   "cell_type": "code",
   "execution_count": null,
   "id": "8bb314a6",
   "metadata": {},
   "outputs": [],
   "source": []
  },
  {
   "cell_type": "markdown",
   "id": "cfc21275",
   "metadata": {},
   "source": [
    "## 단계 2-1\n",
    "\n",
    "prob1에서 입력 변수 loading에 결측이 없는 행들을 뽑아 prob2 데이터프레임을 만든다.\n",
    "\n",
    "Hint] prob2의 데이터 수는 21,257 이다.\n"
   ]
  },
  {
   "cell_type": "code",
   "execution_count": 115,
   "id": "d2ef461d",
   "metadata": {},
   "outputs": [
    {
     "data": {
      "text/plain": [
       "21257"
      ]
     },
     "execution_count": 115,
     "metadata": {},
     "output_type": "execute_result"
    }
   ],
   "source": [
    "df_prob2 = df_prob1.loc[df_prob1['loading'].notna()].copy()\n",
    "len(df_prob2)"
   ]
  },
  {
   "cell_type": "markdown",
   "id": "82ebf527",
   "metadata": {},
   "source": [
    "## 단계 2-2\n",
    "\n",
    "prob2에 loading의 각 행들에 자연 로그 함수를 적용하여 파생 변수 loading_log를 만든다.\n"
   ]
  },
  {
   "cell_type": "code",
   "execution_count": 116,
   "id": "fb0152db",
   "metadata": {},
   "outputs": [],
   "source": [
    "df_prob2['loading_log'] = np.log(df_prob2['loading'])"
   ]
  },
  {
   "cell_type": "code",
   "execution_count": 117,
   "id": "da497606",
   "metadata": {},
   "outputs": [
    {
     "data": {
      "image/png": "[encoded data removed]",
      "text/plain": [
       "<Figure size 1600x300 with 2 Axes>"
      ]
     },
     "metadata": {},
     "output_type": "display_data"
    }
   ],
   "source": [
    "fig, axes = plt.subplots(1, 2, figsize=(16, 3))\n",
    "sns.histplot(df_prob2['loading'], ax=axes[0])\n",
    "sns.histplot(df_prob2['loading_log'], ax=axes[1])\n",
    "plt.tight_layout()\n",
    "plt.show()"
   ]
  },
  {
   "cell_type": "markdown",
   "id": "ea2245b2",
   "metadata": {},
   "source": [
    "## 단계 2-3\n",
    "\n",
    "loading_log가 product_code 각각에 대해서 정규성을 지니고 있는지 확인하고자 한다.\n",
    "\n",
    "이를 위해 product_code 별로 loading_log에 대한 Jarque-Bera로 검정하고, \n",
    "\n",
    "검정 결과 정규성을 부정할 수 없는 경우의 product_code의 수를 B라고 한다.(유의 수준: 5%)\n",
    "\n",
    "---\n",
    "\n",
    "**함수 가이드**\n",
    "\n",
    " scipy.stats 에서 제공 기능 활용\n",
    " \n",
    " 문제 지시사항 외 Default 값 사용\n",
    " \n",
    "---\n"
   ]
  },
  {
   "cell_type": "code",
   "execution_count": 119,
   "id": "ef523a17",
   "metadata": {},
   "outputs": [
    {
     "data": {
      "text/plain": [
       "array(['A', 'B', 'C', 'E'], dtype=object)"
      ]
     },
     "execution_count": 119,
     "metadata": {},
     "output_type": "execute_result"
    }
   ],
   "source": [
    "df_prob2['product_code'].unique()"
   ]
  },
  {
   "cell_type": "code",
   "execution_count": 121,
   "id": "f7563df2",
   "metadata": {},
   "outputs": [
    {
     "name": "stdout",
     "output_type": "stream",
     "text": [
      "Jarque_beraResult(statistic=1.467731470333654, pvalue=0.4800496537264637)\n",
      "Jarque_beraResult(statistic=0.6168837955943998, pvalue=0.7345906322931469)\n",
      "Jarque_beraResult(statistic=7.536229242478234, pvalue=0.023095566154546443)\n",
      "Jarque_beraResult(statistic=0.04839464502051384, pvalue=0.9760930856160965)\n"
     ]
    }
   ],
   "source": [
    "from scipy.stats import jarque_bera\n",
    "\n",
    "# 방법 1: Hard coding\n",
    "print(jarque_bera(df_prob2.loc[df_prob2['product_code'] == 'A', 'loading_log']))\n",
    "print(jarque_bera(df_prob2.loc[df_prob2['product_code'] == 'B', 'loading_log']))\n",
    "print(jarque_bera(df_prob2.loc[df_prob2['product_code'] == 'C', 'loading_log']))\n",
    "print(jarque_bera(df_prob2.loc[df_prob2['product_code'] == 'E', 'loading_log']))"
   ]
  },
  {
   "cell_type": "code",
   "execution_count": 129,
   "id": "1de41b40",
   "metadata": {},
   "outputs": [
    {
     "data": {
      "text/html": [
       "<div>\n",
       "<style scoped>\n",
       "    .dataframe tbody tr th:only-of-type {\n",
       "        vertical-align: middle;\n",
       "    }\n",
       "\n",
       "    .dataframe tbody tr th {\n",
       "        vertical-align: top;\n",
       "    }\n",
       "\n",
       "    .dataframe thead th {\n",
       "        text-align: right;\n",
       "    }\n",
       "</style>\n",
       "<table border=\"1\" class=\"dataframe\">\n",
       "  <thead>\n",
       "    <tr style=\"text-align: right;\">\n",
       "      <th></th>\n",
       "      <th>statistic</th>\n",
       "      <th>pvalue</th>\n",
       "    </tr>\n",
       "    <tr>\n",
       "      <th>product_code</th>\n",
       "      <th></th>\n",
       "      <th></th>\n",
       "    </tr>\n",
       "  </thead>\n",
       "  <tbody>\n",
       "    <tr>\n",
       "      <td>A</td>\n",
       "      <td>1.467731</td>\n",
       "      <td>0.480050</td>\n",
       "    </tr>\n",
       "    <tr>\n",
       "      <td>B</td>\n",
       "      <td>0.616884</td>\n",
       "      <td>0.734591</td>\n",
       "    </tr>\n",
       "    <tr>\n",
       "      <td>C</td>\n",
       "      <td>7.536229</td>\n",
       "      <td>0.023096</td>\n",
       "    </tr>\n",
       "    <tr>\n",
       "      <td>E</td>\n",
       "      <td>0.048395</td>\n",
       "      <td>0.976093</td>\n",
       "    </tr>\n",
       "  </tbody>\n",
       "</table>\n",
       "</div>"
      ],
      "text/plain": [
       "              statistic    pvalue\n",
       "product_code                     \n",
       "A              1.467731  0.480050\n",
       "B              0.616884  0.734591\n",
       "C              7.536229  0.023096\n",
       "E              0.048395  0.976093"
      ]
     },
     "execution_count": 129,
     "metadata": {},
     "output_type": "execute_result"
    }
   ],
   "source": [
    "# 방법 2: groupby ~ apply\n",
    "df_jarque = df_prob2.groupby('product_code')['loading_log'].apply(\n",
    "    lambda x: pd.Series(jarque_bera(x), index=['statistic', 'pvalue'])\n",
    ").unstack()\n",
    "df_jarque"
   ]
  },
  {
   "cell_type": "code",
   "execution_count": 173,
   "id": "dbc9f1bc",
   "metadata": {},
   "outputs": [
    {
     "data": {
      "text/plain": [
       "3"
      ]
     },
     "execution_count": 173,
     "metadata": {},
     "output_type": "execute_result"
    }
   ],
   "source": [
    "B = len(df_jarque.query('pvalue >= 0.05'))\n",
    "B"
   ]
  },
  {
   "cell_type": "markdown",
   "id": "dce7e5cf",
   "metadata": {},
   "source": [
    "## 단계 2-4\n",
    "\n",
    "loading_log 변수를 product_code로 구분했을 때, \n",
    "\n",
    "등분산성을 보이는지 Bartlett 검정을 통해 확인한다.\n",
    "\n",
    "검정 결과에서 p-value를 C라고 한다.\n",
    "\n",
    "---\n",
    "\n",
    "**함수 가이드**\n",
    "\n",
    " scipy.stats 에서 제공 기능 활용\n",
    " \n",
    " 문제 지시사항 외 Default 값 사용\n",
    " \n",
    "---\n"
   ]
  },
  {
   "cell_type": "code",
   "execution_count": 175,
   "id": "58e4897b",
   "metadata": {},
   "outputs": [
    {
     "data": {
      "text/plain": [
       "(BartlettResult(statistic=1.928667047072185, pvalue=0.5873433093297675),\n",
       " 0.5873433093297675)"
      ]
     },
     "execution_count": 175,
     "metadata": {},
     "output_type": "execute_result"
    }
   ],
   "source": [
    "from scipy.stats import bartlett\n",
    "# 방법 1: Hard coding\n",
    "result_2_4 = bartlett(\n",
    "    df_prob2.loc[df_prob2['product_code'] == 'A', 'loading_log'],\n",
    "    df_prob2.loc[df_prob2['product_code'] == 'B', 'loading_log'],\n",
    "    df_prob2.loc[df_prob2['product_code'] == 'C', 'loading_log'],\n",
    "    df_prob2.loc[df_prob2['product_code'] == 'E', 'loading_log']\n",
    ")\n",
    "C = result_2_4.pvalue\n",
    "result_2_4, C"
   ]
  },
  {
   "cell_type": "code",
   "execution_count": 186,
   "id": "f3a017f1",
   "metadata": {},
   "outputs": [
    {
     "data": {
      "text/plain": [
       "(BartlettResult(statistic=1.928667047072185, pvalue=0.5873433093297675),\n",
       " 0.5873433093297675)"
      ]
     },
     "execution_count": 186,
     "metadata": {},
     "output_type": "execute_result"
    }
   ],
   "source": [
    "# 방법 2: groupby ~ agg (list)\n",
    "result_2_4 = bartlett(\n",
    "    *df_prob2.groupby('product_code')['loading_log'].agg(list)\n",
    ")\n",
    "C = result_2_4.pvalue\n",
    "result_2_4, C"
   ]
  },
  {
   "cell_type": "markdown",
   "id": "b058c6b2",
   "metadata": {},
   "source": [
    "## 단계 2-5\n",
    "\n",
    "product_code에 대한 분산분석(ANOVA)을 통해서 loading_log 평균에 차이가 있는지 검정한다.\n",
    "\n",
    "그 결과 중 p-value를 D라고 한다.\n",
    "\n",
    "---\n",
    "\n",
    "**함수 가이드**\n",
    "\n",
    " scipy.stats 제공 기능 활용\n",
    " \n",
    " 문제 지시사항 외 Default 값 사용\n",
    " \n",
    "---\n"
   ]
  },
  {
   "cell_type": "code",
   "execution_count": 187,
   "id": "ec47f9e0",
   "metadata": {},
   "outputs": [
    {
     "data": {
      "text/plain": [
       "(F_onewayResult(statistic=0.37177284134760413, pvalue=0.7733782072320899),\n",
       " 0.7733782072320899)"
      ]
     },
     "execution_count": 187,
     "metadata": {},
     "output_type": "execute_result"
    }
   ],
   "source": [
    "from scipy.stats import f_oneway\n",
    "\n",
    "result_2_5 = f_oneway(\n",
    "    *df_prob2.groupby('product_code')['loading_log'].agg(list)\n",
    ")\n",
    "D = result_2_5.pvalue\n",
    "result_2_5, D"
   ]
  },
  {
   "cell_type": "code",
   "execution_count": 188,
   "id": "df489b8c",
   "metadata": {},
   "outputs": [
    {
     "data": {
      "text/plain": [
       "(0.3717728413460874, 0.7733782072333035, 0.7733782072326594)"
      ]
     },
     "execution_count": 188,
     "metadata": {},
     "output_type": "execute_result"
    }
   ],
   "source": [
    "from scipy.stats import f\n",
    "# F = MSR / MSE,  F ~ F(k - 1, n - k), k: 범주의 수, n: 표본수\n",
    "# MSR = SSR / (k - 1), MSE = SSE / (n - k)\n",
    "# SSR = sum((예측값 - 평균) ** 2), SSE = sum((실제값 - 예측값) ** 2)\n",
    "\n",
    "# s_mean = df_prob2.groupby('product_code')['loading_log'].mean()\n",
    "# df_prob2['product_code'].map(s_mean)\n",
    "s_prd = df_prob2.groupby('product_code')['loading_log'].transform('mean')\n",
    "SSR = ((s_prd - df_prob2['loading_log'].mean()) ** 2).sum()\n",
    "SSE = ((s_prd - df_prob2['loading_log']) ** 2).sum()\n",
    "k = df_prob2['product_code'].nunique()\n",
    "n = len(df_prob2)\n",
    "MSR = SSR / (k - 1)\n",
    "MSE = SSE / (n - k)\n",
    "F = MSR / MSE\n",
    "pvalue = 1 - f.cdf(F, k - 1, n - k)\n",
    "F, pvalue, f.sf(F, k -1, n - k)"
   ]
  },
  {
   "cell_type": "code",
   "execution_count": 189,
   "id": "38cd3207",
   "metadata": {},
   "outputs": [
    {
     "data": {
      "text/plain": [
       "(1879.1520065602526, 1879.1520065602524)"
      ]
     },
     "execution_count": 189,
     "metadata": {},
     "output_type": "execute_result"
    }
   ],
   "source": [
    "# SST = SSR + SSE\n",
    "SST = ((df_prob2['loading_log'] - df_prob2['loading_log'].mean()) ** 2).sum()\n",
    "SST, SSR + SSE"
   ]
  },
  {
   "cell_type": "markdown",
   "id": "b3c23d2c",
   "metadata": {},
   "source": [
    "## 단계 2-6\n",
    "\n",
    "카이제곱검정을 통해 attribute_0, attribute_1의 결합값이 failure와 연관이 있는지 조사하라. \n",
    "\n",
    "attribute_0, attribute_1의 결합값의 의미 attribute_0=material_7, attribute_1=material_8 이라면, 이 둘의 결합값은\n",
    "matertial_7material_8를 의미한다.\n",
    "\n",
    "(유의 수준 1%) 연관이 있다면 E값은 1 없으면 0으로 한다.\n",
    "\n",
    "---\n",
    "\n",
    "**함수 가이드**\n",
    "\n",
    " scipy.stats.chi2_contingency, correction=False\n",
    " \n",
    " 문제 지시사항 외 Default 값 사용\n",
    " \n",
    "---\n"
   ]
  },
  {
   "cell_type": "code",
   "execution_count": 190,
   "id": "a487a9bb",
   "metadata": {},
   "outputs": [
    {
     "data": {
      "text/html": [
       "<div>\n",
       "<style scoped>\n",
       "    .dataframe tbody tr th:only-of-type {\n",
       "        vertical-align: middle;\n",
       "    }\n",
       "\n",
       "    .dataframe tbody tr th {\n",
       "        vertical-align: top;\n",
       "    }\n",
       "\n",
       "    .dataframe thead th {\n",
       "        text-align: right;\n",
       "    }\n",
       "</style>\n",
       "<table border=\"1\" class=\"dataframe\">\n",
       "  <thead>\n",
       "    <tr style=\"text-align: right;\">\n",
       "      <th>failure</th>\n",
       "      <th>0</th>\n",
       "      <th>1</th>\n",
       "    </tr>\n",
       "    <tr>\n",
       "      <th>row_0</th>\n",
       "      <th></th>\n",
       "      <th></th>\n",
       "    </tr>\n",
       "  </thead>\n",
       "  <tbody>\n",
       "    <tr>\n",
       "      <td>material_5material_5</td>\n",
       "      <td>4162</td>\n",
       "      <td>1047</td>\n",
       "    </tr>\n",
       "    <tr>\n",
       "      <td>material_7material_6</td>\n",
       "      <td>4181</td>\n",
       "      <td>1100</td>\n",
       "    </tr>\n",
       "    <tr>\n",
       "      <td>material_7material_8</td>\n",
       "      <td>8413</td>\n",
       "      <td>2354</td>\n",
       "    </tr>\n",
       "  </tbody>\n",
       "</table>\n",
       "</div>"
      ],
      "text/plain": [
       "failure                  0     1\n",
       "row_0                           \n",
       "material_5material_5  4162  1047\n",
       "material_7material_6  4181  1100\n",
       "material_7material_8  8413  2354"
      ]
     },
     "execution_count": 190,
     "metadata": {},
     "output_type": "execute_result"
    }
   ],
   "source": [
    "# 방법 1\n",
    "pd.crosstab(\n",
    "    index=df_prob2['attribute_0'] + df_prob2['attribute_1'],\n",
    "    columns=df_prob2['failure']\n",
    ")"
   ]
  },
  {
   "cell_type": "code",
   "execution_count": 191,
   "id": "4d762ed8",
   "metadata": {},
   "outputs": [
    {
     "data": {
      "text/html": [
       "<div>\n",
       "<style scoped>\n",
       "    .dataframe tbody tr th:only-of-type {\n",
       "        vertical-align: middle;\n",
       "    }\n",
       "\n",
       "    .dataframe tbody tr th {\n",
       "        vertical-align: top;\n",
       "    }\n",
       "\n",
       "    .dataframe thead th {\n",
       "        text-align: right;\n",
       "    }\n",
       "</style>\n",
       "<table border=\"1\" class=\"dataframe\">\n",
       "  <thead>\n",
       "    <tr style=\"text-align: right;\">\n",
       "      <th>failure</th>\n",
       "      <th>0</th>\n",
       "      <th>1</th>\n",
       "    </tr>\n",
       "    <tr>\n",
       "      <th>attr01</th>\n",
       "      <th></th>\n",
       "      <th></th>\n",
       "    </tr>\n",
       "  </thead>\n",
       "  <tbody>\n",
       "    <tr>\n",
       "      <td>material_5material_5</td>\n",
       "      <td>4162</td>\n",
       "      <td>1047</td>\n",
       "    </tr>\n",
       "    <tr>\n",
       "      <td>material_7material_6</td>\n",
       "      <td>4181</td>\n",
       "      <td>1100</td>\n",
       "    </tr>\n",
       "    <tr>\n",
       "      <td>material_7material_8</td>\n",
       "      <td>8413</td>\n",
       "      <td>2354</td>\n",
       "    </tr>\n",
       "  </tbody>\n",
       "</table>\n",
       "</div>"
      ],
      "text/plain": [
       "failure                  0     1\n",
       "attr01                          \n",
       "material_5material_5  4162  1047\n",
       "material_7material_6  4181  1100\n",
       "material_7material_8  8413  2354"
      ]
     },
     "execution_count": 191,
     "metadata": {},
     "output_type": "execute_result"
    }
   ],
   "source": [
    "# 방법 2: pivot_table\n",
    "df_prob2[['failure']].assign(\n",
    "    attr01 = df_prob2['attribute_0'] + df_prob2['attribute_1']\n",
    ").pipe(\n",
    "    lambda x: x.pivot_table(index='attr01', columns='failure', aggfunc='size')\n",
    ")"
   ]
  },
  {
   "cell_type": "code",
   "execution_count": 192,
   "id": "8dfb52e5",
   "metadata": {},
   "outputs": [
    {
     "data": {
      "text/html": [
       "<div>\n",
       "<style scoped>\n",
       "    .dataframe tbody tr th:only-of-type {\n",
       "        vertical-align: middle;\n",
       "    }\n",
       "\n",
       "    .dataframe tbody tr th {\n",
       "        vertical-align: top;\n",
       "    }\n",
       "\n",
       "    .dataframe thead th {\n",
       "        text-align: right;\n",
       "    }\n",
       "</style>\n",
       "<table border=\"1\" class=\"dataframe\">\n",
       "  <thead>\n",
       "    <tr style=\"text-align: right;\">\n",
       "      <th>failure</th>\n",
       "      <th>0</th>\n",
       "      <th>1</th>\n",
       "    </tr>\n",
       "    <tr>\n",
       "      <th>attr01</th>\n",
       "      <th></th>\n",
       "      <th></th>\n",
       "    </tr>\n",
       "  </thead>\n",
       "  <tbody>\n",
       "    <tr>\n",
       "      <td>material_5material_5</td>\n",
       "      <td>4162</td>\n",
       "      <td>1047</td>\n",
       "    </tr>\n",
       "    <tr>\n",
       "      <td>material_7material_6</td>\n",
       "      <td>4181</td>\n",
       "      <td>1100</td>\n",
       "    </tr>\n",
       "    <tr>\n",
       "      <td>material_7material_8</td>\n",
       "      <td>8413</td>\n",
       "      <td>2354</td>\n",
       "    </tr>\n",
       "  </tbody>\n",
       "</table>\n",
       "</div>"
      ],
      "text/plain": [
       "failure                  0     1\n",
       "attr01                          \n",
       "material_5material_5  4162  1047\n",
       "material_7material_6  4181  1100\n",
       "material_7material_8  8413  2354"
      ]
     },
     "execution_count": 192,
     "metadata": {},
     "output_type": "execute_result"
    }
   ],
   "source": [
    "# 방법 3: groupby ~ size\n",
    "df_prob2[['failure']].assign(\n",
    "    attr01 = df_prob2['attribute_0'] + df_prob2['attribute_1']\n",
    ").pipe(\n",
    "    lambda x: x.groupby(['failure', 'attr01']).size()\n",
    ").unstack(level=0)"
   ]
  },
  {
   "cell_type": "code",
   "execution_count": 193,
   "id": "dffdccb1",
   "metadata": {},
   "outputs": [
    {
     "data": {
      "text/plain": [
       "((7.0400463075335615,\n",
       "  0.029598749837407304,\n",
       "  2,\n",
       "  array([[4106.03584702, 1102.96415298],\n",
       "         [4162.79042198, 1118.20957802],\n",
       "         [8487.17373101, 2279.82626899]])),\n",
       " 0)"
      ]
     },
     "execution_count": 193,
     "metadata": {},
     "output_type": "execute_result"
    }
   ],
   "source": [
    "from scipy.stats import chi2_contingency\n",
    "\n",
    "result_2_6 = chi2_contingency(\n",
    "    pd.crosstab(\n",
    "        index=df_prob2['attribute_0'] + df_prob2['attribute_1'],\n",
    "        columns=df_prob2['failure']\n",
    "    ), correction=False\n",
    ")\n",
    "# H0: 독립 O, 연관성 X H1: 독립 X, 연관성 O\n",
    "\n",
    "E = 0 if result_2_6[1] >= 0.01 else 1\n",
    "result_2_6, E"
   ]
  },
  {
   "cell_type": "markdown",
   "id": "5d0b9743",
   "metadata": {},
   "source": [
    "**Tip!** $Chi^2$ 검정도 직접해봅니다.\n",
    "\n",
    "$chi2 = \\sum_{i,j}\\frac{(E_{ij} - O_{ij})^2}{E_{ij}}$"
   ]
  },
  {
   "cell_type": "code",
   "execution_count": 216,
   "id": "5d498b63",
   "metadata": {},
   "outputs": [
    {
     "data": {
      "text/plain": [
       "(7.040046307533586, 0.029598749837406957)"
      ]
     },
     "execution_count": 216,
     "metadata": {},
     "output_type": "execute_result"
    }
   ],
   "source": [
    "from scipy.stats import chi2\n",
    "s_attr01 = df_prob2['attribute_0'] + df_prob2['attribute_1']\n",
    "df_exp = s_attr01.value_counts(normalize=True).rename('val').to_frame().dot(\n",
    "    df_prob2['failure'].value_counts().rename('val').to_frame().T\n",
    ")\n",
    "df_ob = pd.crosstab(\n",
    "    index=df_prob2['attribute_0'] + df_prob2['attribute_1'],\n",
    "    columns=df_prob2['failure']\n",
    ")\n",
    "\n",
    "C2 = ((df_exp - df_ob) ** 2 / df_exp).sum().sum()\n",
    "dof = (s_attr01.nunique() - 1) * (df_prob2['failure'].nunique() - 1)\n",
    "C2, 1 - chi2.cdf(C2, dof)"
   ]
  },
  {
   "cell_type": "code",
   "execution_count": 195,
   "id": "9af5ae0f",
   "metadata": {},
   "outputs": [
    {
     "data": {
      "text/plain": [
       "(3, 0.5873433093297675, 0.7733782072320899, 0, 4.360721516561858, 4.36)"
      ]
     },
     "execution_count": 195,
     "metadata": {},
     "output_type": "execute_result"
    }
   ],
   "source": [
    "B, C, D, E, B + C + D + E, round(B + C + D + E, 2)"
   ]
  },
  {
   "cell_type": "markdown",
   "id": "af42805f",
   "metadata": {},
   "source": [
    "B + C + D + E의 값을 소수점 셋째 자리에서 반올림하여 둘째 자리까지 출력하시오.\n",
    "\n",
    "**4.36**"
   ]
  },
  {
   "cell_type": "markdown",
   "id": "e3fe1afc",
   "metadata": {},
   "source": [
    "# 문제 3\n",
    "\n",
    "로지스틱 회귀모델로 수치형 변수 measurement_0 ~ 17, \n",
    "\n",
    "loading과 이진형인 na_1, na_2 중에서 최적의 성능을 보이는 입력 변수들을 찾고자 한다.\n"
   ]
  },
  {
   "cell_type": "code",
   "execution_count": null,
   "id": "17a63c49",
   "metadata": {},
   "outputs": [],
   "source": []
  },
  {
   "cell_type": "markdown",
   "id": "a1ec19e2",
   "metadata": {},
   "source": [
    "## 단계 3-1\n",
    "\n",
    "prob1을 복사하여 prob3을 만든다. loading의 결측치는 loading의 평균으로 대치한다.  "
   ]
  },
  {
   "cell_type": "code",
   "execution_count": 250,
   "id": "74e376a6",
   "metadata": {},
   "outputs": [],
   "source": [
    "# 방법1\n",
    "df_prob3 = df_prob1.copy()\n",
    "df_prob3['loading'] = df_prob3['loading'].fillna(df_prob3['loading'].mean())"
   ]
  },
  {
   "cell_type": "code",
   "execution_count": 258,
   "id": "5267b16f",
   "metadata": {},
   "outputs": [],
   "source": [
    "# 방법2\n",
    "df_prob3 = df_prob1.assign(\n",
    "    loading = lambda x: x['loading'].fillna(x['loading'].mean())\n",
    ")"
   ]
  },
  {
   "cell_type": "markdown",
   "id": "61eb5594",
   "metadata": {},
   "source": [
    "## 단계 3-2: \n",
    "    \n",
    "prob3를 80%는 학습데이터 prob3_train으로 20%는 테스트데이터 prob3_test로 나눈다. \n",
    "\n",
    "prob3_train의 failure가 1인 비율과 prob3_test의 failure가 1의 비율을 동일하게 한다.\n",
    "\n",
    "\n",
    "---\n",
    "\n",
    "**함수 가이드**\n",
    "\n",
    " sklearn.model_selection.train_test_split, random_state=123, \n",
    " \n",
    " train과 test의 failure의 비율은 stratify 매개 변수를 이용하여 맞춘다.\n",
    " \n",
    " 문제 지시사항 외 Default 값 사용\n",
    " \n",
    "---"
   ]
  },
  {
   "cell_type": "code",
   "execution_count": 259,
   "id": "7b58d9c8",
   "metadata": {},
   "outputs": [],
   "source": [
    "from sklearn.model_selection import train_test_split\n",
    "\n",
    "df_prob3_train, df_prob3_test = train_test_split(\n",
    "    df_prob3, train_size=0.80, random_state=123, stratify=df_prob3['failure']\n",
    ")\n",
    "df_prob3_train, df_prob3_test = df_prob3_train.copy(), df_prob3_test.copy()"
   ]
  },
  {
   "cell_type": "code",
   "execution_count": 260,
   "id": "ab6cdf18",
   "metadata": {},
   "outputs": [
    {
     "data": {
      "text/html": [
       "<div>\n",
       "<style scoped>\n",
       "    .dataframe tbody tr th:only-of-type {\n",
       "        vertical-align: middle;\n",
       "    }\n",
       "\n",
       "    .dataframe tbody tr th {\n",
       "        vertical-align: top;\n",
       "    }\n",
       "\n",
       "    .dataframe thead th {\n",
       "        text-align: right;\n",
       "    }\n",
       "</style>\n",
       "<table border=\"1\" class=\"dataframe\">\n",
       "  <thead>\n",
       "    <tr style=\"text-align: right;\">\n",
       "      <th></th>\n",
       "      <th>train</th>\n",
       "      <th>test</th>\n",
       "    </tr>\n",
       "  </thead>\n",
       "  <tbody>\n",
       "    <tr>\n",
       "      <td>0</td>\n",
       "      <td>0.788535</td>\n",
       "      <td>0.788677</td>\n",
       "    </tr>\n",
       "    <tr>\n",
       "      <td>1</td>\n",
       "      <td>0.211465</td>\n",
       "      <td>0.211323</td>\n",
       "    </tr>\n",
       "  </tbody>\n",
       "</table>\n",
       "</div>"
      ],
      "text/plain": [
       "      train      test\n",
       "0  0.788535  0.788677\n",
       "1  0.211465  0.211323"
      ]
     },
     "execution_count": 260,
     "metadata": {},
     "output_type": "execute_result"
    }
   ],
   "source": [
    "pd.concat([\n",
    "    df_prob3_train['failure'].value_counts(normalize=True).rename('train'),\n",
    "    df_prob3_test['failure'].value_counts(normalize=True).rename('test')\n",
    "], axis=1)"
   ]
  },
  {
   "cell_type": "markdown",
   "id": "e7716c3a",
   "metadata": {},
   "source": [
    "## 단계 3-3\n",
    "\n",
    "prob3_train의 수치형 입력 변수 loading, measurement_0 ~ 17을 표준화한다. \n",
    "\n",
    "prob3_train의 표준화 설정으로 prob3_test의 loading, measurement_0 ~ 17에도 적용한다. \n",
    "\n",
    "표준화 처리한 prob3_train과 prob3_test는 문제 4와 문제 5에서 사용한다.\n",
    "\n",
    "\n",
    "---\n",
    "\n",
    "**함수 가이드**\n",
    "\n",
    " sklearn.preprocessing 제공 기능 활용, \n",
    " \n",
    " 문제 지시사항 외 Default 값 사용\n",
    " \n",
    "---\n"
   ]
  },
  {
   "cell_type": "code",
   "execution_count": 261,
   "id": "bf17f958",
   "metadata": {},
   "outputs": [],
   "source": [
    "from sklearn.preprocessing import StandardScaler\n",
    "std_scaler = StandardScaler()\n",
    "X_std = ['loading'] + ['measurement_{}'.format(i) for i in range(18)]\n",
    "df_prob3_train[X_std] = std_scaler.fit_transform(df_prob3_train[X_std])\n",
    "df_prob3_test[X_std] = std_scaler.transform(df_prob3_test[X_std])"
   ]
  },
  {
   "cell_type": "markdown",
   "id": "b20b6ef8",
   "metadata": {},
   "source": [
    "## 단계 3-4\n",
    "    \n",
    "로지스틱 회귀모델을 사용하여 loading, measurement_0~17과 na_1, na_2를 입력 변수로 하여 prob3_train을 학습한다. \n",
    "\n",
    "로지스틱 회귀모델을 prob3_test로 성능을 측정한 값을 A라고 한다.\n",
    "\n",
    "입력 변수: loading, measurement_0~17, na_1, na_2\n",
    "\n",
    "대상 변수: failure\n",
    "\n",
    "성능 지표: AUC(area under of ROC curve)\n",
    "\n",
    "---\n",
    "\n",
    "**함수 가이드**\n",
    "\n",
    " sklearn.linear_model.LogisticRegression, solver='lbfgs', 문제 지시사항 외 Default 값 사용\n",
    " \n",
    " sklearn.metrics.roc_auc_score\n",
    " \n",
    "---"
   ]
  },
  {
   "cell_type": "code",
   "execution_count": 304,
   "id": "fb86e3fd",
   "metadata": {},
   "outputs": [
    {
     "data": {
      "text/plain": [
       "LogisticRegression(C=1.0, class_weight=None, dual=False, fit_intercept=True,\n",
       "                   intercept_scaling=1, l1_ratio=None, max_iter=100,\n",
       "                   multi_class='warn', n_jobs=None, penalty='l2',\n",
       "                   random_state=None, solver='lbfgs', tol=0.0001, verbose=0,\n",
       "                   warm_start=False)"
      ]
     },
     "execution_count": 304,
     "metadata": {},
     "output_type": "execute_result"
    }
   ],
   "source": [
    "from sklearn.linear_model import LogisticRegression\n",
    "from sklearn.metrics import roc_auc_score # 성능 지표: AUC\n",
    "X_lr = ['loading'] + ['measurement_{}'.format(i) for i in range(18)] + ['na_1', 'na_2']\n",
    "clf_lr = LogisticRegression(solver='lbfgs')\n",
    "clf_lr.fit(df_prob3_train[X_lr], df_prob3_train['failure'])"
   ]
  },
  {
   "cell_type": "code",
   "execution_count": 290,
   "id": "93da995b",
   "metadata": {},
   "outputs": [
    {
     "data": {
      "text/plain": [
       "0.5792951262053387"
      ]
     },
     "execution_count": 290,
     "metadata": {},
     "output_type": "execute_result"
    }
   ],
   "source": [
    "roc_auc_score(\n",
    "    df_prob3_test['failure'],\n",
    "    clf_lr.decision_function(df_prob3_test[X_lr])\n",
    ")"
   ]
  },
  {
   "cell_type": "code",
   "execution_count": 291,
   "id": "aef0e0bd",
   "metadata": {},
   "outputs": [
    {
     "data": {
      "text/plain": [
       "(0.5792951262053387, 0.5952982435574312)"
      ]
     },
     "execution_count": 291,
     "metadata": {},
     "output_type": "execute_result"
    }
   ],
   "source": [
    "A = roc_auc_score(df_prob3_test['failure'] , clf_lr.predict_proba(df_prob3_test[X_lr])[:, 1])\n",
    "(\n",
    "    A,\n",
    "    roc_auc_score(df_prob3_train['failure'] , clf_lr.predict_proba(df_prob3_train[X_lr])[:, 1])\n",
    ")"
   ]
  },
  {
   "cell_type": "code",
   "execution_count": 307,
   "id": "b25b2751",
   "metadata": {},
   "outputs": [
    {
     "data": {
      "text/plain": [
       "0.5778277926972065"
      ]
     },
     "execution_count": 307,
     "metadata": {},
     "output_type": "execute_result"
    }
   ],
   "source": [
    "roc_auc_score(df_prob3_test['failure'], df_prob3_test['loading'])"
   ]
  },
  {
   "cell_type": "code",
   "execution_count": 302,
   "id": "64573160",
   "metadata": {},
   "outputs": [
    {
     "data": {
      "text/plain": [
       "0.5792951262053387"
      ]
     },
     "execution_count": 302,
     "metadata": {},
     "output_type": "execute_result"
    }
   ],
   "source": [
    "df_prob3_test[['failure']].assign(\n",
    "    score = clf_lr.decision_function(df_prob3_test[X_lr])\n",
    ").sort_values('score', ascending=False).assign(\n",
    "    fpr=lambda x: (1 - x['failure']).cumsum() / (1 - x['failure']).sum(),\n",
    "    tpr=lambda x: (x['failure']).cumsum() / ( x['failure']).sum(),\n",
    ").assign(\n",
    "    fpr_1 = lambda x: x['fpr'].shift(1).fillna(0)\n",
    ").assign(\n",
    "    sq = lambda x: (x['fpr'] - x['fpr_1']) * x['tpr']\n",
    ")['sq'].sum()"
   ]
  },
  {
   "cell_type": "code",
   "execution_count": 303,
   "id": "64cc2b5e",
   "metadata": {},
   "outputs": [
    {
     "data": {
      "image/png": "[encoded data removed]",
      "text/plain": [
       "<Figure size 600x500 with 1 Axes>"
      ]
     },
     "metadata": {},
     "output_type": "display_data"
    }
   ],
   "source": [
    "# ROC AUC를 그려봅니다.\n",
    "# 이 때 logit으로 구해 보겠습니다.\n",
    "plt.figure(figsize=(6, 5))\n",
    "plt.plot([0, 1], [0, 1], color='orange', linestyle='--')\n",
    "df_prob3_test[['failure']].assign(\n",
    "    score = clf_lr.decision_function(df_prob3_test[X_lr])\n",
    ").sort_values('score', ascending=False).assign(\n",
    "    fpr=lambda x: (1-x['failure']).cumsum() / (1 - x['failure']).sum(),\n",
    "    tpr=lambda x: (x['failure']).cumsum() / ( x['failure']).sum(),\n",
    ").pipe(\n",
    "    lambda x: plt.plot(x['fpr'], x['tpr'])\n",
    ")\n",
    "plt.gca().set_xlabel('False Postive Rate')\n",
    "plt.gca().set_ylabel('True Postive Rate')\n",
    "plt.show()"
   ]
  },
  {
   "cell_type": "markdown",
   "id": "7cba372a",
   "metadata": {},
   "source": [
    "## 단계 3-5\n",
    "\n",
    "loading, measurement_0 ~ 17, na_1, na_2를 후보 입력 변수로 한다. \n",
    "\n",
    "전진 선택법을 사용하여 이 후보 입력 변수 중에서 최적의 성능을 보이는 입력 변수의 조합을 찾는다. \n",
    "\n",
    "전진 선택법의 선택 기준은 prob3_train을 대상으로 5겹 층화교차검증(5-Fold stratified cross validation)을 하고 \n",
    "\n",
    "겹외(OOF, Out-Of Fold) 성능의 평균값으로 한다. 전진 선택 과정에서 선택했던 변수를 제외하지 않는다. \n",
    "\n",
    "입력 변수: 본 단계 요건 참고\n",
    "\n",
    "대상 변수: failure \n",
    "\n",
    "성능 지표: AUC(area under of ROC curve)\n",
    "\n",
    "---\n",
    "**함수가이드**\n",
    "\n",
    "mlxtend.feature_selection.SequentialFeatureSelector\n",
    "\n",
    "sklearn.linear_model.LogisticRegression, solver='lbfgs'\n",
    "\n",
    "sklearn.metrics.roc_auc_score\n",
    "\n",
    "sklearn.model_selection.StratifiedKFold, random_state=123, shuffle=True\n",
    "\n",
    "문제 지시사항 외 Default 값 사용\n",
    "\n",
    "---"
   ]
  },
  {
   "cell_type": "code",
   "execution_count": 311,
   "id": "9713233f",
   "metadata": {},
   "outputs": [
    {
     "data": {
      "text/plain": [
       "SequentialFeatureSelector(clone_estimator=True,\n",
       "                          cv=StratifiedKFold(n_splits=5, random_state=123, shuffle=True),\n",
       "                          estimator=LogisticRegression(C=1.0, class_weight=None,\n",
       "                                                       dual=False,\n",
       "                                                       fit_intercept=True,\n",
       "                                                       intercept_scaling=1,\n",
       "                                                       l1_ratio=None,\n",
       "                                                       max_iter=100,\n",
       "                                                       multi_class='warn',\n",
       "                                                       n_jobs=None,\n",
       "                                                       penalty='l2',\n",
       "                                                       random_state=None,\n",
       "                                                       solver='lbfgs',\n",
       "                                                       tol=0.0001, verbose=0,\n",
       "                                                       warm_start=False),\n",
       "                          floating=False, forward=True, k_features='best',\n",
       "                          n_jobs=1, pre_dispatch='2*n_jobs', scoring='roc_auc',\n",
       "                          verbose=0)"
      ]
     },
     "execution_count": 311,
     "metadata": {},
     "output_type": "execute_result"
    }
   ],
   "source": [
    "from mlxtend.feature_selection import SequentialFeatureSelector\n",
    "from sklearn.model_selection import StratifiedKFold\n",
    "\n",
    "# loading, measurement_0 ~ 17, na_1, na_2를 후보 입력 변수로 한다.\n",
    "sfs = SequentialFeatureSelector(\n",
    "    estimator = LogisticRegression(solver='lbfgs'), \n",
    "    forward=True, # 전진 선택법을 사용하여 \n",
    "    k_features='best', # 이 후보 입력 변수 중에서 최적의 성능을 보이는 입력 변수의 조합을 찾는다.\n",
    "    cv=StratifiedKFold(5, random_state=123, shuffle=True), # 5겹 층화교차검증(5-Fold stratified cross validation)을 하고\n",
    "    floating=False, # 전진 선택 과정에서 선택했던 변수를 제외하지 않는다.\n",
    "    scoring='roc_auc', # 성능 지표: AUC(area under of ROC curve): _score 끝나면 _score 뺀다. _error끝나면, neg_를 붙인다. \n",
    ")\n",
    "X_sfs = ['loading'] + ['measurement_{}'.format(i) for i in range(18)] + ['na_1', 'na_2']\n",
    "sfs.fit(df_prob3_train[X_sfs], df_prob3_train['failure'])"
   ]
  },
  {
   "cell_type": "code",
   "execution_count": 323,
   "id": "848bf9ff",
   "metadata": {},
   "outputs": [
    {
     "data": {
      "text/plain": [
       "(['loading',\n",
       "  'measurement_1',\n",
       "  'measurement_4',\n",
       "  'measurement_14',\n",
       "  'measurement_17',\n",
       "  'na_1'],\n",
       " 0.5917537024093409)"
      ]
     },
     "execution_count": 323,
     "metadata": {},
     "output_type": "execute_result"
    }
   ],
   "source": [
    "# k_feature_names_, subsets_, k_score_\n",
    "X_sfs = list(sfs.k_feature_names_)\n",
    "X_sfs, sfs.k_score_"
   ]
  },
  {
   "cell_type": "markdown",
   "id": "2e7c6893",
   "metadata": {},
   "source": [
    "## 단계 3-6\n",
    "\n",
    "단계 3-5에서 찾은 최적의 입력 변수 조합으로 로지스틱 회귀모델을 사용하여 prob3_train을 학습하고 \n",
    "\n",
    "prob3_test로 성능을 측정한 값을 B라고 한다.\n",
    "\n",
    "입력 변수: **단계 3-5**에서 도출한 최적의 입력 변수 조합\n",
    "\n",
    "대상 변수: failure\n",
    "\n",
    "성능 지표: AUC(area under of ROC curve)\n",
    "\n",
    "---\n",
    "**함수 가이드**\n",
    "\n",
    "sklearn.linear_model.LogisticRegression, solver='lbfgs'\n",
    "\n",
    "sklearn.metrics.roc_auc_score\n",
    "\n",
    "문제 지시사항 외 Default 값 사용\n",
    "\n",
    "---"
   ]
  },
  {
   "cell_type": "code",
   "execution_count": 324,
   "id": "8d96e152",
   "metadata": {},
   "outputs": [
    {
     "data": {
      "text/plain": [
       "LogisticRegression(C=1.0, class_weight=None, dual=False, fit_intercept=True,\n",
       "                   intercept_scaling=1, l1_ratio=None, max_iter=100,\n",
       "                   multi_class='warn', n_jobs=None, penalty='l2',\n",
       "                   random_state=None, solver='lbfgs', tol=0.0001, verbose=0,\n",
       "                   warm_start=False)"
      ]
     },
     "execution_count": 324,
     "metadata": {},
     "output_type": "execute_result"
    }
   ],
   "source": [
    "from sklearn.linear_model import LogisticRegression\n",
    "from sklearn.metrics import roc_auc_score\n",
    "clf_lr = LogisticRegression(solver='lbfgs')\n",
    "clf_lr.fit(df_prob3_train[X_sfs], df_prob3_train['failure'])"
   ]
  },
  {
   "cell_type": "code",
   "execution_count": 325,
   "id": "2de68be5",
   "metadata": {},
   "outputs": [
    {
     "data": {
      "text/plain": [
       "(0.5838326230092876, 0.5936682060775388)"
      ]
     },
     "execution_count": 325,
     "metadata": {},
     "output_type": "execute_result"
    }
   ],
   "source": [
    "B = roc_auc_score(df_prob3_test['failure'], clf_lr.predict_proba(df_prob3_test[X_sfs])[:, 1])\n",
    "(\n",
    "    B,\n",
    "    roc_auc_score(df_prob3_train['failure'], clf_lr.predict_proba(df_prob3_train[X_sfs])[:, 1])\n",
    ")"
   ]
  },
  {
   "cell_type": "code",
   "execution_count": 330,
   "id": "bf3c8423",
   "metadata": {},
   "outputs": [
    {
     "data": {
      "text/plain": [
       "(0.5792951262053387, 0.5838326230092876, -0.004537496803948882, -0.005)"
      ]
     },
     "execution_count": 330,
     "metadata": {},
     "output_type": "execute_result"
    }
   ],
   "source": [
    "A, B, A - B, round(A - B, 3)"
   ]
  },
  {
   "cell_type": "markdown",
   "id": "fac40eec",
   "metadata": {},
   "source": [
    "A-B값을 소수점 넷째 자리에서 반올림하여 셋째 자리까지 출력하시오\n",
    "\n",
    "**-0.005**"
   ]
  },
  {
   "cell_type": "markdown",
   "id": "4ed67461",
   "metadata": {},
   "source": [
    "# 문제 4\n",
    "\n",
    "차원 축소 기법을 통한 데이터의 특성과 failure 분류 성능을 높힐 만한 요소를 살펴 본다. \n",
    "\n",
    "첫째로, loading을 제외하고, measurement_0 ~ 17을 입력으로 failure를 대상 변수로 Linear Discrimant Analysis(LDA) 모델을 만든다. \n",
    "\n",
    "True/False 이진 변수인 failure를 분류한다는 점에서 LDA 모델은 measurement_0 ~ 17를 한 개의 경계점으로 \n",
    "\n",
    "failure를 최대한 정확하게 구분하도록 하나의 연속형 변수로 변환한다. \n",
    "\n",
    "스프링의 내구력이 높을 수록 failure 확률이 낮아진다면, \n",
    "\n",
    "측정값 measurement_0 ~ 17의 LDA 변환값은 스프링의 내구력을 나타낸다라고 할 수 있다.\n",
    "\n",
    "실험에서 스프링에 가한 부하(loading)와  LDA 변환값의 상관도를 측정하여, \n",
    "\n",
    "측정값 measurement_0~17 에서 예상되는 내구력이 스프링에 따라 부하(loading)의 반영 정도를 가늠한다.\n",
    "\n",
    "둘째로, PCA를 사용하여 차원 감소로 failure 분류 성능에 얼마나 효과가 있을지 살펴본다.\n",
    "\n",
    "문제3에서 사용했던, 전처리(loading 결측치 처리와 표준화 과정을 거친) 과정을 거친 prob3_train과 prob3_test를 사용한다.\n"
   ]
  },
  {
   "cell_type": "code",
   "execution_count": null,
   "id": "05ee8e76",
   "metadata": {},
   "outputs": [],
   "source": []
  },
  {
   "cell_type": "markdown",
   "id": "3579a749",
   "metadata": {},
   "source": [
    "## 단계 4-1\n",
    "\n",
    "prob3_train에서 measurement_0 ~ 17을 입력으로 failure를 대상 변수로 하여 LDA(Linear Discriminant Analysis) 모델을 학습한다. \n",
    "\n",
    "measurement_0 ~ 17에 대한 prob3_train에서의 LDA의 변환값과 loading과 스피어만 상관도 (spearman correlation)의 p-value를 구하여 A라고 한다.\n",
    "\n",
    "입력 변수] measurement_0 ~ 17 (순서에 유의 하시오)\n",
    "\n",
    "대상 변수] failure\n",
    "\n",
    "---\n",
    "**함수가이드**\n",
    "\n",
    "sklearn.discriminant_analysis 제공 기능 활용\n",
    "\n",
    "scipy.stats.spearmanr\n",
    "\n",
    "문제 지시사항 외 Default 값 사용\n",
    "\n",
    "---"
   ]
  },
  {
   "cell_type": "code",
   "execution_count": 333,
   "id": "b6bbc9a0",
   "metadata": {},
   "outputs": [
    {
     "data": {
      "text/plain": [
       "LinearDiscriminantAnalysis(n_components=None, priors=None, shrinkage=None,\n",
       "                           solver='svd', store_covariance=False, tol=0.0001)"
      ]
     },
     "execution_count": 333,
     "metadata": {},
     "output_type": "execute_result"
    }
   ],
   "source": [
    "from sklearn.discriminant_analysis import LinearDiscriminantAnalysis\n",
    "lda = LinearDiscriminantAnalysis()\n",
    "X_lda = ['measurement_{}'.format(i) for i in range(18)]\n",
    "lda.fit(df_prob3_train[X_lda], df_prob3_train['failure'])"
   ]
  },
  {
   "cell_type": "code",
   "execution_count": 337,
   "id": "8da6a720",
   "metadata": {},
   "outputs": [
    {
     "data": {
      "text/plain": [
       "(SpearmanrResult(correlation=0.0029462997112993335, pvalue=0.6995009550811424),\n",
       " 0.6995009550811424)"
      ]
     },
     "execution_count": 337,
     "metadata": {},
     "output_type": "execute_result"
    }
   ],
   "source": [
    "from scipy.stats import spearmanr\n",
    "result_4_1 = spearmanr(\n",
    "    df_prob3_train['loading'],\n",
    "    lda.transform(df_prob3_train[X_lda])\n",
    ")\n",
    "A = result_4_1.pvalue\n",
    "result_4_1, A"
   ]
  },
  {
   "cell_type": "markdown",
   "id": "1e726a4a",
   "metadata": {},
   "source": [
    "## 단계 4-2\n",
    "\n",
    "prob3_train에서 measurement_0 ~ 17을 대상으로 주성분분석(Principal Component Analysis, PCA) 모델을 학습한다. \n",
    "\n",
    "분산 설명율이 높은 순으로 주성분을 변수명을 pca_0 ~ 17하여 prob3_train에 추가하여 prob4_train을 만든다. \n",
    "\n",
    "prob3_test에 prob3_train를 학습했던 PCA 모델로 동일한 방법으로 pca_0 ~17 파생 변수를 추가하여 prob4_test를 만든다.\n",
    "\n",
    "입력 변수] measurement_0 ~ 17 (순서에 유의 하시오)\n",
    "\n",
    "---\n",
    "**함수가이드**\n",
    "\n",
    "sklearn.decomposition.PCA, random_state=123\n",
    "\n",
    "문제 지시사항 외 Default 값 사용\n",
    "\n",
    "---\n"
   ]
  },
  {
   "cell_type": "code",
   "execution_count": 377,
   "id": "2934c155",
   "metadata": {},
   "outputs": [],
   "source": [
    "from sklearn.decomposition import PCA\n",
    "\n",
    "X_pca = ['measurement_{}'.format(i) for i in range(18)]\n",
    "pca = PCA(n_components=None, random_state=123)\n",
    "pca.fit(df_prob3_train[X_pca])\n",
    "\n",
    "df_prob4_train, df_prob4_test = df_prob3_train.copy(), df_prob3_test.copy()\n",
    "X_comp = ['pca_{}'.format(i) for i in range(18)]\n",
    "df_prob4_train[X_comp] = pd.DataFrame(pca.transform(df_prob3_train[X_pca]), index=df_prob4_train.index)\n",
    "df_prob4_test[X_comp] = pd.DataFrame(pca.transform(df_prob3_test[X_pca]), index=df_prob4_test.index)"
   ]
  },
  {
   "cell_type": "code",
   "execution_count": 342,
   "id": "9fbcc2d0",
   "metadata": {},
   "outputs": [
    {
     "data": {
      "text/plain": [
       "(array([1.85613793, 1.41894459, 1.25547315, 1.1632852 , 1.06637856,\n",
       "        1.05000212, 1.01995967, 1.00922255, 1.00657757, 0.99213623,\n",
       "        0.98552903, 0.97614082, 0.97170312, 0.87532548, 0.81399432,\n",
       "        0.70771288, 0.67969009, 0.15283534]),\n",
       " array([0.10311277, 0.07882566, 0.06974445, 0.06462319, 0.0592398 ,\n",
       "        0.05833005, 0.05666113, 0.05606465, 0.05591772, 0.05511547,\n",
       "        0.05474842, 0.05422689, 0.05398036, 0.04862636, 0.04521927,\n",
       "        0.03931509, 0.03775836, 0.00849036]))"
      ]
     },
     "execution_count": 342,
     "metadata": {},
     "output_type": "execute_result"
    }
   ],
   "source": [
    "pca.explained_variance_, pca.explained_variance_ratio_"
   ]
  },
  {
   "cell_type": "code",
   "execution_count": 343,
   "id": "61cc8b95",
   "metadata": {},
   "outputs": [
    {
     "data": {
      "text/plain": [
       "array([1.85613793, 1.41894459, 1.25547315, 1.1632852 , 1.06637856,\n",
       "       1.05000212, 1.01995967, 1.00922255, 1.00657757, 0.99213623,\n",
       "       0.98552903, 0.97614082, 0.97170312, 0.87532548, 0.81399432,\n",
       "       0.70771288, 0.67969009, 0.15283534])"
      ]
     },
     "execution_count": 343,
     "metadata": {},
     "output_type": "execute_result"
    }
   ],
   "source": [
    "# 고윳값\n",
    "pca.explained_variance_"
   ]
  },
  {
   "cell_type": "code",
   "execution_count": 350,
   "id": "8933403b",
   "metadata": {},
   "outputs": [],
   "source": [
    "# == pd.DataFrame.cov()\n",
    "df_cov = (df_prob3_train[X_pca] - df_prob3_train[X_pca].mean()).pipe(\n",
    "    lambda x: x.T.dot(x) / (len(x) - 1)\n",
    ")\n",
    "eigv, eigmat = np.linalg.eigh(df_cov)\n",
    "eigv[np.argsort(-eigv)]"
   ]
  },
  {
   "cell_type": "code",
   "execution_count": 361,
   "id": "20357046",
   "metadata": {},
   "outputs": [],
   "source": [
    "df_emat = pd.DataFrame(\n",
    "    pca.components_, index=['ev{}'.format(i) for i in range(pca.n_components_)], columns=X_pca\n",
    ")"
   ]
  },
  {
   "cell_type": "code",
   "execution_count": 364,
   "id": "8a8e2ec6",
   "metadata": {},
   "outputs": [
    {
     "data": {
      "text/plain": [
       "'measurement_17'"
      ]
     },
     "execution_count": 364,
     "metadata": {},
     "output_type": "execute_result"
    }
   ],
   "source": [
    "df_emat.loc['ev0'].abs().idxmax()"
   ]
  },
  {
   "cell_type": "markdown",
   "id": "11d71204",
   "metadata": {},
   "source": [
    "## 단계 4-3\n",
    "\n",
    "초기에 loading을 입력 변수로 하여 prob4_train을 학습하고, prob4_test에 대한 성능을 측정한다.\n",
    "\n",
    "여기에 pca_0에서 pca_17까지 입력 변수를 하나씩 추가 하면서, \n",
    "\n",
    "즉 분산 설명율이 높은 순으로 컴포넌트를 하나씩 추가하여 prob4_train를 학습하고 prob4_test의 성능을 측정 했을 때, \n",
    "\n",
    "최적의 성능을 보인 컴포넌트들의 분산 설명율의 합을 B라고 한다. (만일 없다면 B = 0이다.)\n",
    "\n",
    "입력 변수: 설명 참고\n",
    "\n",
    "대상 변수: failure\n",
    "\n",
    "성능 지표: AUC(area under of ROC curve)\n",
    "\n",
    "---\n",
    "**함수가이드**\n",
    "\n",
    "sklearn.linear_model.LogisticRegression, solver=’lbfgs’\n",
    "\n",
    "---"
   ]
  },
  {
   "cell_type": "code",
   "execution_count": 383,
   "id": "8afec2fe",
   "metadata": {},
   "outputs": [
    {
     "name": "stdout",
     "output_type": "stream",
     "text": [
      "loading 0.5778277926972065 0.5886355699157924\n",
      "pca_0 0.579565141627812 0.5902607636650189\n",
      "pca_1 0.5784170060859327 0.5906173884232395\n",
      "pca_2 0.5786498903164131 0.5906803365700851\n",
      "pca_3 0.5801256923420173 0.5911363799178113\n",
      "pca_4 0.5805735466314028 0.5912654510937876\n",
      "pca_5 0.5811103203542446 0.5914601161518473\n",
      "pca_6 0.581757510516433 0.5929702204182378\n",
      "pca_7 0.5808025223153578 0.5934465748718649\n",
      "pca_8 0.5801787834323228 0.5935233418973748\n",
      "pca_9 0.5801664063683251 0.593551407042703\n",
      "pca_10 0.5794231311040503 0.5937232780741002\n",
      "pca_11 0.5785678108393766 0.5940223479149978\n",
      "pca_12 0.5782202759108135 0.594022551433093\n",
      "pca_13 0.5782310244137587 0.593998210668907\n",
      "pca_14 0.5776818736269195 0.5938648656129314\n",
      "pca_15 0.5772988360674158 0.5941303346163114\n",
      "pca_16 0.5768773644670778 0.5941881134035389\n",
      "pca_17 0.5771252314592396 0.5945461424366163\n"
     ]
    }
   ],
   "source": [
    "from sklearn.linear_model import LogisticRegression\n",
    "from sklearn.metrics import roc_auc_score\n",
    "X_lr = list()\n",
    "X_lr_list = list()\n",
    "test_score, train_score = list(), list()\n",
    "for i in ['loading'] + X_comp:\n",
    "    X_lr.append(i)\n",
    "    X_lr_list.append(X_lr.copy())\n",
    "    clf_lr = LogisticRegression(solver='lbfgs')\n",
    "    clf_lr.fit(df_prob4_train[X_lr], df_prob4_train['failure'])\n",
    "    test_score.append(\n",
    "        roc_auc_score(df_prob4_test['failure'], clf_lr.predict_proba(df_prob4_test[X_lr])[:, 1])\n",
    "    )\n",
    "    train_score.append(\n",
    "        roc_auc_score(df_prob4_train['failure'], clf_lr.predict_proba(df_prob4_train[X_lr])[:, 1])\n",
    "    )\n",
    "    print(i, test_score[-1], train_score[-1])"
   ]
  },
  {
   "cell_type": "code",
   "execution_count": 386,
   "id": "0b7f8bc9",
   "metadata": {},
   "outputs": [
    {
     "data": {
      "text/plain": [
       "(7, ['loading', 'pca_0', 'pca_1', 'pca_2', 'pca_3', 'pca_4', 'pca_5', 'pca_6'])"
      ]
     },
     "execution_count": 386,
     "metadata": {},
     "output_type": "execute_result"
    }
   ],
   "source": [
    "np.argmax(test_score), X_lr_list[np.argmax(test_score)]"
   ]
  },
  {
   "cell_type": "code",
   "execution_count": 390,
   "id": "89862b53",
   "metadata": {},
   "outputs": [
    {
     "data": {
      "text/plain": [
       "0.49053704530610626"
      ]
     },
     "execution_count": 390,
     "metadata": {},
     "output_type": "execute_result"
    }
   ],
   "source": [
    "B = pca.explained_variance_ratio_[:7].sum()\n",
    "B"
   ]
  },
  {
   "cell_type": "code",
   "execution_count": 391,
   "id": "2c18dd54",
   "metadata": {},
   "outputs": [
    {
     "data": {
      "text/plain": [
       "(0.6995009550811424, 0.49053704530610626, 1.1900380003872486, 1.19)"
      ]
     },
     "execution_count": 391,
     "metadata": {},
     "output_type": "execute_result"
    }
   ],
   "source": [
    "A, B, A + B, round(A + B, 2)"
   ]
  },
  {
   "cell_type": "markdown",
   "id": "db7a7e38",
   "metadata": {},
   "source": [
    "A + B를 소수점 셋째 자리에서 반올림하여 둘째 자리까지 구하라.\n",
    "\n",
    "**1.19**"
   ]
  },
  {
   "cell_type": "markdown",
   "id": "86ba3524",
   "metadata": {},
   "source": [
    "# 문제 5\n",
    "\n",
    "랜덤포레스트 분류기(Random-Forest Classifier)의 최적의 하이퍼 파라미터(Hyper-Parameter, 초매개변수)를 탐색하고자 한다.\n",
    "\n",
    "문제3에서 사용했던, 전처리(loading 결측치 처리와 표준화 과정을 거친) 과정을 거친 prob3_train과 prob3_test를 사용한다."
   ]
  },
  {
   "cell_type": "code",
   "execution_count": null,
   "id": "57e99809",
   "metadata": {},
   "outputs": [],
   "source": []
  },
  {
   "cell_type": "markdown",
   "id": "05189b7d",
   "metadata": {},
   "source": [
    "## 단계 5-1\n",
    "\n",
    "sklearn에서 제공하는 랜덤포레스트 분류기(Random-Forest Classifier)의 하이퍼 파라미터 중 \n",
    "\n",
    "n_estimators, max_depth 그리고 min_samples_split의 최적 조합을 탐색한다. \n",
    "\n",
    "탐색 값은 아래에 제공한 하이퍼 파라미터의 모든 조합이다. \n",
    "\n",
    "prob3_train을 대상으로 5-겹 층화교차검증(5-fold stratified cross validation)으로 \n",
    "\n",
    "각각  겹외셋(OOF set, Out-Of-Fold set)의 성능에 대한 평균을 기준으로 하이퍼 파라미터를 선택한다.\n",
    "\n",
    "  - n_estimators: [5, 10, 15]\n",
    "\n",
    "  - max_depth: [5, 6, 7]\n",
    "  \n",
    "  - min_samples_split: [256, 512]\n",
    "\n",
    "Hint] 모든 하이퍼 파라미터의 조합의 수는 18개이다\n",
    "\n",
    "입력 변수: loading, measurement_0 ~ 17, na_1, na_2 (순서에 유의)\n",
    "\n",
    "대상 변수: failure\n",
    "\n",
    "성능 지표: AUC (area under of ROC curve)\n",
    "\n",
    "---\n",
    "**함수가이드**\n",
    "\n",
    "sklearn.ensemble.RandomForestClassifier, random_state=123 \n",
    "\n",
    "itertools.product 필요시 사용\n",
    "\n",
    "sklearn.model_selection.cross_val_score 필요시 사용\n",
    "\n",
    "sklearn.model_selection.StratifiedKFold, random_state=123, shuffle=True\n",
    "\n",
    "sklearn.model_selection.GridSearchCV 필요시 사용\n",
    "\n",
    "---"
   ]
  },
  {
   "cell_type": "code",
   "execution_count": null,
   "id": "6226741f",
   "metadata": {},
   "outputs": [],
   "source": []
  },
  {
   "cell_type": "markdown",
   "id": "eacc40ad",
   "metadata": {},
   "source": [
    "## 단계 5-2\n",
    "\n",
    "단계 5-1에서 구한 최적 하이퍼 파라미터로 설정한 랜덤포레스트 분류기(Random-Forest Classifier)를 사용하여 prob3_train 학습하고, \n",
    "\n",
    "prob3_test로 성능을 측정하여 이 값을 A라고 한다.\n",
    "\n",
    "입력 변수: loading, measurement_0 ~ 17, na_1, na_2 (순서에 유의)\n",
    "\n",
    "대상 변수: failure\n",
    "\n",
    "성능 지표: AUC (area under of ROC curve)\n",
    "\n",
    "---\n",
    "**함수가이드**\n",
    "\n",
    "sklearn.ensemble.RandomForestClassifier, random_state=123 \n",
    "\n",
    "---\n"
   ]
  },
  {
   "cell_type": "code",
   "execution_count": null,
   "id": "1ebecc95",
   "metadata": {},
   "outputs": [],
   "source": []
  },
  {
   "cell_type": "markdown",
   "id": "044dd522",
   "metadata": {},
   "source": [
    "A값을 소수점 넷째 자리에서 반올림하여 3째 자리까지 출력하시오.\n",
    "\n"
   ]
  },
  {
   "cell_type": "code",
   "execution_count": null,
   "id": "192c87a3",
   "metadata": {},
   "outputs": [],
   "source": []
  }
 ],
 "metadata": {
  "kernelspec": {
   "display_name": "Python 3 (ipykernel)",
   "language": "python",
   "name": "python3"
  },
  "language_info": {
   "codemirror_mode": {
    "name": "ipython",
    "version": 3
   },
   "file_extension": ".py",
   "mimetype": "text/x-python",
   "name": "python",
   "nbconvert_exporter": "python",
   "pygments_lexer": "ipython3",
   "version": "3.7.4"
  }
 },
 "nbformat": 4,
 "nbformat_minor": 5
}
