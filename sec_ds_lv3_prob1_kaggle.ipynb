{
 "cells": [
  {
   "cell_type": "markdown",
   "id": "765c0422",
   "metadata": {},
   "source": [
    "# 문제 6\n",
    "\n",
    "[Kaggle 형] train_prob.csv로 문제 failure 예측하는 모델을 만들고, \n",
    "\n",
    "test_prob.csv에 대한 failure가 1일 확률 예측하여 다음과 같은 형식의 answer6.csv를 만들어라. \n",
    "\n",
    "측정 지표는 AUC(area under of ROC curve)이다. id 는 테스트 케이스의 id 이고, failure에는 failure가 1이 될 확률이다.\n",
    "\n",
    "id,failure\n",
    "\n",
    "16115, 0.1\n",
    "\n",
    "16116, 0.2\n",
    "\n",
    "\n",
    "**강사: 멀티캠퍼스 강선구(sunku0316.kang@multicampus.com, sun9sun9@gmail.com)**"
   ]
  },
  {
   "cell_type": "code",
   "execution_count": 1,
   "id": "42ff1fa9",
   "metadata": {},
   "outputs": [
    {
     "name": "stdout",
     "output_type": "stream",
     "text": [
      "3.7.4 (tags/v3.7.4:e09359112e, Jul  8 2019, 20:34:20) [MSC v.1916 64 bit (AMD64)]\n",
      "pandas 0.25.1\n",
      "numpy 1.18.5\n",
      "sklearn 0.21.3\n",
      "scipy 1.5.2\n",
      "mlxtend 0.15.0.0\n",
      "statsmodels 0.11.1\n",
      "xgboost 0.80\n"
     ]
    }
   ],
   "source": [
    "# 실행 환경 확인\n",
    "\n",
    "import pandas as pd\n",
    "import numpy as np\n",
    "import sklearn\n",
    "import scipy\n",
    "import statsmodels\n",
    "#pip install --upgrade mlxtend \n",
    "import mlxtend\n",
    "import sys\n",
    "import xgboost as xgb\n",
    "\n",
    "print(sys.version)\n",
    "for i in [pd, np, sklearn, scipy, mlxtend, statsmodels, xgb]:\n",
    "    print(i.__name__, i.__version__)"
   ]
  },
  {
   "cell_type": "code",
   "execution_count": 2,
   "id": "286a38f7",
   "metadata": {},
   "outputs": [],
   "source": [
    "df_train = pd.read_csv('train_prob.csv', index_col=['id'])\n",
    "df_test = pd.read_csv('test_prob.csv', index_col=['id'])\n",
    "# 실제시험 x\n",
    "s_ans = pd.read_csv('test_prob_ans.csv', index_col=['id'])['failure']"
   ]
  },
  {
   "cell_type": "code",
   "execution_count": 4,
   "id": "8959000f",
   "metadata": {},
   "outputs": [],
   "source": [
    "df_train = df_train.assign(\n",
    "    na_1 = lambda x: x['measurement_3'].isna(),\n",
    "    na_2 = lambda x: x['measurement_5'].isna(),\n",
    ")\n",
    "df_test = df_test.assign(\n",
    "    na_1 = lambda x: x['measurement_3'].isna(),\n",
    "    na_2 = lambda x: x['measurement_5'].isna(),\n",
    ")"
   ]
  },
  {
   "cell_type": "code",
   "execution_count": 5,
   "id": "0a2eb835",
   "metadata": {},
   "outputs": [],
   "source": [
    "# 방법 1: product_code 별로 IterativeImputer를 통한 결측처리를 하고 바로 적용합니다.\n",
    "from sklearn.experimental import enable_iterative_imputer\n",
    "from sklearn.linear_model import LinearRegression\n",
    "from sklearn.impute import IterativeImputer\n",
    "\n",
    "imp  = IterativeImputer(\n",
    "    estimator=LinearRegression(fit_intercept=True), \n",
    "    random_state=123\n",
    ")\n",
    "X_imp = ['measurement_{}'.format(i) for i in range(3, 10)] + ['measurement_17']\n",
    "\n",
    "df_train[X_imp] = df_train.groupby('product_code')[X_imp].apply(\n",
    "    lambda x: pd.DataFrame(imp.fit_transform(x), index=x.index, columns=X_imp)\n",
    ")\n",
    "df_test[X_imp] = df_test.groupby('product_code')[X_imp].apply(\n",
    "    lambda x: pd.DataFrame(imp.fit_transform(x), index=x.index, columns=X_imp)\n",
    ")\n",
    "\n",
    "X_mean = ['measurement_{}'.format(i) for i in range(10, 17)]\n",
    "df_train[X_mean] =  df_train.groupby('product_code')[X_mean].transform(\n",
    "    lambda x: x.fillna(x.mean())\n",
    ")\n",
    "df_test[X_mean] =  df_test.groupby('product_code')[X_mean].transform(\n",
    "    lambda x: x.fillna(x.mean())\n",
    ")"
   ]
  },
  {
   "cell_type": "code",
   "execution_count": 7,
   "id": "4d865299",
   "metadata": {},
   "outputs": [],
   "source": [
    "# 방법 2 : train / test를 통합하여 처리해봅니다.\n",
    "\n",
    "from sklearn.experimental import enable_iterative_imputer# 구문을 사용하여 실험 단계인 모듈을 활성화하고, \n",
    "from sklearn.impute import IterativeImputer\n",
    "from sklearn.linear_model import LinearRegression\n",
    "from sklearn.metrics import r2_score\n",
    "\n",
    "X_imp = ['measurement_{}'.format(i) for i in range(3, 10)] + ['measurement_17']\n",
    "# train에 등장하지 않은 수준이 있습니다, test를 포함하여 결측처리 모델을 만듭니다.\n",
    "s_imp = pd.concat([\n",
    "        df_train[X_imp + ['product_code']],\n",
    "        df_test[X_imp + ['product_code']]\n",
    "], axis=0).groupby('product_code')\\\n",
    ".apply(\n",
    "    lambda x: IterativeImputer(estimator=LinearRegression(),random_state=123).fit(x[X_imp])\n",
    ")\n",
    "# train에 적용합니다.\n",
    "df_train[X_imp] = df_train[X_imp + ['product_code']]\\\n",
    "            .groupby('product_code')\\\n",
    "            .apply(\n",
    "                lambda x: pd.DataFrame(s_imp.loc[x.name].transform(x[X_imp]), index=x.index, columns=X_imp)\n",
    "            )\n",
    "# test에 적용합니다.\n",
    "df_test[X_imp] = df_test[X_imp + ['product_code']]\\\n",
    "            .groupby('product_code')\\\n",
    "            .apply(\n",
    "                lambda x: pd.DataFrame(s_imp.loc[x.name].transform(x[X_imp]), index=x.index, columns=X_imp)\n",
    "            )\n",
    "X_mean = ['measurement_{}'.format(i) for i in range(10, 17)]\n",
    "# 역시 train에 등장하지 않은 수준을 처리하기 위해 합치니다.\n",
    "df_mean = pd.concat([\n",
    "            df_train[['product_code'] + X_mean],\n",
    "            df_test[['product_code'] + X_mean]\n",
    "        ]).groupby('product_code')[X_mean].agg('mean')\n",
    "\n",
    "df_train[X_mean] = df_train.groupby('product_code')[X_mean]\\\n",
    "            .apply(lambda x: pd.DataFrame(x.fillna(df_mean.loc[x.name]), index=x.index, columns=x.columns))\n",
    "df_test[X_mean] = df_test.groupby('product_code')[X_mean]\\\n",
    "            .apply(lambda x: pd.DataFrame(x.fillna(df_mean.loc[x.name]), index=x.index, columns=x.columns))"
   ]
  },
  {
   "cell_type": "code",
   "execution_count": 8,
   "id": "84bf6158",
   "metadata": {},
   "outputs": [],
   "source": [
    "df_train['loading'] = df_train['loading'].fillna(df_train['loading'].mean())\n",
    "df_test['loading'] = df_test['loading'].fillna(df_train['loading'].mean())"
   ]
  },
  {
   "cell_type": "code",
   "execution_count": 9,
   "id": "9596eff3",
   "metadata": {},
   "outputs": [
    {
     "data": {
      "text/plain": [
       "(0, 0)"
      ]
     },
     "execution_count": 9,
     "metadata": {},
     "output_type": "execute_result"
    }
   ],
   "source": [
    "(\n",
    "    df_train.isna().sum().sum(), \n",
    "    df_test.isna().sum().sum()\n",
    ")"
   ]
  },
  {
   "cell_type": "markdown",
   "id": "a117ee8d",
   "metadata": {},
   "source": [
    "\n",
    "\n",
    "- loading의 각 행들에 자연 로그 함수를 적용하여 파생 변수 loading_log를 만든다.\n",
    "\n",
    "- LR + SFS: \\['loading', 'measurement_1', 'measurement_4', 'measurement_14', 'measurement_17', 'na_1'\\] 최적 변수\n",
    "\n",
    "- LDA: transform / predict\n",
    "\n",
    "- LR + PCA: n_components=7 + 'loading'\n",
    "\n",
    "- RF: {'n_estimators': 15, 'max_depth': 7, 'min_samples_split': 512}, ['loading'] + ['measurement_{}'.format(i) for i in range(18)] + ['na_1', 'na_2']\n",
    "\n"
   ]
  },
  {
   "cell_type": "markdown",
   "id": "45eaae27",
   "metadata": {},
   "source": [
    "# Kaggle형 풀이 단계\n",
    "\n",
    "Step 1: 검증 방법을 정하고, 검증 루틴을 만듭니다.\n",
    "\n",
    "Step 2: Baseline 모델을 만듭니다\n",
    "\n",
    "Step 3: 모델 선택 루틴을 만듭니다.\n",
    "\n",
    "Step 4: 모델 개선 작업을 합니다."
   ]
  },
  {
   "cell_type": "markdown",
   "id": "ddd23875",
   "metadata": {},
   "source": [
    "## Step1: 검증 방법을 정하고, 검증 루틴을 만듭니다.\n",
    "\n",
    "Day1에서 했던 Holdout 검증보다 더 안정적인 평가 결과를 얻을 수 있는 교차 검증을 해봅니다.\n",
    "\n",
    "### GroupKFold에 대해 알아봅니다.\n",
    "\n",
    "Test의 product_code는 train에서 등장하지 않았습니다.\n",
    "\n",
    "이를 기반으로 검증 방법을 정해보면, \n",
    "\n",
    "product_code에 대해서 검증셋에서는 검증 학습셋에서 등장하지 않는 product_code가 되도록 구성을 하면, \n",
    "\n",
    "Test의 현상을 반영하는 검증 루틴을 구성할 수 있습니다.\n",
    "\n",
    "이에 활용할 수 있는 검증법이 바로 GroupKFold 입니다."
   ]
  },
  {
   "cell_type": "code",
   "execution_count": 10,
   "id": "69a17096",
   "metadata": {},
   "outputs": [
    {
     "data": {
      "text/plain": [
       "C    5765\n",
       "E    5343\n",
       "B    5250\n",
       "A    5100\n",
       "Name: product_code, dtype: int64"
      ]
     },
     "execution_count": 10,
     "metadata": {},
     "output_type": "execute_result"
    }
   ],
   "source": [
    "df_train['product_code'].value_counts()"
   ]
  },
  {
   "cell_type": "code",
   "execution_count": 11,
   "id": "069dce63",
   "metadata": {},
   "outputs": [
    {
     "data": {
      "text/plain": [
       "D    5112\n",
       "Name: product_code, dtype: int64"
      ]
     },
     "execution_count": 11,
     "metadata": {},
     "output_type": "execute_result"
    }
   ],
   "source": [
    "df_test['product_code'].value_counts()"
   ]
  },
  {
   "cell_type": "code",
   "execution_count": 8,
   "id": "8ee328f3",
   "metadata": {},
   "outputs": [
    {
     "name": "stdout",
     "output_type": "stream",
     "text": [
      "['A' 'B' 'E'] ['C']\n",
      "['A' 'B' 'C'] ['E']\n",
      "['A' 'C' 'E'] ['B']\n",
      "['B' 'C' 'E'] ['A']\n"
     ]
    }
   ],
   "source": [
    "from sklearn.model_selection import GroupKFold, cross_validate\n",
    "\n",
    "gcv = GroupKFold(n_splits=4)\n",
    "for train_idx, valid_idx in gcv.split(df_train, df_train['failure'], groups=df_train['product_code']):\n",
    "    print(\n",
    "        df_train.iloc[train_idx]['product_code'].unique(), \n",
    "        df_train.iloc[valid_idx]['product_code'].unique()\n",
    "    )"
   ]
  },
  {
   "cell_type": "code",
   "execution_count": 9,
   "id": "b2858b09",
   "metadata": {},
   "outputs": [
    {
     "data": {
      "text/plain": [
       "{'fit_time': array([0.033916  , 0.01204276, 0.03124285, 0.03124261]),\n",
       " 'score_time': array([0.00394773, 0.01562119, 0.        , 0.        ]),\n",
       " 'test_score': array([0.58823117, 0.58496642, 0.58887652, 0.59535198]),\n",
       " 'train_score': array([0.59259755, 0.5935028 , 0.59192673, 0.58955959])}"
      ]
     },
     "execution_count": 9,
     "metadata": {},
     "output_type": "execute_result"
    }
   ],
   "source": [
    "from sklearn.linear_model import LogisticRegression\n",
    "from sklearn.pipeline import make_pipeline\n",
    "from sklearn.preprocessing import StandardScaler\n",
    "\n",
    "cross_validate(\n",
    "    make_pipeline(StandardScaler(), LogisticRegression(solver='lbfgs')),\n",
    "    df_train[['loading', 'measurement_1', 'measurement_4', 'measurement_14', 'measurement_17', 'na_1']],\n",
    "    df_train['failure'],\n",
    "    cv = gcv,\n",
    "    groups=df_train['product_code'], \n",
    "    scoring='roc_auc',\n",
    "    return_train_score=True\n",
    ")"
   ]
  },
  {
   "cell_type": "code",
   "execution_count": 16,
   "id": "bac61127",
   "metadata": {},
   "outputs": [],
   "source": [
    "s_hist = list()\n",
    "\n",
    "from sklearn.model_selection import GroupKFold\n",
    "from sklearn.model_selection import cross_validate\n",
    "from sklearn.compose import ColumnTransformer\n",
    "from sklearn.pipeline import make_pipeline\n",
    "from sklearn.preprocessing import StandardScaler\n",
    "from sklearn.metrics import roc_auc_score\n",
    "\n",
    "gcv = GroupKFold(4)\n",
    "X_all = df_test.columns.tolist()\n",
    "\n",
    "def eval_model(model_name, clf):\n",
    "    result = cross_validate(\n",
    "        clf, df_train[X_all], df_train['failure'], cv=gcv, groups=df_train['product_code'], scoring='roc_auc', \n",
    "        return_train_score=True\n",
    "    )\n",
    "    s = \"Valid: {:.5f}±{:.5f}, Train: {:.5f}±{:.5f}\".format(\n",
    "        np.mean(result['test_score']), np.std(result['test_score']),\n",
    "        np.mean(result['train_score']), np.std(result['train_score'])\n",
    "    )\n",
    "    s_hist.append(pd.Series([model_name, s], index=['name', 'result']))\n",
    "    display(pd.DataFrame(s_hist).groupby('name').last())\n",
    "    \n",
    "def select_model(clf):\n",
    "    clf.fit(df_train[X_all], df_train['failure'])\n",
    "    prd = clf.predict_proba(df_test[X_all])[:, 1]\n",
    "    pd.DataFrame({\n",
    "        'id': df_test.index,\n",
    "        'failure': prd\n",
    "    }, index=None).to_csv('answer6.csv')\n",
    "    return prd"
   ]
  },
  {
   "cell_type": "markdown",
   "id": "b09e73f6",
   "metadata": {},
   "source": [
    "## Step2: Baseline 모델을 만듭니다."
   ]
  },
  {
   "cell_type": "code",
   "execution_count": 17,
   "id": "2a6eae24",
   "metadata": {},
   "outputs": [
    {
     "data": {
      "text/html": [
       "<div>\n",
       "<style scoped>\n",
       "    .dataframe tbody tr th:only-of-type {\n",
       "        vertical-align: middle;\n",
       "    }\n",
       "\n",
       "    .dataframe tbody tr th {\n",
       "        vertical-align: top;\n",
       "    }\n",
       "\n",
       "    .dataframe thead th {\n",
       "        text-align: right;\n",
       "    }\n",
       "</style>\n",
       "<table border=\"1\" class=\"dataframe\">\n",
       "  <thead>\n",
       "    <tr style=\"text-align: right;\">\n",
       "      <th></th>\n",
       "      <th>result</th>\n",
       "    </tr>\n",
       "    <tr>\n",
       "      <th>name</th>\n",
       "      <th></th>\n",
       "    </tr>\n",
       "  </thead>\n",
       "  <tbody>\n",
       "    <tr>\n",
       "      <td>baseline</td>\n",
       "      <td>Valid: 0.58937±0.00379, Train: 0.59191±0.00146</td>\n",
       "    </tr>\n",
       "  </tbody>\n",
       "</table>\n",
       "</div>"
      ],
      "text/plain": [
       "                                                  result\n",
       "name                                                    \n",
       "baseline  Valid: 0.58937±0.00379, Train: 0.59191±0.00146"
      ]
     },
     "metadata": {},
     "output_type": "display_data"
    }
   ],
   "source": [
    "from sklearn.linear_model import LogisticRegression\n",
    "\n",
    "# Baseline: LR - SFS - ['loading', 'measurement_1', 'measurement_4', 'measurement_14', 'measurement_17', 'na_1']\n",
    "ct = ColumnTransformer([\n",
    "    ('std', StandardScaler(), ['loading', 'measurement_1', 'measurement_4', 'measurement_14', 'measurement_17']),\n",
    "    ('pt', 'passthrough', ['na_1'])\n",
    "])\n",
    "clf_lr = make_pipeline(ct, LogisticRegression(solver='lbfgs'))\n",
    "eval_model('baseline', clf_lr)"
   ]
  },
  {
   "cell_type": "markdown",
   "id": "8c8e8fc7",
   "metadata": {},
   "source": [
    "## Step3: 모델 선택 루틴을 만듭니다."
   ]
  },
  {
   "cell_type": "code",
   "execution_count": 18,
   "id": "685735ca",
   "metadata": {},
   "outputs": [
    {
     "name": "stdout",
     "output_type": "stream",
     "text": [
      "자가 채점: 0.5883988309352517\n"
     ]
    }
   ],
   "source": [
    "prd = select_model(clf_lr)\n",
    "print(\"자가 채점: {}\".format(roc_auc_score(s_ans, prd)))"
   ]
  },
  {
   "cell_type": "markdown",
   "id": "c4c2fa04",
   "metadata": {},
   "source": [
    "## Step4: 모델 개선 작업을 합니다."
   ]
  },
  {
   "cell_type": "code",
   "execution_count": 30,
   "id": "e31bdaa5",
   "metadata": {},
   "outputs": [
    {
     "data": {
      "text/html": [
       "<div>\n",
       "<style scoped>\n",
       "    .dataframe tbody tr th:only-of-type {\n",
       "        vertical-align: middle;\n",
       "    }\n",
       "\n",
       "    .dataframe tbody tr th {\n",
       "        vertical-align: top;\n",
       "    }\n",
       "\n",
       "    .dataframe thead th {\n",
       "        text-align: right;\n",
       "    }\n",
       "</style>\n",
       "<table border=\"1\" class=\"dataframe\">\n",
       "  <thead>\n",
       "    <tr style=\"text-align: right;\">\n",
       "      <th></th>\n",
       "      <th>result</th>\n",
       "    </tr>\n",
       "    <tr>\n",
       "      <th>name</th>\n",
       "      <th></th>\n",
       "    </tr>\n",
       "  </thead>\n",
       "  <tbody>\n",
       "    <tr>\n",
       "      <td>baseline</td>\n",
       "      <td>Valid: 0.58957±0.00417, Train: 0.59194±0.00144</td>\n",
       "    </tr>\n",
       "  </tbody>\n",
       "</table>\n",
       "</div>"
      ],
      "text/plain": [
       "                                                  result\n",
       "name                                                    \n",
       "baseline  Valid: 0.58957±0.00417, Train: 0.59194±0.00144"
      ]
     },
     "metadata": {},
     "output_type": "display_data"
    }
   ],
   "source": [
    "from sklearn.linear_model import LogisticRegression\n",
    "\n",
    "# Baseline: LR - SFS - ['loading', 'measurement_1', 'measurement_4', 'measurement_14', 'measurement_17', 'na_1']\n",
    "ct = ColumnTransformer([\n",
    "    ('std', StandardScaler(), ['loading', 'measurement_1', 'measurement_4', 'measurement_14', 'measurement_17']),\n",
    "    ('pt', 'passthrough', ['na_1'])\n",
    "])\n",
    "clf_lr = make_pipeline(ct, LogisticRegression(solver='lbfgs', C=0.03))\n",
    "eval_model('baseline', clf_lr)"
   ]
  },
  {
   "cell_type": "code",
   "execution_count": 31,
   "id": "1cbf2d7f",
   "metadata": {},
   "outputs": [
    {
     "name": "stdout",
     "output_type": "stream",
     "text": [
      "자가 채점: 0.589236285971223\n"
     ]
    }
   ],
   "source": [
    "prd = select_model(clf_lr)\n",
    "print(\"자가 채점: {}\".format(roc_auc_score(s_ans, prd)))"
   ]
  },
  {
   "cell_type": "code",
   "execution_count": 32,
   "id": "cf9d1170",
   "metadata": {},
   "outputs": [
    {
     "data": {
      "text/html": [
       "<div>\n",
       "<style scoped>\n",
       "    .dataframe tbody tr th:only-of-type {\n",
       "        vertical-align: middle;\n",
       "    }\n",
       "\n",
       "    .dataframe tbody tr th {\n",
       "        vertical-align: top;\n",
       "    }\n",
       "\n",
       "    .dataframe thead th {\n",
       "        text-align: right;\n",
       "    }\n",
       "</style>\n",
       "<table border=\"1\" class=\"dataframe\">\n",
       "  <thead>\n",
       "    <tr style=\"text-align: right;\">\n",
       "      <th></th>\n",
       "      <th>result</th>\n",
       "    </tr>\n",
       "    <tr>\n",
       "      <th>name</th>\n",
       "      <th></th>\n",
       "    </tr>\n",
       "  </thead>\n",
       "  <tbody>\n",
       "    <tr>\n",
       "      <td>baseline</td>\n",
       "      <td>Valid: 0.58957±0.00417, Train: 0.59194±0.00144</td>\n",
       "    </tr>\n",
       "    <tr>\n",
       "      <td>lr2</td>\n",
       "      <td>Valid: 0.58876±0.00340, Train: 0.59169±0.00104</td>\n",
       "    </tr>\n",
       "  </tbody>\n",
       "</table>\n",
       "</div>"
      ],
      "text/plain": [
       "                                                  result\n",
       "name                                                    \n",
       "baseline  Valid: 0.58957±0.00417, Train: 0.59194±0.00144\n",
       "lr2       Valid: 0.58876±0.00340, Train: 0.59169±0.00104"
      ]
     },
     "metadata": {},
     "output_type": "display_data"
    }
   ],
   "source": [
    "# lr2: LR + feature PCA(n_components = 7)\n",
    "from sklearn.decomposition import PCA\n",
    "\n",
    "ct = ColumnTransformer([\n",
    "    ('std_pca', make_pipeline(StandardScaler(), PCA(n_components=7)), ['measurement_{}'.format(i) for i in range(18)]), # 7개의 주성분으로 변환하는 루틴을 추가합니다.\n",
    "    ('std', StandardScaler(), ['loading']),\n",
    "    ('pt', 'passthrough', ['na_1'])\n",
    "])\n",
    "clf_lr2 = make_pipeline(ct, LogisticRegression(solver='lbfgs', C=0.03))\n",
    "eval_model('lr2', clf_lr2)"
   ]
  },
  {
   "cell_type": "code",
   "execution_count": 39,
   "id": "232c24de",
   "metadata": {},
   "outputs": [
    {
     "data": {
      "text/html": [
       "<div>\n",
       "<style scoped>\n",
       "    .dataframe tbody tr th:only-of-type {\n",
       "        vertical-align: middle;\n",
       "    }\n",
       "\n",
       "    .dataframe tbody tr th {\n",
       "        vertical-align: top;\n",
       "    }\n",
       "\n",
       "    .dataframe thead th {\n",
       "        text-align: right;\n",
       "    }\n",
       "</style>\n",
       "<table border=\"1\" class=\"dataframe\">\n",
       "  <thead>\n",
       "    <tr style=\"text-align: right;\">\n",
       "      <th></th>\n",
       "      <th>result</th>\n",
       "    </tr>\n",
       "    <tr>\n",
       "      <th>name</th>\n",
       "      <th></th>\n",
       "    </tr>\n",
       "  </thead>\n",
       "  <tbody>\n",
       "    <tr>\n",
       "      <td>baseline</td>\n",
       "      <td>Valid: 0.58957±0.00417, Train: 0.59194±0.00144</td>\n",
       "    </tr>\n",
       "    <tr>\n",
       "      <td>lr2</td>\n",
       "      <td>Valid: 0.58876±0.00340, Train: 0.59169±0.00104</td>\n",
       "    </tr>\n",
       "    <tr>\n",
       "      <td>lr3</td>\n",
       "      <td>Valid: 0.58946±0.00415, Train: 0.59178±0.00147</td>\n",
       "    </tr>\n",
       "  </tbody>\n",
       "</table>\n",
       "</div>"
      ],
      "text/plain": [
       "                                                  result\n",
       "name                                                    \n",
       "baseline  Valid: 0.58957±0.00417, Train: 0.59194±0.00144\n",
       "lr2       Valid: 0.58876±0.00340, Train: 0.59169±0.00104\n",
       "lr3       Valid: 0.58946±0.00415, Train: 0.59178±0.00147"
      ]
     },
     "metadata": {},
     "output_type": "display_data"
    }
   ],
   "source": [
    "# lr3: Basline + np.log (loading)\n",
    "from sklearn.preprocessing import FunctionTransformer\n",
    "\n",
    "ct = ColumnTransformer([\n",
    "    ('std', StandardScaler(), ['measurement_1', 'measurement_4', 'measurement_14', 'measurement_17']),\n",
    "    ('log_std', make_pipeline(FunctionTransformer(np.log, validate=False), StandardScaler()), ['loading']), # loading에 자연 log 변환을 적용합니다. \n",
    "    ('pt', 'passthrough', ['na_1'])\n",
    "])\n",
    "clf_lr3 = make_pipeline(ct, LogisticRegression(solver='lbfgs', C=0.05))\n",
    "eval_model('lr3', clf_lr3)"
   ]
  },
  {
   "cell_type": "code",
   "execution_count": 40,
   "id": "340b6c87",
   "metadata": {},
   "outputs": [
    {
     "data": {
      "text/html": [
       "<div>\n",
       "<style scoped>\n",
       "    .dataframe tbody tr th:only-of-type {\n",
       "        vertical-align: middle;\n",
       "    }\n",
       "\n",
       "    .dataframe tbody tr th {\n",
       "        vertical-align: top;\n",
       "    }\n",
       "\n",
       "    .dataframe thead th {\n",
       "        text-align: right;\n",
       "    }\n",
       "</style>\n",
       "<table border=\"1\" class=\"dataframe\">\n",
       "  <thead>\n",
       "    <tr style=\"text-align: right;\">\n",
       "      <th></th>\n",
       "      <th>result</th>\n",
       "    </tr>\n",
       "    <tr>\n",
       "      <th>name</th>\n",
       "      <th></th>\n",
       "    </tr>\n",
       "  </thead>\n",
       "  <tbody>\n",
       "    <tr>\n",
       "      <td>baseline</td>\n",
       "      <td>Valid: 0.58957±0.00417, Train: 0.59194±0.00144</td>\n",
       "    </tr>\n",
       "    <tr>\n",
       "      <td>lda</td>\n",
       "      <td>Valid: 0.58963±0.00396, Train: 0.59196±0.00148</td>\n",
       "    </tr>\n",
       "    <tr>\n",
       "      <td>lr2</td>\n",
       "      <td>Valid: 0.58876±0.00340, Train: 0.59169±0.00104</td>\n",
       "    </tr>\n",
       "    <tr>\n",
       "      <td>lr3</td>\n",
       "      <td>Valid: 0.58946±0.00415, Train: 0.59178±0.00147</td>\n",
       "    </tr>\n",
       "  </tbody>\n",
       "</table>\n",
       "</div>"
      ],
      "text/plain": [
       "                                                  result\n",
       "name                                                    \n",
       "baseline  Valid: 0.58957±0.00417, Train: 0.59194±0.00144\n",
       "lda       Valid: 0.58963±0.00396, Train: 0.59196±0.00148\n",
       "lr2       Valid: 0.58876±0.00340, Train: 0.59169±0.00104\n",
       "lr3       Valid: 0.58946±0.00415, Train: 0.59178±0.00147"
      ]
     },
     "metadata": {},
     "output_type": "display_data"
    }
   ],
   "source": [
    "# LDA 모델을 사용하여 예측해봅니다.\n",
    "from sklearn.discriminant_analysis import LinearDiscriminantAnalysis\n",
    "clf_lda = make_pipeline(\n",
    "    ColumnTransformer([\n",
    "        ('std', StandardScaler(), ['loading', 'measurement_1', 'measurement_4', 'measurement_14', 'measurement_17']),\n",
    "        ('pt', 'passthrough', ['na_1'])\n",
    "    ]), \n",
    "    LinearDiscriminantAnalysis()\n",
    ")\n",
    "eval_model('lda', clf_lda)"
   ]
  },
  {
   "cell_type": "code",
   "execution_count": 41,
   "id": "e0c61daf",
   "metadata": {},
   "outputs": [
    {
     "name": "stdout",
     "output_type": "stream",
     "text": [
      "자가 채점: 0.5892864208633093\n"
     ]
    }
   ],
   "source": [
    "prd = select_model(clf_lda)\n",
    "print(\"자가 채점: {}\".format(roc_auc_score(s_ans, prd)))"
   ]
  },
  {
   "cell_type": "code",
   "execution_count": 42,
   "id": "77931963",
   "metadata": {},
   "outputs": [
    {
     "data": {
      "text/html": [
       "<div>\n",
       "<style scoped>\n",
       "    .dataframe tbody tr th:only-of-type {\n",
       "        vertical-align: middle;\n",
       "    }\n",
       "\n",
       "    .dataframe tbody tr th {\n",
       "        vertical-align: top;\n",
       "    }\n",
       "\n",
       "    .dataframe thead th {\n",
       "        text-align: right;\n",
       "    }\n",
       "</style>\n",
       "<table border=\"1\" class=\"dataframe\">\n",
       "  <thead>\n",
       "    <tr style=\"text-align: right;\">\n",
       "      <th></th>\n",
       "      <th>result</th>\n",
       "    </tr>\n",
       "    <tr>\n",
       "      <th>name</th>\n",
       "      <th></th>\n",
       "    </tr>\n",
       "  </thead>\n",
       "  <tbody>\n",
       "    <tr>\n",
       "      <td>baseline</td>\n",
       "      <td>Valid: 0.58957±0.00417, Train: 0.59194±0.00144</td>\n",
       "    </tr>\n",
       "    <tr>\n",
       "      <td>lda</td>\n",
       "      <td>Valid: 0.58963±0.00396, Train: 0.59196±0.00148</td>\n",
       "    </tr>\n",
       "    <tr>\n",
       "      <td>lr2</td>\n",
       "      <td>Valid: 0.58876±0.00340, Train: 0.59169±0.00104</td>\n",
       "    </tr>\n",
       "    <tr>\n",
       "      <td>lr3</td>\n",
       "      <td>Valid: 0.58946±0.00415, Train: 0.59178±0.00147</td>\n",
       "    </tr>\n",
       "    <tr>\n",
       "      <td>rf</td>\n",
       "      <td>Valid: 0.57162±0.00305, Train: 0.63545±0.00143</td>\n",
       "    </tr>\n",
       "  </tbody>\n",
       "</table>\n",
       "</div>"
      ],
      "text/plain": [
       "                                                  result\n",
       "name                                                    \n",
       "baseline  Valid: 0.58957±0.00417, Train: 0.59194±0.00144\n",
       "lda       Valid: 0.58963±0.00396, Train: 0.59196±0.00148\n",
       "lr2       Valid: 0.58876±0.00340, Train: 0.59169±0.00104\n",
       "lr3       Valid: 0.58946±0.00415, Train: 0.59178±0.00147\n",
       "rf        Valid: 0.57162±0.00305, Train: 0.63545±0.00143"
      ]
     },
     "metadata": {},
     "output_type": "display_data"
    }
   ],
   "source": [
    "# RF: RandomForestClassifier: {'max_depth': 7, 'min_samples_split': 512, 'n_estimators': 15} 에서\n",
    "\n",
    "from sklearn.ensemble import RandomForestClassifier\n",
    "ct = ColumnTransformer([\n",
    "    ('pt', 'passthrough', ['loading', 'na_1', 'na_2'] + ['measurement_{}'.format(i) for i in range(18)])\n",
    "])\n",
    "clf_rf = make_pipeline(ct, RandomForestClassifier(\n",
    "    n_estimators=15, max_depth=7, min_samples_split=512, random_state=123 # TODO 튜닝\n",
    "))\n",
    "eval_model('rf', clf_rf)"
   ]
  },
  {
   "cell_type": "code",
   "execution_count": 47,
   "id": "cd18f519",
   "metadata": {},
   "outputs": [
    {
     "data": {
      "text/html": [
       "<div>\n",
       "<style scoped>\n",
       "    .dataframe tbody tr th:only-of-type {\n",
       "        vertical-align: middle;\n",
       "    }\n",
       "\n",
       "    .dataframe tbody tr th {\n",
       "        vertical-align: top;\n",
       "    }\n",
       "\n",
       "    .dataframe thead th {\n",
       "        text-align: right;\n",
       "    }\n",
       "</style>\n",
       "<table border=\"1\" class=\"dataframe\">\n",
       "  <thead>\n",
       "    <tr style=\"text-align: right;\">\n",
       "      <th></th>\n",
       "      <th>result</th>\n",
       "    </tr>\n",
       "    <tr>\n",
       "      <th>name</th>\n",
       "      <th></th>\n",
       "    </tr>\n",
       "  </thead>\n",
       "  <tbody>\n",
       "    <tr>\n",
       "      <td>baseline</td>\n",
       "      <td>Valid: 0.58957±0.00417, Train: 0.59194±0.00144</td>\n",
       "    </tr>\n",
       "    <tr>\n",
       "      <td>lda</td>\n",
       "      <td>Valid: 0.58963±0.00396, Train: 0.59196±0.00148</td>\n",
       "    </tr>\n",
       "    <tr>\n",
       "      <td>lr2</td>\n",
       "      <td>Valid: 0.58876±0.00340, Train: 0.59169±0.00104</td>\n",
       "    </tr>\n",
       "    <tr>\n",
       "      <td>lr3</td>\n",
       "      <td>Valid: 0.58946±0.00415, Train: 0.59178±0.00147</td>\n",
       "    </tr>\n",
       "    <tr>\n",
       "      <td>rf</td>\n",
       "      <td>Valid: 0.58163±0.00300, Train: 0.63956±0.00229</td>\n",
       "    </tr>\n",
       "  </tbody>\n",
       "</table>\n",
       "</div>"
      ],
      "text/plain": [
       "                                                  result\n",
       "name                                                    \n",
       "baseline  Valid: 0.58957±0.00417, Train: 0.59194±0.00144\n",
       "lda       Valid: 0.58963±0.00396, Train: 0.59196±0.00148\n",
       "lr2       Valid: 0.58876±0.00340, Train: 0.59169±0.00104\n",
       "lr3       Valid: 0.58946±0.00415, Train: 0.59178±0.00147\n",
       "rf        Valid: 0.58163±0.00300, Train: 0.63956±0.00229"
      ]
     },
     "metadata": {},
     "output_type": "display_data"
    }
   ],
   "source": [
    "# RF: RandomForestClassifier: {'max_depth': 7, 'min_samples_split': 512, 'n_estimators': 15} 에서\n",
    "\n",
    "from sklearn.ensemble import RandomForestClassifier\n",
    "ct = ColumnTransformer([\n",
    "    ('pt', 'passthrough', ['loading', 'na_1', 'na_2'] + ['measurement_{}'.format(i) for i in range(18)])\n",
    "])\n",
    "clf_rf = make_pipeline(ct, RandomForestClassifier(\n",
    "    n_estimators=100, max_depth=6, min_samples_split=512, random_state=123, max_features=0.75,  # TODO 튜닝\n",
    "))\n",
    "eval_model('rf', clf_rf)"
   ]
  },
  {
   "cell_type": "code",
   "execution_count": 50,
   "id": "115ed36a",
   "metadata": {},
   "outputs": [
    {
     "data": {
      "text/html": [
       "<div>\n",
       "<style scoped>\n",
       "    .dataframe tbody tr th:only-of-type {\n",
       "        vertical-align: middle;\n",
       "    }\n",
       "\n",
       "    .dataframe tbody tr th {\n",
       "        vertical-align: top;\n",
       "    }\n",
       "\n",
       "    .dataframe thead th {\n",
       "        text-align: right;\n",
       "    }\n",
       "</style>\n",
       "<table border=\"1\" class=\"dataframe\">\n",
       "  <thead>\n",
       "    <tr style=\"text-align: right;\">\n",
       "      <th></th>\n",
       "      <th>result</th>\n",
       "    </tr>\n",
       "    <tr>\n",
       "      <th>name</th>\n",
       "      <th></th>\n",
       "    </tr>\n",
       "  </thead>\n",
       "  <tbody>\n",
       "    <tr>\n",
       "      <td>baseline</td>\n",
       "      <td>Valid: 0.58957±0.00417, Train: 0.59194±0.00144</td>\n",
       "    </tr>\n",
       "    <tr>\n",
       "      <td>lda</td>\n",
       "      <td>Valid: 0.58963±0.00396, Train: 0.59196±0.00148</td>\n",
       "    </tr>\n",
       "    <tr>\n",
       "      <td>lr2</td>\n",
       "      <td>Valid: 0.58876±0.00340, Train: 0.59169±0.00104</td>\n",
       "    </tr>\n",
       "    <tr>\n",
       "      <td>lr3</td>\n",
       "      <td>Valid: 0.58946±0.00415, Train: 0.59178±0.00147</td>\n",
       "    </tr>\n",
       "    <tr>\n",
       "      <td>rf</td>\n",
       "      <td>Valid: 0.58163±0.00300, Train: 0.63956±0.00229</td>\n",
       "    </tr>\n",
       "    <tr>\n",
       "      <td>rf2</td>\n",
       "      <td>Valid: 0.58567±0.00221, Train: 0.62854±0.00269</td>\n",
       "    </tr>\n",
       "  </tbody>\n",
       "</table>\n",
       "</div>"
      ],
      "text/plain": [
       "                                                  result\n",
       "name                                                    \n",
       "baseline  Valid: 0.58957±0.00417, Train: 0.59194±0.00144\n",
       "lda       Valid: 0.58963±0.00396, Train: 0.59196±0.00148\n",
       "lr2       Valid: 0.58876±0.00340, Train: 0.59169±0.00104\n",
       "lr3       Valid: 0.58946±0.00415, Train: 0.59178±0.00147\n",
       "rf        Valid: 0.58163±0.00300, Train: 0.63956±0.00229\n",
       "rf2       Valid: 0.58567±0.00221, Train: 0.62854±0.00269"
      ]
     },
     "metadata": {},
     "output_type": "display_data"
    }
   ],
   "source": [
    "# RF: RandomForestClassifier + LinearDiscriminantAnalysis\n",
    "\n",
    "from sklearn.discriminant_analysis import LinearDiscriminantAnalysis\n",
    "from sklearn.ensemble import RandomForestClassifier\n",
    "\n",
    "ct = ColumnTransformer([\n",
    "    ('std_lda', make_pipeline(StandardScaler(), LinearDiscriminantAnalysis()), ['measurement_{}'.format(i) for i in range(18)]), # 표준화 + LDA 변환\n",
    "    ('pt', 'passthrough', ['loading', 'na_1', 'na_2'])# + ['measurement_{}'.format(i) for i in range(18)])\n",
    "])\n",
    "clf_rf2 = make_pipeline(ct, RandomForestClassifier(\n",
    "    n_estimators=100, max_depth=6, min_samples_split=512, random_state=123, max_features=0.75\n",
    "))\n",
    "eval_model('rf2', clf_rf2)"
   ]
  },
  {
   "cell_type": "code",
   "execution_count": 59,
   "id": "1116472c",
   "metadata": {},
   "outputs": [
    {
     "data": {
      "text/html": [
       "<div>\n",
       "<style scoped>\n",
       "    .dataframe tbody tr th:only-of-type {\n",
       "        vertical-align: middle;\n",
       "    }\n",
       "\n",
       "    .dataframe tbody tr th {\n",
       "        vertical-align: top;\n",
       "    }\n",
       "\n",
       "    .dataframe thead th {\n",
       "        text-align: right;\n",
       "    }\n",
       "</style>\n",
       "<table border=\"1\" class=\"dataframe\">\n",
       "  <thead>\n",
       "    <tr style=\"text-align: right;\">\n",
       "      <th></th>\n",
       "      <th>result</th>\n",
       "    </tr>\n",
       "    <tr>\n",
       "      <th>name</th>\n",
       "      <th></th>\n",
       "    </tr>\n",
       "  </thead>\n",
       "  <tbody>\n",
       "    <tr>\n",
       "      <td>baseline</td>\n",
       "      <td>Valid: 0.58957±0.00417, Train: 0.59194±0.00144</td>\n",
       "    </tr>\n",
       "    <tr>\n",
       "      <td>lda</td>\n",
       "      <td>Valid: 0.58963±0.00396, Train: 0.59196±0.00148</td>\n",
       "    </tr>\n",
       "    <tr>\n",
       "      <td>lr2</td>\n",
       "      <td>Valid: 0.58876±0.00340, Train: 0.59169±0.00104</td>\n",
       "    </tr>\n",
       "    <tr>\n",
       "      <td>lr3</td>\n",
       "      <td>Valid: 0.58946±0.00415, Train: 0.59178±0.00147</td>\n",
       "    </tr>\n",
       "    <tr>\n",
       "      <td>rf</td>\n",
       "      <td>Valid: 0.58163±0.00300, Train: 0.63956±0.00229</td>\n",
       "    </tr>\n",
       "    <tr>\n",
       "      <td>rf2</td>\n",
       "      <td>Valid: 0.58513±0.00213, Train: 0.62926±0.00249</td>\n",
       "    </tr>\n",
       "    <tr>\n",
       "      <td>xgb</td>\n",
       "      <td>Valid: 0.58310±0.00282, Train: 0.63206±0.00148</td>\n",
       "    </tr>\n",
       "  </tbody>\n",
       "</table>\n",
       "</div>"
      ],
      "text/plain": [
       "                                                  result\n",
       "name                                                    \n",
       "baseline  Valid: 0.58957±0.00417, Train: 0.59194±0.00144\n",
       "lda       Valid: 0.58963±0.00396, Train: 0.59196±0.00148\n",
       "lr2       Valid: 0.58876±0.00340, Train: 0.59169±0.00104\n",
       "lr3       Valid: 0.58946±0.00415, Train: 0.59178±0.00147\n",
       "rf        Valid: 0.58163±0.00300, Train: 0.63956±0.00229\n",
       "rf2       Valid: 0.58513±0.00213, Train: 0.62926±0.00249\n",
       "xgb       Valid: 0.58310±0.00282, Train: 0.63206±0.00148"
      ]
     },
     "metadata": {},
     "output_type": "display_data"
    }
   ],
   "source": [
    "# XGB: XGBoost \n",
    "\n",
    "import xgboost as xgb\n",
    "ct = ColumnTransformer([\n",
    "    ('pt', 'passthrough', ['loading', 'na_1', 'na_2'] + ['measurement_{}'.format(i) for i in range(18)])\n",
    "])\n",
    "clf_xgb = xgb.XGBClassifier(\n",
    "    n_estimators=300, learning_rate=0.01, colsample_bytree=0.75, subsample=0.75\n",
    ")\n",
    "clf_xgb = make_pipeline(ct, clf_xgb)\n",
    "eval_model('xgb', clf_xgb)"
   ]
  },
  {
   "cell_type": "code",
   "execution_count": 63,
   "id": "f5220150",
   "metadata": {},
   "outputs": [
    {
     "data": {
      "text/html": [
       "<div>\n",
       "<style scoped>\n",
       "    .dataframe tbody tr th:only-of-type {\n",
       "        vertical-align: middle;\n",
       "    }\n",
       "\n",
       "    .dataframe tbody tr th {\n",
       "        vertical-align: top;\n",
       "    }\n",
       "\n",
       "    .dataframe thead th {\n",
       "        text-align: right;\n",
       "    }\n",
       "</style>\n",
       "<table border=\"1\" class=\"dataframe\">\n",
       "  <thead>\n",
       "    <tr style=\"text-align: right;\">\n",
       "      <th></th>\n",
       "      <th>result</th>\n",
       "    </tr>\n",
       "    <tr>\n",
       "      <th>name</th>\n",
       "      <th></th>\n",
       "    </tr>\n",
       "  </thead>\n",
       "  <tbody>\n",
       "    <tr>\n",
       "      <td>baseline</td>\n",
       "      <td>Valid: 0.58957±0.00417, Train: 0.59194±0.00144</td>\n",
       "    </tr>\n",
       "    <tr>\n",
       "      <td>lda</td>\n",
       "      <td>Valid: 0.58963±0.00396, Train: 0.59196±0.00148</td>\n",
       "    </tr>\n",
       "    <tr>\n",
       "      <td>lr2</td>\n",
       "      <td>Valid: 0.58876±0.00340, Train: 0.59169±0.00104</td>\n",
       "    </tr>\n",
       "    <tr>\n",
       "      <td>lr3</td>\n",
       "      <td>Valid: 0.58946±0.00415, Train: 0.59178±0.00147</td>\n",
       "    </tr>\n",
       "    <tr>\n",
       "      <td>rf</td>\n",
       "      <td>Valid: 0.58163±0.00300, Train: 0.63956±0.00229</td>\n",
       "    </tr>\n",
       "    <tr>\n",
       "      <td>rf2</td>\n",
       "      <td>Valid: 0.58513±0.00213, Train: 0.62926±0.00249</td>\n",
       "    </tr>\n",
       "    <tr>\n",
       "      <td>vt</td>\n",
       "      <td>Valid: 0.59011±0.00322, Train: 0.60323±0.00153</td>\n",
       "    </tr>\n",
       "    <tr>\n",
       "      <td>xgb</td>\n",
       "      <td>Valid: 0.58310±0.00282, Train: 0.63206±0.00148</td>\n",
       "    </tr>\n",
       "  </tbody>\n",
       "</table>\n",
       "</div>"
      ],
      "text/plain": [
       "                                                  result\n",
       "name                                                    \n",
       "baseline  Valid: 0.58957±0.00417, Train: 0.59194±0.00144\n",
       "lda       Valid: 0.58963±0.00396, Train: 0.59196±0.00148\n",
       "lr2       Valid: 0.58876±0.00340, Train: 0.59169±0.00104\n",
       "lr3       Valid: 0.58946±0.00415, Train: 0.59178±0.00147\n",
       "rf        Valid: 0.58163±0.00300, Train: 0.63956±0.00229\n",
       "rf2       Valid: 0.58513±0.00213, Train: 0.62926±0.00249\n",
       "vt        Valid: 0.59011±0.00322, Train: 0.60323±0.00153\n",
       "xgb       Valid: 0.58310±0.00282, Train: 0.63206±0.00148"
      ]
     },
     "metadata": {},
     "output_type": "display_data"
    }
   ],
   "source": [
    "# Voting을 합니다.\n",
    "from sklearn.ensemble import VotingClassifier\n",
    "\n",
    "clf_vt = VotingClassifier([\n",
    "    ('baseline', clf_lr), # LR + SFS\n",
    "    ('lr2', clf_lr2), # LR.2: LR +  PCA n_components=7\n",
    "    #('lr3', clf_lr3), # Basline + np.log (loading)\n",
    "    ('lda', clf_lda), # LDA\n",
    "    #('rf', clf_rf), # RF 튜닝\n",
    "    ('rf2', clf_rf2), # RF + LDA\n",
    "    #('xgb', clf_xgb), # XGB\n",
    "], voting='soft')\n",
    "eval_model('vt', clf_vt)"
   ]
  },
  {
   "cell_type": "code",
   "execution_count": 64,
   "id": "59b01092",
   "metadata": {},
   "outputs": [
    {
     "name": "stdout",
     "output_type": "stream",
     "text": [
      "자가 채점: 0.5909363758992806\n"
     ]
    }
   ],
   "source": [
    "prd = select_model(clf_vt)\n",
    "print(\"자가 채점: {}\".format(roc_auc_score(s_ans, prd)))"
   ]
  },
  {
   "cell_type": "code",
   "execution_count": 67,
   "id": "775b8656",
   "metadata": {},
   "outputs": [
    {
     "data": {
      "text/html": [
       "<div>\n",
       "<style scoped>\n",
       "    .dataframe tbody tr th:only-of-type {\n",
       "        vertical-align: middle;\n",
       "    }\n",
       "\n",
       "    .dataframe tbody tr th {\n",
       "        vertical-align: top;\n",
       "    }\n",
       "\n",
       "    .dataframe thead th {\n",
       "        text-align: right;\n",
       "    }\n",
       "</style>\n",
       "<table border=\"1\" class=\"dataframe\">\n",
       "  <thead>\n",
       "    <tr style=\"text-align: right;\">\n",
       "      <th></th>\n",
       "      <th>baseline</th>\n",
       "      <th>lr2</th>\n",
       "      <th>lda</th>\n",
       "      <th>rf2</th>\n",
       "    </tr>\n",
       "    <tr>\n",
       "      <th>id</th>\n",
       "      <th></th>\n",
       "      <th></th>\n",
       "      <th></th>\n",
       "      <th></th>\n",
       "    </tr>\n",
       "  </thead>\n",
       "  <tbody>\n",
       "    <tr>\n",
       "      <td>16115</td>\n",
       "      <td>0.145573</td>\n",
       "      <td>0.157836</td>\n",
       "      <td>0.140965</td>\n",
       "      <td>0.145956</td>\n",
       "    </tr>\n",
       "    <tr>\n",
       "      <td>16116</td>\n",
       "      <td>0.178286</td>\n",
       "      <td>0.170452</td>\n",
       "      <td>0.174935</td>\n",
       "      <td>0.182974</td>\n",
       "    </tr>\n",
       "    <tr>\n",
       "      <td>16117</td>\n",
       "      <td>0.214873</td>\n",
       "      <td>0.215437</td>\n",
       "      <td>0.214288</td>\n",
       "      <td>0.206596</td>\n",
       "    </tr>\n",
       "    <tr>\n",
       "      <td>16118</td>\n",
       "      <td>0.262315</td>\n",
       "      <td>0.264817</td>\n",
       "      <td>0.267748</td>\n",
       "      <td>0.233936</td>\n",
       "    </tr>\n",
       "    <tr>\n",
       "      <td>16119</td>\n",
       "      <td>0.214516</td>\n",
       "      <td>0.208379</td>\n",
       "      <td>0.213243</td>\n",
       "      <td>0.224728</td>\n",
       "    </tr>\n",
       "    <tr>\n",
       "      <td>...</td>\n",
       "      <td>...</td>\n",
       "      <td>...</td>\n",
       "      <td>...</td>\n",
       "      <td>...</td>\n",
       "    </tr>\n",
       "    <tr>\n",
       "      <td>21222</td>\n",
       "      <td>0.176165</td>\n",
       "      <td>0.171221</td>\n",
       "      <td>0.174082</td>\n",
       "      <td>0.164071</td>\n",
       "    </tr>\n",
       "    <tr>\n",
       "      <td>21223</td>\n",
       "      <td>0.311826</td>\n",
       "      <td>0.314122</td>\n",
       "      <td>0.318542</td>\n",
       "      <td>0.321941</td>\n",
       "    </tr>\n",
       "    <tr>\n",
       "      <td>21224</td>\n",
       "      <td>0.172121</td>\n",
       "      <td>0.165265</td>\n",
       "      <td>0.168644</td>\n",
       "      <td>0.159337</td>\n",
       "    </tr>\n",
       "    <tr>\n",
       "      <td>21225</td>\n",
       "      <td>0.216167</td>\n",
       "      <td>0.240724</td>\n",
       "      <td>0.217632</td>\n",
       "      <td>0.207907</td>\n",
       "    </tr>\n",
       "    <tr>\n",
       "      <td>21226</td>\n",
       "      <td>0.197790</td>\n",
       "      <td>0.216399</td>\n",
       "      <td>0.194109</td>\n",
       "      <td>0.184824</td>\n",
       "    </tr>\n",
       "  </tbody>\n",
       "</table>\n",
       "<p>5112 rows × 4 columns</p>\n",
       "</div>"
      ],
      "text/plain": [
       "       baseline       lr2       lda       rf2\n",
       "id                                           \n",
       "16115  0.145573  0.157836  0.140965  0.145956\n",
       "16116  0.178286  0.170452  0.174935  0.182974\n",
       "16117  0.214873  0.215437  0.214288  0.206596\n",
       "16118  0.262315  0.264817  0.267748  0.233936\n",
       "16119  0.214516  0.208379  0.213243  0.224728\n",
       "...         ...       ...       ...       ...\n",
       "21222  0.176165  0.171221  0.174082  0.164071\n",
       "21223  0.311826  0.314122  0.318542  0.321941\n",
       "21224  0.172121  0.165265  0.168644  0.159337\n",
       "21225  0.216167  0.240724  0.217632  0.207907\n",
       "21226  0.197790  0.216399  0.194109  0.184824\n",
       "\n",
       "[5112 rows x 4 columns]"
      ]
     },
     "execution_count": 67,
     "metadata": {},
     "output_type": "execute_result"
    }
   ],
   "source": [
    "# Voting  을 직접해 봅니다.\n",
    "model_list = [\n",
    "    ('baseline', clf_lr), # LR + SFS\n",
    "    ('lr2', clf_lr2), # LR.2: LR + feature PCA\n",
    "    ('lda', clf_lda), # LDA\n",
    "    ('rf2', clf_rf2), # RF + LDA\n",
    "]\n",
    "\n",
    "df_vt = pd.concat([\n",
    "    pd.Series(\n",
    "        clf.fit(df_train[X_all], df_train['failure']).predict_proba(df_test[X_all])[:, 1],\n",
    "        index=df_test.index, name=name\n",
    "    ) for name, clf in model_list\n",
    "], axis=1)\n",
    "df_vt"
   ]
  },
  {
   "cell_type": "code",
   "execution_count": 69,
   "id": "69b49c45",
   "metadata": {},
   "outputs": [
    {
     "name": "stdout",
     "output_type": "stream",
     "text": [
      "자가 채점: 0.5909361510791367\n"
     ]
    }
   ],
   "source": [
    "print(\"자가 채점: {}\".format(roc_auc_score(s_ans, df_vt.mean(axis=1))))"
   ]
  },
  {
   "cell_type": "markdown",
   "id": "bd01aca8",
   "metadata": {},
   "source": [
    "## Stacking\n",
    "\n",
    "다른 앙상블 기법인 Stacking을 보여드립니다.\n",
    "\n",
    "\n",
    "참고용입니다. 지금까지 했던 데이터 처리와 머신러닝 기법을 복습해보기 위해 준비했습니다."
   ]
  },
  {
   "cell_type": "markdown",
   "id": "71f51410",
   "metadata": {},
   "source": [
    "![image.png](data:image/png;base64,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)\n",
    "\n",
    "※ 이미지 출처: https://www.mdpi.com/2076-3417/12/19/9729"
   ]
  },
  {
   "cell_type": "code",
   "execution_count": 71,
   "id": "8cc43069",
   "metadata": {},
   "outputs": [
    {
     "data": {
      "text/html": [
       "<div>\n",
       "<style scoped>\n",
       "    .dataframe tbody tr th:only-of-type {\n",
       "        vertical-align: middle;\n",
       "    }\n",
       "\n",
       "    .dataframe tbody tr th {\n",
       "        vertical-align: top;\n",
       "    }\n",
       "\n",
       "    .dataframe thead th {\n",
       "        text-align: right;\n",
       "    }\n",
       "</style>\n",
       "<table border=\"1\" class=\"dataframe\">\n",
       "  <thead>\n",
       "    <tr style=\"text-align: right;\">\n",
       "      <th></th>\n",
       "      <th>baseline</th>\n",
       "      <th>lr2</th>\n",
       "      <th>lda</th>\n",
       "      <th>rf2</th>\n",
       "    </tr>\n",
       "    <tr>\n",
       "      <th>id</th>\n",
       "      <th></th>\n",
       "      <th></th>\n",
       "      <th></th>\n",
       "      <th></th>\n",
       "    </tr>\n",
       "  </thead>\n",
       "  <tbody>\n",
       "    <tr>\n",
       "      <td>0</td>\n",
       "      <td>0.152913</td>\n",
       "      <td>0.163695</td>\n",
       "      <td>0.148474</td>\n",
       "      <td>0.143036</td>\n",
       "    </tr>\n",
       "    <tr>\n",
       "      <td>1</td>\n",
       "      <td>0.158226</td>\n",
       "      <td>0.160571</td>\n",
       "      <td>0.154085</td>\n",
       "      <td>0.140442</td>\n",
       "    </tr>\n",
       "    <tr>\n",
       "      <td>2</td>\n",
       "      <td>0.166793</td>\n",
       "      <td>0.176534</td>\n",
       "      <td>0.162389</td>\n",
       "      <td>0.174085</td>\n",
       "    </tr>\n",
       "    <tr>\n",
       "      <td>3</td>\n",
       "      <td>0.194730</td>\n",
       "      <td>0.198322</td>\n",
       "      <td>0.191887</td>\n",
       "      <td>0.197415</td>\n",
       "    </tr>\n",
       "    <tr>\n",
       "      <td>4</td>\n",
       "      <td>0.242718</td>\n",
       "      <td>0.252152</td>\n",
       "      <td>0.249124</td>\n",
       "      <td>0.249651</td>\n",
       "    </tr>\n",
       "  </tbody>\n",
       "</table>\n",
       "</div>"
      ],
      "text/plain": [
       "    baseline       lr2       lda       rf2\n",
       "id                                        \n",
       "0   0.152913  0.163695  0.148474  0.143036\n",
       "1   0.158226  0.160571  0.154085  0.140442\n",
       "2   0.166793  0.176534  0.162389  0.174085\n",
       "3   0.194730  0.198322  0.191887  0.197415\n",
       "4   0.242718  0.252152  0.249124  0.249651"
      ]
     },
     "execution_count": 71,
     "metadata": {},
     "output_type": "execute_result"
    }
   ],
   "source": [
    "# 1단계: Cross Validation 예측결과를 모아 메타 모델 학습을 위한 데이터셋을 만듭니다.\n",
    "\n",
    "# 메타 모델이 접하게되는 데이터는 1차 모델의 예측 결과 인데, \n",
    "# 일반화 성능을 높이려면 이 데이터의 분포가 학습하지 않았던 데이터의 분포와 비슷해야 합니다.\n",
    "# 학습에 사용되지 않았던 겹외셋의 예측 결과 사용하여, \n",
    "# 이렇게 데이터의 분포를 실제 예측시의 분포와 최대한 유사하게 해줍니다.\n",
    "from sklearn.model_selection import cross_val_predict\n",
    "model_list = [\n",
    "    ('baseline', clf_lr), # LR + SFS\n",
    "    ('lr2', clf_lr2), # LR.2: LR + feature PCA\n",
    "    ('lda', clf_lda), # LDA\n",
    "    ('rf2', clf_rf2), # RF + LDA\n",
    "]\n",
    "# 메타모델을 위한 학습셋을 만듭니다. \n",
    "# cross_val_predict는 교차검증의 예측 결과를 입력 변수의 순서에 맞게 제공합니다.\n",
    "df_cv = pd.concat([\n",
    "    pd.Series(\n",
    "        cross_val_predict(\n",
    "            clf, df_train[X_all], df_train['failure'], groups=df_train['product_code'], cv=gcv, method='predict_proba'\n",
    "        )[:, 1],\n",
    "        index=df_train.index, name=model_name\n",
    "    )\n",
    "    for model_name, clf in model_list\n",
    "], axis=1)\n",
    "df_cv.head()"
   ]
  },
  {
   "cell_type": "code",
   "execution_count": 73,
   "id": "5f5a2879",
   "metadata": {},
   "outputs": [
    {
     "data": {
      "text/plain": [
       "0.5897974962485226"
      ]
     },
     "execution_count": 73,
     "metadata": {},
     "output_type": "execute_result"
    }
   ],
   "source": [
    "# 메타 모델을 검증을 해봅니다.\n",
    "from sklearn.linear_model import LogisticRegression\n",
    "from sklearn.model_selection import cross_val_score\n",
    "clf_meta_lr = LogisticRegression(solver='lbfgs')\n",
    "X_stk = ['baseline', 'lr2', 'lda', 'rf2']\n",
    "np.mean(\n",
    "    cross_val_score(\n",
    "        clf_meta_lr, df_cv[X_stk], df_train['failure'], \n",
    "        groups=df_train['product_code'], scoring='roc_auc', cv=gcv\n",
    "    )\n",
    ")"
   ]
  },
  {
   "cell_type": "code",
   "execution_count": 74,
   "id": "2a85ad5b",
   "metadata": {},
   "outputs": [
    {
     "data": {
      "text/html": [
       "<div>\n",
       "<style scoped>\n",
       "    .dataframe tbody tr th:only-of-type {\n",
       "        vertical-align: middle;\n",
       "    }\n",
       "\n",
       "    .dataframe tbody tr th {\n",
       "        vertical-align: top;\n",
       "    }\n",
       "\n",
       "    .dataframe thead th {\n",
       "        text-align: right;\n",
       "    }\n",
       "</style>\n",
       "<table border=\"1\" class=\"dataframe\">\n",
       "  <thead>\n",
       "    <tr style=\"text-align: right;\">\n",
       "      <th></th>\n",
       "      <th>baseline</th>\n",
       "      <th>lr2</th>\n",
       "      <th>lda</th>\n",
       "      <th>rf2</th>\n",
       "    </tr>\n",
       "    <tr>\n",
       "      <th>id</th>\n",
       "      <th></th>\n",
       "      <th></th>\n",
       "      <th></th>\n",
       "      <th></th>\n",
       "    </tr>\n",
       "  </thead>\n",
       "  <tbody>\n",
       "    <tr>\n",
       "      <td>16115</td>\n",
       "      <td>0.145573</td>\n",
       "      <td>0.157834</td>\n",
       "      <td>0.140965</td>\n",
       "      <td>0.145956</td>\n",
       "    </tr>\n",
       "    <tr>\n",
       "      <td>16116</td>\n",
       "      <td>0.178286</td>\n",
       "      <td>0.170453</td>\n",
       "      <td>0.174935</td>\n",
       "      <td>0.182974</td>\n",
       "    </tr>\n",
       "    <tr>\n",
       "      <td>16117</td>\n",
       "      <td>0.214873</td>\n",
       "      <td>0.215439</td>\n",
       "      <td>0.214288</td>\n",
       "      <td>0.206596</td>\n",
       "    </tr>\n",
       "    <tr>\n",
       "      <td>16118</td>\n",
       "      <td>0.262315</td>\n",
       "      <td>0.264817</td>\n",
       "      <td>0.267748</td>\n",
       "      <td>0.233936</td>\n",
       "    </tr>\n",
       "    <tr>\n",
       "      <td>16119</td>\n",
       "      <td>0.214516</td>\n",
       "      <td>0.208383</td>\n",
       "      <td>0.213243</td>\n",
       "      <td>0.224728</td>\n",
       "    </tr>\n",
       "  </tbody>\n",
       "</table>\n",
       "</div>"
      ],
      "text/plain": [
       "       baseline       lr2       lda       rf2\n",
       "id                                           \n",
       "16115  0.145573  0.157834  0.140965  0.145956\n",
       "16116  0.178286  0.170453  0.174935  0.182974\n",
       "16117  0.214873  0.215439  0.214288  0.206596\n",
       "16118  0.262315  0.264817  0.267748  0.233936\n",
       "16119  0.214516  0.208383  0.213243  0.224728"
      ]
     },
     "metadata": {},
     "output_type": "display_data"
    },
    {
     "name": "stdout",
     "output_type": "stream",
     "text": [
      "채점 결과: 0.591072392086331\n"
     ]
    }
   ],
   "source": [
    "# 2단계 메타 모델을 학습 시키고, 예측해 봅니다.\n",
    "\n",
    "# 테스트 메타 모델 데이터를 만듭니다.\n",
    "df_stk_test = pd.concat([\n",
    "    pd.Series(\n",
    "        clf.fit(df_train[X_all], df_train['failure']).predict_proba(df_test[X_all])[:, 1],\n",
    "        index=df_test.index, name=model_name\n",
    "    )\n",
    "    for model_name, clf in model_list\n",
    "], axis=1)\n",
    "display(df_stk_test.head())\n",
    "# 메타 모델을 학습 시키고, 테스트 메타 모델 데이터로 예측을 합니다.\n",
    "prd = clf_meta_lr.fit(df_cv[X_stk], df_train['failure']).predict_proba(df_stk_test[X_stk])[:, 1]\n",
    "print(\"채점 결과:\", roc_auc_score(s_ans, prd))"
   ]
  },
  {
   "cell_type": "code",
   "execution_count": null,
   "id": "e284273d",
   "metadata": {},
   "outputs": [],
   "source": []
  }
 ],
 "metadata": {
  "kernelspec": {
   "display_name": "Python 3 (ipykernel)",
   "language": "python",
   "name": "python3"
  },
  "language_info": {
   "codemirror_mode": {
    "name": "ipython",
    "version": 3
   },
   "file_extension": ".py",
   "mimetype": "text/x-python",
   "name": "python",
   "nbconvert_exporter": "python",
   "pygments_lexer": "ipython3",
   "version": "3.7.4"
  }
 },
 "nbformat": 4,
 "nbformat_minor": 5
}
